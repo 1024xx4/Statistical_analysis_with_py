{
 "cells": [
  {
   "cell_type": "markdown",
   "metadata": {
    "collapsed": true,
    "pycharm": {
     "name": "#%% md\n"
    }
   },
   "source": [
    "# 統計的推定\n",
    "- 母平均に関する区間推定\n",
    "- 母分散に関する点推定、区間推定\n",
    "を行なう。\n",
    "\n",
    "20人分の Data から学校全体である 400人分の平均点や分散をどれだけ推定できるのか確認する"
   ]
  },
  {
   "cell_type": "code",
   "execution_count": 48,
   "outputs": [
    {
     "data": {
      "text/plain": "'%.3f'"
     },
     "execution_count": 48,
     "metadata": {},
     "output_type": "execute_result"
    }
   ],
   "source": [
    "import numpy as np\n",
    "import pandas as pd\n",
    "import matplotlib.pyplot as plt\n",
    "import japanize_matplotlib\n",
    "from scipy import stats\n",
    "from IPython.display import display\n",
    "\n",
    "%precision 3"
   ],
   "metadata": {
    "collapsed": false,
    "pycharm": {
     "name": "#%%\n"
    }
   }
  },
  {
   "cell_type": "code",
   "execution_count": 49,
   "outputs": [],
   "source": [
    "# Test data の準備\n",
    "df = pd.read_csv('../data/ch4_scores400.csv')\n",
    "scores = np.array(df['点数'])"
   ],
   "metadata": {
    "collapsed": false,
    "pycharm": {
     "name": "#%%\n"
    }
   }
  },
  {
   "cell_type": "code",
   "execution_count": 50,
   "outputs": [
    {
     "data": {
      "text/plain": "(69.530, 206.669)"
     },
     "execution_count": 50,
     "metadata": {},
     "output_type": "execute_result"
    }
   ],
   "source": [
    "# 正解となる母平均 μ と母分散 σ**2 いついて求めておく\n",
    "p_mean = np.mean(scores)  # 母平均: μ\n",
    "p_var = np.var(scores)  # 母分散：σ**2\n",
    "\n",
    "p_mean, p_var"
   ],
   "metadata": {
    "collapsed": false,
    "pycharm": {
     "name": "#%%\n"
    }
   }
  },
  {
   "cell_type": "markdown",
   "source": [
    "区間推定を行なう際に母集団が正規分布に従っていることを仮定する。\n",
    "仮定がどの程度妥当なのか、全生徒の点数の Histogram に N(μ, σ**2) を重ねて図示してみる"
   ],
   "metadata": {
    "collapsed": false,
    "pycharm": {
     "name": "#%% md\n"
    }
   }
  },
  {
   "cell_type": "code",
   "execution_count": 51,
   "outputs": [
    {
     "data": {
      "text/plain": "<Figure size 720x432 with 1 Axes>",
      "image/png": "[encoded data removed]"
     },
     "metadata": {
      "needs_background": "light"
     },
     "output_type": "display_data"
    }
   ],
   "source": [
    "fig = plt.figure(figsize=(10, 6))\n",
    "ax = fig.add_subplot(111)\n",
    "\n",
    "xs = np.arange(101)\n",
    "rv = stats.norm(p_mean, np.sqrt(p_var))\n",
    "ax.plot(xs, rv.pdf(xs), color='gray')\n",
    "ax.hist(scores, bins=100, range=(0, 100), density=True)\n",
    "\n",
    "plt.show()"
   ],
   "metadata": {
    "collapsed": false,
    "pycharm": {
     "name": "#%%\n"
    }
   }
  },
  {
   "cell_type": "markdown",
   "source": [
    "きれいな分布ではないが、正規分布に近い特徴を持った分布となっている。"
   ],
   "metadata": {
    "collapsed": false,
    "pycharm": {
     "name": "#%% md\n"
    }
   }
  },
  {
   "cell_type": "markdown",
   "source": [
    "無作為抽出した20人分の標本 Data を準備する\n",
    "※本来はこの Data しか知らない。"
   ],
   "metadata": {
    "collapsed": false,
    "pycharm": {
     "name": "#%% md\n"
    }
   }
  },
  {
   "cell_type": "code",
   "execution_count": 52,
   "outputs": [
    {
     "data": {
      "text/plain": "array([49, 60, 72, 86, 52, 61, 77, 91, 80, 56, 69, 67, 90, 56, 75, 79, 60,\n       79, 68, 81])"
     },
     "metadata": {},
     "output_type": "display_data"
    }
   ],
   "source": [
    "np.random.seed(0)\n",
    "n = 20\n",
    "sample = np.random.choice(scores, n)\n",
    "display(sample)"
   ],
   "metadata": {
    "collapsed": false,
    "pycharm": {
     "name": "#%%\n"
    }
   }
  },
  {
   "cell_type": "markdown",
   "source": [
    "`sample`とは別に Sample size 20の標本Data を１万組用意する。\n",
    "この Data を使って、平均や分散をどれだけの精度で推測できるかをシミュレーションしていく。"
   ],
   "metadata": {
    "collapsed": false,
    "pycharm": {
     "name": "#%% md\n"
    }
   }
  },
  {
   "cell_type": "code",
   "execution_count": 53,
   "outputs": [],
   "source": [
    "np.random.seed(1111)\n",
    "n_sample = 10000\n",
    "samples = np.random.choice(scores, (n_sample, n))"
   ],
   "metadata": {
    "collapsed": false,
    "pycharm": {
     "name": "#%%\n"
    }
   }
  },
  {
   "cell_type": "markdown",
   "source": [
    "## 点推定\n",
    "母平均や母分散といった母数を１つの数値で推定する。"
   ],
   "metadata": {
    "collapsed": false,
    "pycharm": {
     "name": "#%% md\n"
    }
   }
  },
  {
   "cell_type": "markdown",
   "source": [
    "### 母平均の点推定"
   ],
   "metadata": {
    "collapsed": false,
    "pycharm": {
     "name": "#%% md\n"
    }
   }
  },
  {
   "cell_type": "code",
   "execution_count": 54,
   "outputs": [
    {
     "name": "stdout",
     "output_type": "stream",
     "text": [
      "1回目の標本平均: 67.000\n",
      "2回目の標本平均: 72.850\n",
      "3回目の標本平均: 69.200\n",
      "4回目の標本平均: 64.450\n",
      "5回目の標本平均: 72.650\n"
     ]
    }
   ],
   "source": [
    "for i in range(5):\n",
    "    s_mean = np.mean(samples[i])\n",
    "    print(f'{i + 1}回目の標本平均: {s_mean:.3f}')"
   ],
   "metadata": {
    "collapsed": false,
    "pycharm": {
     "name": "#%%\n"
    }
   }
  },
  {
   "cell_type": "markdown",
   "source": [
    "#### 不偏性（unbiased ness)\n",
    "推定量の期待値が推測したい母数になる性質のこと\n",
    "#### 不偏推定量（unbiased estimator）\n",
    "不偏性を持っている推定量のこと\n",
    "\n",
    "標本平均の期待値が母平均 μ だることを大数の法則を使って確かめる"
   ],
   "metadata": {
    "collapsed": false,
    "pycharm": {
     "name": "#%% md\n"
    }
   }
  },
  {
   "cell_type": "code",
   "execution_count": 55,
   "outputs": [
    {
     "data": {
      "text/plain": "69.538"
     },
     "execution_count": 55,
     "metadata": {},
     "output_type": "execute_result"
    }
   ],
   "source": [
    "sample_means = np.mean(samples, axis=1)\n",
    "np.mean(sample_means)"
   ],
   "metadata": {
    "collapsed": false,
    "pycharm": {
     "name": "#%%\n"
    }
   }
  },
  {
   "cell_type": "markdown",
   "source": [
    "母平均 69.530 だったので標本平均の期待値は母平均になっていそう。標本平均が母平均をうまく推定できることの根拠の１つが、この不偏性。\n",
    "\n",
    "#### 一致性（consistency）\n",
    "Sample size: n を増やしていくと推測したい母数に収束していくという性質のこと。\n",
    "\n",
    "#### 一致推定量（consistent estimator）\n",
    "一致性を持った推定量のこと\n",
    "\n",
    "標本平均は一致推定量でもある。\n",
    "Sample size: n を100万にしたときの、標本平均をみてみる。"
   ],
   "metadata": {
    "collapsed": false,
    "pycharm": {
     "name": "#%% md\n"
    }
   }
  },
  {
   "cell_type": "code",
   "execution_count": 56,
   "outputs": [
    {
     "data": {
      "text/plain": "69.543"
     },
     "execution_count": 56,
     "metadata": {},
     "output_type": "execute_result"
    }
   ],
   "source": [
    "np.mean(np.random.choice(scores, int(1e6)))"
   ],
   "metadata": {
    "collapsed": false,
    "pycharm": {
     "name": "#%%\n"
    }
   }
  },
  {
   "cell_type": "markdown",
   "source": [
    "母平均に近い値になった。\n",
    "Sample size: n を増やしていくと標本平均は母平均に収束していく"
   ],
   "metadata": {
    "collapsed": false,
    "pycharm": {
     "name": "#%% md\n"
    }
   }
  },
  {
   "cell_type": "markdown",
   "source": [
    "推定量として、\n",
    "- 不偏性\n",
    "- 一致性\n",
    "\n",
    "を持っていることが望ましい性質。\n",
    "\n",
    "標本平均は、不偏性と一致性の両方を持っているため、母平均をうまく推定できるといえる。"
   ],
   "metadata": {
    "collapsed": false,
    "pycharm": {
     "name": "#%% md\n"
    }
   }
  },
  {
   "cell_type": "code",
   "execution_count": 57,
   "outputs": [
    {
     "data": {
      "text/plain": "70.400"
     },
     "execution_count": 57,
     "metadata": {},
     "output_type": "execute_result"
    }
   ],
   "source": [
    "# `sample`から改めて標本平均を計算する\n",
    "s_mean = np.mean(sample)\n",
    "s_mean"
   ],
   "metadata": {
    "collapsed": false,
    "pycharm": {
     "name": "#%%\n"
    }
   }
  },
  {
   "cell_type": "markdown",
   "source": [
    "この標本平均をもとに母平均の区間推定を行なっていく。"
   ],
   "metadata": {
    "collapsed": false,
    "pycharm": {
     "name": "#%% md\n"
    }
   }
  },
  {
   "cell_type": "markdown",
   "source": [
    "### 母分散の点推定\n",
    "標本分散が不偏性と一致性を持った推定量になるか確かめる。"
   ],
   "metadata": {
    "collapsed": false,
    "pycharm": {
     "name": "#%% md\n"
    }
   }
  },
  {
   "cell_type": "code",
   "execution_count": 58,
   "outputs": [
    {
     "name": "stdout",
     "output_type": "stream",
     "text": [
      "1回目の標本分散: 116.800\n",
      "2回目の標本分散: 162.928\n",
      "3回目の標本分散: 187.060\n",
      "4回目の標本分散: 149.148\n",
      "5回目の標本分散: 111.528\n"
     ]
    }
   ],
   "source": [
    "# 標本分散は確率変数になっているので、試行のたびに結果が変わる。\n",
    "for i in range(5):\n",
    "    s_var = np.var(samples[i])\n",
    "    print(f'{i+1}回目の標本分散: {s_var:.3f}')"
   ],
   "metadata": {
    "collapsed": false,
    "pycharm": {
     "name": "#%%\n"
    }
   }
  },
  {
   "cell_type": "markdown",
   "source": [
    "標本分散が母分散の不偏推定量となっているか大数の法則で確かめる。"
   ],
   "metadata": {
    "collapsed": false,
    "pycharm": {
     "name": "#%% md\n"
    }
   }
  },
  {
   "cell_type": "code",
   "execution_count": 59,
   "outputs": [
    {
     "data": {
      "text/plain": "196.344"
     },
     "execution_count": 59,
     "metadata": {},
     "output_type": "execute_result"
    }
   ],
   "source": [
    "# 用意しておいた１万組の標本 Data それぞれについて標本分散を求め、その平均を計算してみる。\n",
    "sample_vars = np.var(samples, axis=1)\n",
    "np.mean(sample_vars)"
   ],
   "metadata": {
    "collapsed": false,
    "pycharm": {
     "name": "#%%\n"
    }
   }
  },
  {
   "cell_type": "markdown",
   "source": [
    "母分散 σ**2 = 206.669 に比べて小さな値となった。標本分散は母分散の不偏推定量ではなさそうである。\n",
    "\n",
    "#### 不偏分散（unbiased variance）\n",
    "不偏分散は標本分散における割る数 n を n-1 にした式で計算される\n",
    "\n",
    "#### 自由度（degree of freedom）\n",
    "- 不偏分散の割る数 n-1 のこと。\n",
    "- 自由に値をとることができる変数の数のこと。"
   ],
   "metadata": {
    "collapsed": false,
    "pycharm": {
     "name": "#%% md\n"
    }
   }
  },
  {
   "cell_type": "markdown",
   "source": [
    "大数の法則を使って不偏分散の期待値を確かめる"
   ],
   "metadata": {
    "collapsed": false,
    "pycharm": {
     "name": "#%% md\n"
    }
   }
  },
  {
   "cell_type": "code",
   "execution_count": 60,
   "outputs": [
    {
     "data": {
      "text/plain": "206.678"
     },
     "execution_count": 60,
     "metadata": {},
     "output_type": "execute_result"
    }
   ],
   "source": [
    "# NumPy では不偏分散を`var`関数の`ddof`引数に 1 を指定することで計算できる\n",
    "# ddof は、Delta Degree Of Freedom（自由度の差）のこと\n",
    "\n",
    "sample_u_vars = np.var(samples, axis=1, ddof=1)\n",
    "np.mean(sample_u_vars)"
   ],
   "metadata": {
    "collapsed": false,
    "pycharm": {
     "name": "#%%\n"
    }
   }
  },
  {
   "cell_type": "markdown",
   "source": [
    "母分散に近い値となった。不偏分散は母分散の不偏推定量になっていそうである。"
   ],
   "metadata": {
    "collapsed": false,
    "pycharm": {
     "name": "#%% md\n"
    }
   }
  },
  {
   "cell_type": "code",
   "execution_count": 61,
   "outputs": [
    {
     "data": {
      "text/plain": "207.083"
     },
     "execution_count": 61,
     "metadata": {},
     "output_type": "execute_result"
    }
   ],
   "source": [
    "# Sample size: n を100万にして確かめる\n",
    "np.var(np.random.choice(scores, int(1e6)), ddof=1)"
   ],
   "metadata": {
    "collapsed": false,
    "pycharm": {
     "name": "#%%\n"
    }
   }
  },
  {
   "cell_type": "markdown",
   "source": [
    "母分散に近い値となり、一致推定量になっていそうである。\n",
    "\n",
    "不偏分散は不偏性と一致性を持っていることが確認できた。"
   ],
   "metadata": {
    "collapsed": false,
    "pycharm": {
     "name": "#%% md\n"
    }
   }
  },
  {
   "cell_type": "code",
   "execution_count": 62,
   "outputs": [
    {
     "data": {
      "text/plain": "158.253"
     },
     "execution_count": 62,
     "metadata": {},
     "output_type": "execute_result"
    }
   ],
   "source": [
    "# `sample`で、不偏分散を計算しておく\n",
    "u_var = np.var(sample, ddof=1)\n",
    "u_var"
   ],
   "metadata": {
    "collapsed": false,
    "pycharm": {
     "name": "#%%\n"
    }
   }
  },
  {
   "cell_type": "markdown",
   "source": [
    "この不偏分散をもとに母分散の区間推定を行なっていく"
   ],
   "metadata": {
    "collapsed": false,
    "pycharm": {
     "name": "#%% md\n"
    }
   }
  },
  {
   "cell_type": "markdown",
   "source": [
    "### 点推定まとめ\n",
    "\n",
    "#### 母平均と母分散の点推定\n",
    "X1, X2, ..., Xn が互いに独立に期待値が μ で分散が σ**2 であるような確率分布に従っているとする。\n",
    "このときの標本平均と不偏分散 s**2 はそれぞれの母平均 μ と母分散 σ**2 に対して不偏性と一致性をもつ推定量となる。"
   ],
   "metadata": {
    "collapsed": false,
    "pycharm": {
     "name": "#%% md\n"
    }
   }
  },
  {
   "cell_type": "markdown",
   "source": [
    "## 区間推定\n",
    "いくらよい推定量だという裏付けがあっても、たまたま偏った標本を抽出してしまった場合は見当違いな推定値となる可能性もある。\n",
    "そこで、あらかじめ想定される誤差を見積もっておき、母平均はここからここの範囲には入る、といった主張ができればよりよい推定となりえる。\n",
    "それが **区間推定**。"
   ],
   "metadata": {
    "collapsed": false,
    "pycharm": {
     "name": "#%% md\n"
    }
   }
  },
  {
   "cell_type": "markdown",
   "source": [
    "### 正規分布の母平均（分散既知）の区間推定\n",
    "母集団に正規分布を仮定し、さらにその母分散がわかっている場合を考える。\n",
    "\n",
    "- 母集団は「標本平均 = N(μ, σ**2/n)」に従う\n",
    "  ※つまり標本平均という推定量は期待値こそ母平均「μ」であるものの標準偏差「np.sqrt(σ**2/n)」でばらついている。\n",
    "\n",
    "##### 標準誤差（standard error）\n",
    "上記のような推定量の標準偏差のこと\n"
   ],
   "metadata": {
    "collapsed": false,
    "pycharm": {
     "name": "#%% md\n"
    }
   }
  },
  {
   "cell_type": "code",
   "execution_count": 63,
   "outputs": [
    {
     "data": {
      "text/plain": "(64.100, 76.700)"
     },
     "execution_count": 63,
     "metadata": {},
     "output_type": "execute_result"
    }
   ],
   "source": [
    "rv = stats.norm()\n",
    "lcl = s_mean - rv.isf(0.025) * np.sqrt(p_var/n)\n",
    "ucl = s_mean - rv.isf(0.975) * np.sqrt(p_var/n)\n",
    "\n",
    "lcl, ucl"
   ],
   "metadata": {
    "collapsed": false,
    "pycharm": {
     "name": "#%%\n"
    }
   }
  },
  {
   "cell_type": "markdown",
   "source": [
    "###### 95%信頼区間が\\[64.1, 76.7]の正しい解釈\n",
    "同じ方法で何回も標本抽出をして区間推定を行なうと、そのうちの95％の区間推定には母平均が含まれる、ちおうこと。\n",
    "あくまで確率的に変動するのは区間の方であって、母平均ではないということに注意する。"
   ],
   "metadata": {
    "collapsed": false,
    "pycharm": {
     "name": "#%% md\n"
    }
   }
  },
  {
   "cell_type": "code",
   "execution_count": 64,
   "outputs": [
    {
     "data": {
      "text/plain": "<Figure size 720x720 with 1 Axes>",
      "image/png": "[encoded data removed]"
     },
     "metadata": {
      "needs_background": "light"
     },
     "output_type": "display_data"
    }
   ],
   "source": [
    "# 信頼区間の計算を20回行ない、うち何回が母平均を含んでいるか図示する\n",
    "fig = plt.figure(figsize=(10, 10))\n",
    "ax = fig.add_subplot(111)\n",
    "\n",
    "rv = stats.norm()\n",
    "n_samples = 20\n",
    "ax.vlines(p_mean, 0, 21)\n",
    "for i in range(n_samples):\n",
    "    sample_ = samples[i]\n",
    "    s_mean_ = np.mean(sample_)\n",
    "    lcl = s_mean_ - rv.isf(0.025) * np.sqrt(p_var / n)\n",
    "    ucl = s_mean_ - rv.isf(0.975) * np.sqrt(p_var / n)\n",
    "    if lcl <= p_mean <= ucl:\n",
    "        ax.scatter(s_mean_, n_samples - i, color='gray')\n",
    "        ax.hlines(n_samples - i, lcl, ucl, color='gray')\n",
    "    else:\n",
    "        ax.scatter(s_mean_, n_samples - i, color='b')\n",
    "        ax.hlines(n_samples - i, lcl, ucl, color='b')\n",
    "ax.set_xticks([p_mean])\n",
    "ax.set_xticklabels(['母平均'])\n",
    "\n",
    "plt.show()"
   ],
   "metadata": {
    "collapsed": false,
    "pycharm": {
     "name": "#%%\n"
    }
   }
  },
  {
   "cell_type": "markdown",
   "source": [
    "20回のうち1回、母平均を含まない区間推定が行なわれている。これが95％信頼区間の Image"
   ],
   "metadata": {
    "collapsed": false,
    "pycharm": {
     "name": "#%% md\n"
    }
   }
  },
  {
   "cell_type": "code",
   "source": [
    "# 1万回信頼区間の計算をして、信頼区間に母平均が含まれたのは何％かシミュレーションしてみる\n",
    "rv = stats.norm()\n",
    "cnt = 0\n",
    "\n",
    "for sample_ in samples:\n",
    "    s_mean_ = np.mean(sample_)\n",
    "    lcl = s_mean_ - rv.isf(0.025) * np.sqrt(p_var / n)\n",
    "    ucl = s_mean_ - rv.isf(0.975) * np.sqrt(p_var / n)\n",
    "    if lcl <= p_mean <= ucl:\n",
    "        cnt += 1\n",
    "\n",
    "cnt / len(samples)"
   ],
   "metadata": {
    "collapsed": false,
    "pycharm": {
     "name": "#%%\n"
    }
   },
   "execution_count": 67,
   "outputs": [
    {
     "data": {
      "text/plain": "0.951"
     },
     "execution_count": 67,
     "metadata": {},
     "output_type": "execute_result"
    }
   ]
  },
  {
   "cell_type": "markdown",
   "source": [
    "信頼区間のおよそ95％が母平均を含んでいることを確認できた。"
   ],
   "metadata": {
    "collapsed": false,
    "pycharm": {
     "name": "#%% md\n"
    }
   }
  }
 ],
 "metadata": {
  "kernelspec": {
   "display_name": "Python 3",
   "language": "python",
   "name": "python3"
  },
  "language_info": {
   "codemirror_mode": {
    "name": "ipython",
    "version": 2
   },
   "file_extension": ".py",
   "mimetype": "text/x-python",
   "name": "python",
   "nbconvert_exporter": "python",
   "pygments_lexer": "ipython2",
   "version": "2.7.6"
  }
 },
 "nbformat": 4,
 "nbformat_minor": 0
}