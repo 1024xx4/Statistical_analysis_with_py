{
 "cells": [
  {
   "cell_type": "code",
   "metadata": {
    "collapsed": true,
    "pycharm": {
     "name": "#%%\n"
    }
   },
   "source": [
    "import numpy as np\n",
    "import matplotlib.pyplot as plt\n",
    "import japanize_matplotlib\n",
    "from scipy import stats, integrate\n",
    "from scipy.optimize import minimize_scalar\n",
    "\n",
    "%precision 3"
   ],
   "execution_count": 1,
   "outputs": [
    {
     "data": {
      "text/plain": "'%.3f'"
     },
     "execution_count": 1,
     "metadata": {},
     "output_type": "execute_result"
    }
   ]
  },
  {
   "cell_type": "markdown",
   "source": [
    "# 代表的な連続型確率分布"
   ],
   "metadata": {
    "collapsed": false,
    "pycharm": {
     "name": "#%% md\n"
    }
   }
  },
  {
   "cell_type": "code",
   "execution_count": 2,
   "outputs": [],
   "source": [
    "# 確率分布の性質を確認しやすくするための関数の定義\n",
    "linestyles = ['-', '--', ':']\n",
    "\n",
    "\n",
    "# 期待値を求める\n",
    "def E(X, g=lambda x: x):\n",
    "    x_range, f = X\n",
    "\n",
    "    def integrand(x):\n",
    "        return g(x) * f(x)\n",
    "\n",
    "    return integrate.quad(integrand, -np.inf, np.inf)[0]\n",
    "\n",
    "\n",
    "# 分散を求める\n",
    "def V(X, g=lambda x: x):\n",
    "    x_range, f = X\n",
    "    mean = E(X, g)\n",
    "\n",
    "    def integrand(x):\n",
    "        return (g(x) - mean) ** 2 * f(x)\n",
    "\n",
    "    return integrate.quad(integrand, -np.inf, np.inf[0])\n",
    "\n",
    "\n",
    "# 確率変数を引数に、その確率変数が確率の性質を満たしているか確認し、期待値と分散を計算して返す\n",
    "def check_prob(X):\n",
    "    x_range, f = X\n",
    "    f_min = minimize_scalar(f).fun\n",
    "    assert f_min >= 0, '密度関数が負の値をとります'\n",
    "    prob_sum = np.round(integrate.quad(f, -np.inf, np.inf)[0], 6)\n",
    "    assert prob_sum == 1, f'確率の和が {prob_sum} になりました'\n",
    "    print(f'期待値は {E(X):.3f}')\n",
    "    print(f'分散は{V(X):.3f}')\n",
    "\n",
    "\n",
    "# 確率変数と区間を引数に、その確率変数の密度関数と分布関数を図示する\n",
    "def plot_prob(X, x_min, x_max):\n",
    "    x_range, f = X\n",
    "\n",
    "    def F(x):\n",
    "        return integrate.quad(f, -np.inf, x)[0]\n",
    "\n",
    "    xs = np.linspace(x_min, x_max, 100)\n",
    "    fig = plt.figure(figsize=(10, 6))\n",
    "    ax = fig.add_subplot(111)\n",
    "    ax = plot(xs, [f(x) for x in xs], label='f(x)', color='gray')\n",
    "    ax.plot(xs, [F(x) for x in xs], label='F(x)', ls='--', color='gray')\n",
    "\n",
    "    ax.legend()\n",
    "    plt.show()"
   ],
   "metadata": {
    "collapsed": false,
    "pycharm": {
     "name": "#%%\n"
    }
   }
  },
  {
   "cell_type": "code",
   "execution_count": null,
   "outputs": [],
   "source": [],
   "metadata": {
    "collapsed": false,
    "pycharm": {
     "name": "#%%\n"
    }
   }
  }
 ],
 "metadata": {
  "kernelspec": {
   "display_name": "Python 3",
   "language": "python",
   "name": "python3"
  },
  "language_info": {
   "codemirror_mode": {
    "name": "ipython",
    "version": 2
   },
   "file_extension": ".py",
   "mimetype": "text/x-python",
   "name": "python",
   "nbconvert_exporter": "python",
   "pygments_lexer": "ipython2",
   "version": "2.7.6"
  }
 },
 "nbformat": 4,
 "nbformat_minor": 0
}