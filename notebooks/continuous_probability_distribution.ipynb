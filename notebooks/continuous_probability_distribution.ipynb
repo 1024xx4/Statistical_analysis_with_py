{
 "cells": [
  {
   "cell_type": "code",
   "metadata": {
    "collapsed": true,
    "pycharm": {
     "name": "#%%\n"
    }
   },
   "source": [
    "import numpy as np\n",
    "import matplotlib.pyplot as plt\n",
    "import japanize_matplotlib\n",
    "from scipy import stats, integrate\n",
    "from scipy.optimize import minimize_scalar\n",
    "\n",
    "%precision 3"
   ],
   "execution_count": 1,
   "outputs": [
    {
     "data": {
      "text/plain": "'%.3f'"
     },
     "execution_count": 1,
     "metadata": {},
     "output_type": "execute_result"
    }
   ]
  },
  {
   "cell_type": "markdown",
   "source": [
    "# 代表的な連続型確率分布"
   ],
   "metadata": {
    "collapsed": false,
    "pycharm": {
     "name": "#%% md\n"
    }
   }
  },
  {
   "cell_type": "code",
   "execution_count": 2,
   "outputs": [],
   "source": [
    "# 確率分布の性質を確認しやすくするための関数の定義\n",
    "linestyles = ['-', '--', ':']\n",
    "\n",
    "\n",
    "# 期待値を求める\n",
    "def E(X, g=lambda x: x):\n",
    "    x_range, f = X\n",
    "\n",
    "    def integrand(x):\n",
    "        return g(x) * f(x)\n",
    "\n",
    "    return integrate.quad(integrand, -np.inf, np.inf)[0]\n",
    "\n",
    "\n",
    "# 分散を求める\n",
    "def V(X, g=lambda x: x):\n",
    "    x_range, f = X\n",
    "    mean = E(X, g)\n",
    "\n",
    "    def integrand(x):\n",
    "        return (g(x) - mean) ** 2 * f(x)\n",
    "\n",
    "    return integrate.quad(integrand, -np.inf, np.inf)[0]\n",
    "\n",
    "\n",
    "# 確率変数を引数に、その確率変数が確率の性質を満たしているか確認し、期待値と分散を計算して返す\n",
    "def check_prob(X):\n",
    "    x_range, f = X\n",
    "    f_min = minimize_scalar(f).fun\n",
    "    assert f_min >= 0, '密度関数が負の値をとります'\n",
    "    prob_sum = np.round(integrate.quad(f, -np.inf, np.inf)[0], 6)\n",
    "    assert prob_sum == 1, f'確率の和が {prob_sum} になりました'\n",
    "    print(f'期待値は {E(X):.3f}')\n",
    "    print(f'分散は{V(X):.3f}')\n",
    "\n",
    "\n",
    "# 確率変数と区間を引数に、その確率変数の密度関数と分布関数を図示する\n",
    "def plot_prob(X, x_min, x_max):\n",
    "    x_range, f = X\n",
    "\n",
    "    def F(x):\n",
    "        return integrate.quad(f, -np.inf, x)[0]\n",
    "\n",
    "    xs = np.linspace(x_min, x_max, 100)\n",
    "\n",
    "    fig = plt.figure(figsize=(10, 6))\n",
    "    ax = fig.add_subplot(111)\n",
    "    ax.plot(xs, [f(x) for x in xs], label='f(x', color='gray')\n",
    "    ax.plot(xs, [F(x) for x in xs], label='F(x)', ls='--', color='gray')\n",
    "\n",
    "    ax.legend()\n",
    "    plt.show()"
   ],
   "metadata": {
    "collapsed": false,
    "pycharm": {
     "name": "#%%\n"
    }
   }
  },
  {
   "cell_type": "markdown",
   "source": [
    "## 正規分布（normal distribution)\n",
    "- 統計解析においてもっともよく使われ、もっとも重要といえる確率分布\n",
    "- 自然界の多くの減少を表現できる確率分布\n",
    "- ガウス分布（Gaussian distribution）という別名がある\n",
    "\n",
    "とりうる値: 実数全体\n",
    "Parameters: μ, σ**2\n",
    "※そのまま正規分布の平均と分散になる\n",
    "※　μ は実数、σ は正の実数である必要あがある\n",
    "\n",
    "###### 重要な性質\n",
    "正規分布に従う確率変数を変換しても、その確率分布もまた正規分布に従う\n",
    "\n",
    "##### 標準正規分布（standard normal distribution）\n",
    "- 標準化した正規分布 N(0, 1) のこと\n",
    "- 正規分布の性質から X ~ N(μ, σ**2) を標準化した確率変数 Z = (X - μ)/σ は N(0, 1) に従うことを導き出せる\n",
    "- 標準正規分布の性質さえよく知っていれば、どんな Parameters の正規分布を扱う場合でも標準化するだけで扱いやすい問題に帰着できる。"
   ],
   "metadata": {
    "collapsed": false,
    "pycharm": {
     "name": "#%% md\n"
    }
   }
  },
  {
   "cell_type": "code",
   "execution_count": 3,
   "outputs": [],
   "source": [
    "# NumPy での正規分布の実装\n",
    "def N(mu, sigma):\n",
    "    x_range = [-np.inf, np.inf]\n",
    "\n",
    "    def f(x):\n",
    "        return 1 / np.sqrt(2 * np.pi * sigma ** 2) * np.exp(-(x - mu) ** 2 / (2 * sigma ** 2))\n",
    "\n",
    "    return x_range, f"
   ],
   "metadata": {
    "collapsed": false,
    "pycharm": {
     "name": "#%%\n"
    }
   }
  },
  {
   "cell_type": "code",
   "execution_count": 4,
   "outputs": [],
   "source": [
    "# N(2, 0.5**2) に従う確率変数 X を作成する\n",
    "mu, sigma = 2, 0.5\n",
    "X = N(mu, sigma)"
   ],
   "metadata": {
    "collapsed": false,
    "pycharm": {
     "name": "#%%\n"
    }
   }
  },
  {
   "cell_type": "code",
   "execution_count": 5,
   "outputs": [
    {
     "name": "stdout",
     "output_type": "stream",
     "text": [
      "期待値は 2.000\n",
      "分散は0.250\n"
     ]
    }
   ],
   "source": [
    "# N(2, 0.5**2) の 期待値と分散を計算する\n",
    "check_prob(X)"
   ],
   "metadata": {
    "collapsed": false,
    "pycharm": {
     "name": "#%%\n"
    }
   }
  },
  {
   "cell_type": "code",
   "execution_count": 6,
   "outputs": [
    {
     "data": {
      "text/plain": "<Figure size 720x432 with 1 Axes>",
      "image/png": "[encoded data removed]"
     },
     "metadata": {
      "needs_background": "light"
     },
     "output_type": "display_data"
    }
   ],
   "source": [
    "# N(2, 0.5**2) に従う確率変数 X の密度関数と分布関数を０から４の区間で図示してみる\n",
    "plot_prob(X, 0, 4)"
   ],
   "metadata": {
    "collapsed": false,
    "pycharm": {
     "name": "#%%\n"
    }
   }
  },
  {
   "cell_type": "markdown",
   "source": [
    "正規分布の密度関数は左右対称の釣鐘型になることが特徴"
   ],
   "metadata": {
    "collapsed": false,
    "pycharm": {
     "name": "#%% md\n"
    }
   }
  },
  {
   "cell_type": "code",
   "execution_count": 7,
   "outputs": [],
   "source": [
    "# scipy.stats を使って正規分布を実装\n",
    "rv = stats.norm(2, 0.5)"
   ],
   "metadata": {
    "collapsed": false,
    "pycharm": {
     "name": "#%%\n"
    }
   }
  },
  {
   "cell_type": "code",
   "execution_count": 8,
   "outputs": [
    {
     "data": {
      "text/plain": "(2.000, 0.250)"
     },
     "execution_count": 8,
     "metadata": {},
     "output_type": "execute_result"
    }
   ],
   "source": [
    "# 期待値と分散\n",
    "rv.mean(), rv.var()"
   ],
   "metadata": {
    "collapsed": false,
    "pycharm": {
     "name": "#%%\n"
    }
   }
  },
  {
   "cell_type": "code",
   "execution_count": 9,
   "outputs": [
    {
     "data": {
      "text/plain": "0.798"
     },
     "execution_count": 9,
     "metadata": {},
     "output_type": "execute_result"
    }
   ],
   "source": [
    "# 密度関数（Probability Density Function）\n",
    "rv.pdf(2)"
   ],
   "metadata": {
    "collapsed": false,
    "pycharm": {
     "name": "#%%\n"
    }
   }
  },
  {
   "cell_type": "code",
   "execution_count": 10,
   "outputs": [
    {
     "data": {
      "text/plain": "0.274"
     },
     "execution_count": 10,
     "metadata": {},
     "output_type": "execute_result"
    }
   ],
   "source": [
    "# 分布関数（Cumulative Distribution Function）\n",
    "rv.cdf(1.7)"
   ],
   "metadata": {
    "collapsed": false,
    "pycharm": {
     "name": "#%%\n"
    }
   }
  },
  {
   "cell_type": "code",
   "execution_count": 11,
   "outputs": [
    {
     "data": {
      "text/plain": "2.262"
     },
     "execution_count": 11,
     "metadata": {},
     "output_type": "execute_result"
    }
   ],
   "source": [
    "# 上側100%点を求める\n",
    "rv.isf(0.3)"
   ],
   "metadata": {
    "collapsed": false,
    "pycharm": {
     "name": "#%%\n"
    }
   }
  },
  {
   "cell_type": "code",
   "execution_count": 12,
   "outputs": [
    {
     "data": {
      "text/plain": "(1.178, 2.822)"
     },
     "execution_count": 12,
     "metadata": {},
     "output_type": "execute_result"
    }
   ],
   "source": [
    "# 90% 区間をも求める\n",
    "rv.interval(0.9)"
   ],
   "metadata": {
    "collapsed": false,
    "pycharm": {
     "name": "#%%\n"
    }
   }
  },
  {
   "cell_type": "code",
   "execution_count": 13,
   "outputs": [
    {
     "data": {
      "text/plain": "(1.178, 2.822)"
     },
     "execution_count": 13,
     "metadata": {},
     "output_type": "execute_result"
    }
   ],
   "source": [
    "# 左右５％ずつ余っているので a, bは、次のように求めることもできる\n",
    "rv.isf(0.95), rv.isf(0.05)"
   ],
   "metadata": {
    "collapsed": false,
    "pycharm": {
     "name": "#%%\n"
    }
   }
  },
  {
   "cell_type": "code",
   "execution_count": 14,
   "outputs": [
    {
     "data": {
      "text/plain": "(1.178, 2.822)"
     },
     "execution_count": 14,
     "metadata": {},
     "output_type": "execute_result"
    }
   ],
   "source": [
    "# 右と左に5%ずつ余っているので、a, b は次のように求めることができる\n",
    "rv.isf(0.95), rv.isf(0.05)"
   ],
   "metadata": {
    "collapsed": false,
    "pycharm": {
     "name": "#%%\n"
    }
   }
  },
  {
   "cell_type": "code",
   "execution_count": 15,
   "outputs": [
    {
     "data": {
      "text/plain": "<Figure size 720x432 with 1 Axes>",
      "image/png": "[encoded data removed]"
     },
     "metadata": {
      "needs_background": "light"
     },
     "output_type": "display_data"
    }
   ],
   "source": [
    "# stats.norm を使って、Parameter によって正規分布がどのように変化するか確認する。\n",
    "# N(0, 1), N(0, 4), N(1, 1)の３つの正規分布を図示する。\n",
    "fig = plt.figure(figsize=(10, 6))\n",
    "ax = fig.add_subplot(111)\n",
    "\n",
    "xs = np.linspace(-5, 5, 100)\n",
    "params = [(0, 1), (0, 2), (1, 1)]\n",
    "for param, ls in zip(params, linestyles):\n",
    "    mu, sigma = param\n",
    "    rv = stats.norm(mu, sigma)\n",
    "    ax.plot(xs, rv.pdf(xs), label=f'N{mu}, {sigma ** 2}', ls=ls, color='gray')\n",
    "ax.legend()\n",
    "\n",
    "plt.show()"
   ],
   "metadata": {
    "collapsed": false,
    "pycharm": {
     "name": "#%%\n"
    }
   }
  },
  {
   "cell_type": "markdown",
   "source": [
    "- σ**2 が大きくなることで分布が広がる。\n",
    "- μ の変化で分布全体が並行移動する\n",
    "\n",
    "| 項目          | 値                                                   |\n",
    "|-------------|-----------------------------------------------------|\n",
    "| Params      | μ, σ                                                |\n",
    "| とりうる値       | 実数全体                                                |\n",
    "| 密度関数(PDF)   | 1 / np.sqrt(2*np.pi*σ) * np.exp(-(x-μ)**2 / 2*σ**2} |\n",
    "| 期待値         | μ                                                   |\n",
    "| 分散          | σ**2                                                |\n",
    "| scipy.stats | norm(μ, σ)                                          |"
   ],
   "metadata": {
    "collapsed": false,
    "pycharm": {
     "name": "#%% md\n"
    }
   }
  },
  {
   "cell_type": "markdown",
   "source": [
    "## 指数分布（exponential distribution)\n",
    "ある事象が発生する間隔（時間)が従う分布\n",
    "- とりうる値: ０以上の実数\n",
    "- Param: λ で正の実数\n",
    "\n",
    "単位時間あたり平均λ回発生する事象の発生間隔が従う確率分布\n",
    "\n",
    "###### 例\n",
    "- １日あたり平均２件の交通事故が発生する地域における１日の交通事故の発生間隔\n",
    "- １時間あたり平均 10access ある Site への access間隔\n",
    "\n",
    "指数分布はポアソン分布との関わりが強い。\n",
    "単位時間あたり平均 λ 回発生する Event に対して\n",
    "- 単位時間あたりに Event が発生する回数が従うのが Poi(λ)\n",
    "- 単位時間あたりに Event が発生する間隔が従うのが Ex(λ)"
   ],
   "metadata": {
    "collapsed": false,
    "pycharm": {
     "name": "#%% md\n"
    }
   }
  },
  {
   "cell_type": "code",
   "execution_count": 18,
   "outputs": [],
   "source": [
    "# NumPyで指数分布(exponential distribution）を実装する\n",
    "def Ex(lam):\n",
    "    x_range = [0, np.inf]\n",
    "\n",
    "    def f(x):\n",
    "        if x >= 0:\n",
    "            return lam * np.exp(-lam * x)\n",
    "        else:\n",
    "            return 0\n",
    "\n",
    "    return x_range, f"
   ],
   "metadata": {
    "collapsed": false,
    "pycharm": {
     "name": "#%%\n"
    }
   }
  },
  {
   "cell_type": "code",
   "execution_count": 19,
   "outputs": [],
   "source": [
    "# # Ex(3) に従う確率変数 X を作成してみる\n",
    "lam = 3\n",
    "X = Ex(lam)"
   ],
   "metadata": {
    "collapsed": false,
    "pycharm": {
     "name": "#%%\n"
    }
   }
  },
  {
   "cell_type": "code",
   "execution_count": 20,
   "outputs": [
    {
     "name": "stdout",
     "output_type": "stream",
     "text": [
      "期待値は 0.333\n",
      "分散は0.111\n"
     ]
    }
   ],
   "source": [
    "# 期待と分散の確認\n",
    "check_prob(X)"
   ],
   "metadata": {
    "collapsed": false,
    "pycharm": {
     "name": "#%%\n"
    }
   }
  },
  {
   "cell_type": "code",
   "execution_count": 22,
   "outputs": [
    {
     "data": {
      "text/plain": "<Figure size 720x432 with 1 Axes>",
      "image/png": "[encoded data removed]"
     },
     "metadata": {
      "needs_background": "light"
     },
     "output_type": "display_data"
    }
   ],
   "source": [
    "# 密度関数と分布関数を０から２の区間で図示してみる\n",
    "plot_prob(X, 0, 2)"
   ],
   "metadata": {
    "collapsed": false,
    "pycharm": {
     "name": "#%%\n"
    }
   }
  },
  {
   "cell_type": "markdown",
   "source": [
    "指数分布の密度関数は値が大きくなるにつれ指数的に減少していく"
   ],
   "metadata": {
    "collapsed": false,
    "pycharm": {
     "name": "#%% md\n"
    }
   }
  },
  {
   "cell_type": "code",
   "execution_count": 23,
   "outputs": [
    {
     "data": {
      "text/plain": "<Figure size 720x432 with 1 Axes>",
      "image/png": "[encoded data removed]"
     },
     "metadata": {
      "needs_background": "light"
     },
     "output_type": "display_data"
    }
   ],
   "source": [
    "# scipy.stats の expon()関数を利用し、Param: λ を1, 2, 3 で変化させて分布の形状がどう変わるか図示してみる\n",
    "fig = plt.figure(figsize=(10, 6))\n",
    "ax = fig.add_subplot(111)\n",
    "\n",
    "xs = np.linspace(0, 3, 100)\n",
    "for lam, ls in zip([1, 2, 3], linestyles):\n",
    "    rv = stats.expon(scale=1 / lam)\n",
    "    ax.plot(xs, rv.pdf(xs), label=f'lambda: {lam}', ls=ls, color='gray')\n",
    "ax.legend()\n",
    "plt.show()"
   ],
   "metadata": {
    "collapsed": false,
    "pycharm": {
     "name": "#%%\n"
    }
   }
  },
  {
   "cell_type": "markdown",
   "source": [
    "Pram が何であろうと値が大きくなるにつれて確率密度は減少していくことがわかる"
   ],
   "metadata": {
    "collapsed": false,
    "pycharm": {
     "name": "#%% md\n"
    }
   }
  },
  {
   "cell_type": "markdown",
   "source": [
    "#### 指数分布（exponential distribution) のまとめ\n",
    "\n",
    "項目 | 値\n",
    "--- | ---\n",
    "Pram | λ\n",
    "とりうる値 | 正の実数\n",
    "密度関数(PDF) | λ*exp(-λ*x)\n",
    "期待値 | 1/λ\n",
    "分散 | 1/λ**2\n",
    "scipy.stats | expon(scale=1/λ)"
   ],
   "metadata": {
    "collapsed": false,
    "pycharm": {
     "name": "#%% md\n"
    }
   }
  },
  {
   "cell_type": "code",
   "execution_count": null,
   "outputs": [],
   "source": [],
   "metadata": {
    "collapsed": false,
    "pycharm": {
     "name": "#%%\n"
    }
   }
  }
 ],
 "metadata": {
  "kernelspec": {
   "display_name": "Python 3",
   "language": "python",
   "name": "python3"
  },
  "language_info": {
   "codemirror_mode": {
    "name": "ipython",
    "version": 2
   },
   "file_extension": ".py",
   "mimetype": "text/x-python",
   "name": "python",
   "nbconvert_exporter": "python",
   "pygments_lexer": "ipython2",
   "version": "2.7.6"
  }
 },
 "nbformat": 4,
 "nbformat_minor": 0
}