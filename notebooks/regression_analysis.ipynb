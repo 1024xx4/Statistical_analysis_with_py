{
 "cells": [
  {
   "cell_type": "markdown",
   "source": [
    "# 回帰分析"
   ],
   "metadata": {
    "collapsed": false,
    "pycharm": {
     "name": "#%% md\n"
    }
   }
  },
  {
   "cell_type": "code",
   "execution_count": 47,
   "metadata": {
    "collapsed": true
   },
   "outputs": [
    {
     "data": {
      "text/plain": "'%.3f'"
     },
     "execution_count": 47,
     "metadata": {},
     "output_type": "execute_result"
    }
   ],
   "source": [
    "import warnings\n",
    "warnings.filterwarnings('ignore')\n",
    "\n",
    "import numpy as np\n",
    "import pandas as pd\n",
    "import matplotlib.pyplot as plt\n",
    "import japanize_matplotlib\n",
    "from scipy import stats\n",
    "import statsmodels.formula.api as smf\n",
    "from IPython.display import display\n",
    "\n",
    "%precision 3"
   ]
  },
  {
   "cell_type": "code",
   "execution_count": 2,
   "outputs": [
    {
     "name": "stdout",
     "output_type": "stream",
     "text": [
      "標本の大きさ: 20\n"
     ]
    },
    {
     "data": {
      "text/plain": "   小テスト  期末テスト  睡眠時間 通学方法\n0   4.2     67   7.2   バス\n1   7.2     71   7.9  自転車\n2   0.0     19   5.3   バス\n3   3.0     35   6.8   徒歩\n4   1.5     35   7.5   徒歩",
      "text/html": "<div>\n<style scoped>\n    .dataframe tbody tr th:only-of-type {\n        vertical-align: middle;\n    }\n\n    .dataframe tbody tr th {\n        vertical-align: top;\n    }\n\n    .dataframe thead th {\n        text-align: right;\n    }\n</style>\n<table border=\"1\" class=\"dataframe\">\n  <thead>\n    <tr style=\"text-align: right;\">\n      <th></th>\n      <th>小テスト</th>\n      <th>期末テスト</th>\n      <th>睡眠時間</th>\n      <th>通学方法</th>\n    </tr>\n  </thead>\n  <tbody>\n    <tr>\n      <th>0</th>\n      <td>4.2</td>\n      <td>67</td>\n      <td>7.2</td>\n      <td>バス</td>\n    </tr>\n    <tr>\n      <th>1</th>\n      <td>7.2</td>\n      <td>71</td>\n      <td>7.9</td>\n      <td>自転車</td>\n    </tr>\n    <tr>\n      <th>2</th>\n      <td>0.0</td>\n      <td>19</td>\n      <td>5.3</td>\n      <td>バス</td>\n    </tr>\n    <tr>\n      <th>3</th>\n      <td>3.0</td>\n      <td>35</td>\n      <td>6.8</td>\n      <td>徒歩</td>\n    </tr>\n    <tr>\n      <th>4</th>\n      <td>1.5</td>\n      <td>35</td>\n      <td>7.5</td>\n      <td>徒歩</td>\n    </tr>\n  </tbody>\n</table>\n</div>"
     },
     "execution_count": 2,
     "metadata": {},
     "output_type": "execute_result"
    }
   ],
   "source": [
    "df = pd.read_csv('../data/ch12_scores_reg.csv')\n",
    "n = len(df)\n",
    "print(f'標本の大きさ: {n}')\n",
    "df.head()"
   ],
   "metadata": {
    "collapsed": false,
    "pycharm": {
     "name": "#%%\n"
    }
   }
  },
  {
   "cell_type": "markdown",
   "source": [
    "## 単回帰Model\n",
    "\n",
    "#### 回帰分析（regression analysis）\n",
    "因果関係が疑われる複数の変数を使って、ある変数から他の変数の値を予測する手法。\n",
    "\n",
    "#### 説明変数（explanatory variable） or 独立変数（independent variable）\n",
    "回帰分析を行なとき原因となる変数のこと。\n",
    "\n",
    "#### 応答変数（response variable） or 従属変数（dependent variable）\n",
    "回帰分析を行うときの結果となる変数のこと。\n",
    "\n",
    "### 単回帰Model（simple regression model）\n",
    "回帰分析において説明変数と応答変数が１つずつの最も単純な Model のこと。\n"
   ],
   "metadata": {
    "collapsed": false,
    "pycharm": {
     "name": "#%% md\n"
    }
   }
  },
  {
   "cell_type": "markdown",
   "source": [
    "- 応答変数: 期末Test\n",
    "- 説明変数: 小Test の平均点\n",
    "\n",
    "とする単回帰Model の回帰分析を行なう"
   ],
   "metadata": {
    "collapsed": false,
    "pycharm": {
     "name": "#%% md\n"
    }
   }
  },
  {
   "cell_type": "code",
   "source": [
    "# 単回帰分析の準備\n",
    "x = np.array(df['小テスト'])  # 説明変数: 小Test の平均点\n",
    "y = np.array(df['期末テスト'])  # 応答変数: 期末Test の点数\n",
    "p = 1  # 説明変数の数"
   ],
   "metadata": {
    "collapsed": false,
    "pycharm": {
     "name": "#%%\n"
    }
   },
   "execution_count": 3,
   "outputs": []
  },
  {
   "cell_type": "code",
   "execution_count": 4,
   "outputs": [
    {
     "data": {
      "text/plain": "<Figure size 720x432 with 1 Axes>",
      "image/png": "[encoded data removed]"
     },
     "metadata": {
      "needs_background": "light"
     },
     "output_type": "display_data"
    }
   ],
   "source": [
    "# この２次元 Data に対して散布図と回帰直線を描画してみる\n",
    "poly_fit = np.polyfit(x, y, 1)\n",
    "poly_1d = np.poly1d(poly_fit)\n",
    "xs = np.linspace(x.min(), x.max())\n",
    "ys = poly_1d(xs)\n",
    "\n",
    "fig = plt.figure(figsize=(10, 6))\n",
    "ax = fig.add_subplot(111)\n",
    "ax.set_xlabel('小Test')\n",
    "ax.set_ylabel('期末Test')\n",
    "ax.plot(xs, ys, color='gray', label=f'{poly_fit[1]:.2f}+{poly_fit[0]:.2f}x')\n",
    "ax.scatter(x, y)\n",
    "ax.legend()\n",
    "\n",
    "plt.show()"
   ],
   "metadata": {
    "collapsed": false,
    "pycharm": {
     "name": "#%%\n"
    }
   }
  },
  {
   "cell_type": "markdown",
   "source": [
    "単回帰分析では、この回帰直線を求めることが１つの目標になる。"
   ],
   "metadata": {
    "collapsed": false,
    "pycharm": {
     "name": "#%% md\n"
    }
   }
  },
  {
   "cell_type": "markdown",
   "source": [
    "### 回帰分析における仮説\n",
    "単回帰分析では、説明変数 x と応答変数 y の間に次のような関係性を仮定する。\n",
    "\n",
    "```\n",
    "y = β0 + β1 * x\n",
    "```\n",
    "\n",
    "#### 誤差項（error term）\n",
    "基本的な関係は直線上にあると考え、他の要因については予測できない確率的なものだと考え、その予測できない部分のこと。\n",
    "\n",
    "他、２つを仮定する\n",
    "- 説明変数は確率変数ではない\n",
    "- εi は互いに独立に N(0, σ**2) にに従う\n",
    "\n",
    "#### 回帰直線（regression line）\n",
    "母数 β0 と β1 を推定値から作られる直線\n",
    "\n",
    "#### 回帰係数（regression coefficient）\n",
    "回帰直線の係数（母数 β0 と β1 の推定値）"
   ],
   "metadata": {
    "collapsed": false,
    "pycharm": {
     "name": "#%% md\n"
    }
   }
  },
  {
   "cell_type": "markdown",
   "source": [
    "## statsmodels による回帰分析"
   ],
   "metadata": {
    "collapsed": false,
    "pycharm": {
     "name": "#%% md\n"
    }
   }
  },
  {
   "cell_type": "code",
   "execution_count": 5,
   "outputs": [
    {
     "name": "stdout",
     "output_type": "stream",
     "text": [
      "                            OLS Regression Results                            \n",
      "==============================================================================\n",
      "Dep. Variable:                  期末テスト   R-squared:                       0.676\n",
      "Model:                            OLS   Adj. R-squared:                  0.658\n",
      "Method:                 Least Squares   F-statistic:                     37.61\n",
      "Date:                Sat, 12 Mar 2022   Prob (F-statistic):           8.59e-06\n",
      "Time:                        15:08:23   Log-Likelihood:                -76.325\n",
      "No. Observations:                  20   AIC:                             156.7\n",
      "Df Residuals:                      18   BIC:                             158.6\n",
      "Df Model:                           1                                         \n",
      "Covariance Type:            nonrobust                                         \n",
      "==============================================================================\n",
      "                 coef    std err          t      P>|t|      [0.025      0.975]\n",
      "------------------------------------------------------------------------------\n",
      "Intercept     23.6995      4.714      5.028      0.000      13.796      33.603\n",
      "小テスト           6.5537      1.069      6.133      0.000       4.309       8.799\n",
      "==============================================================================\n",
      "Omnibus:                        2.139   Durbin-Watson:                   1.478\n",
      "Prob(Omnibus):                  0.343   Jarque-Bera (JB):                1.773\n",
      "Skew:                           0.670   Prob(JB):                        0.412\n",
      "Kurtosis:                       2.422   Cond. No.                         8.32\n",
      "==============================================================================\n",
      "\n",
      "Notes:\n",
      "[1] Standard Errors assume that the covariance matrix of the errors is correctly specified.\n"
     ]
    }
   ],
   "source": [
    "formula = '期末テスト~小テスト'\n",
    "result = smf.ols(formula, df).fit()\n",
    "print(result.summary())"
   ],
   "metadata": {
    "collapsed": false,
    "pycharm": {
     "name": "#%%\n"
    }
   }
  },
  {
   "cell_type": "markdown",
   "source": [
    "分析結果の各項目が何を示しているかを理解するため二重線によって区切られている範囲ごとに`NumPy`, `SciPY` を使用して確認していく。\n",
    "- Model の概要と Data への Model の適合度\n",
    "- 回帰係数の推定結果\n",
    "- Model に課した誤差項が正規分布に従っているという仮定の妥当性"
   ],
   "metadata": {
    "collapsed": false,
    "pycharm": {
     "name": "#%% md\n"
    }
   }
  },
  {
   "cell_type": "markdown",
   "source": [
    "## 回帰係数"
   ],
   "metadata": {
    "collapsed": false,
    "pycharm": {
     "name": "#%% md\n"
    }
   }
  },
  {
   "cell_type": "code",
   "execution_count": 6,
   "outputs": [
    {
     "name": "stdout",
     "output_type": "stream",
     "text": [
      "\n"
     ]
    }
   ],
   "source": [
    "\"\"\"\n",
    "==============================================================================\n",
    "                 coef    std err          t      P>|t|      [0.025      0.975]\n",
    "------------------------------------------------------------------------------\n",
    "Intercept     23.6995      4.714      5.028      0.000      13.796      33.603\n",
    "小テスト         6.5537      1.069      6.133      0.000       4.309       8.799\n",
    "==============================================================================\n",
    "\"\"\"\n",
    "print()"
   ],
   "metadata": {
    "collapsed": false,
    "pycharm": {
     "name": "#%%\n"
    }
   }
  },
  {
   "cell_type": "markdown",
   "source": [
    "#### 行方向の用語の意味\n",
    "- Intercept: 切片 β0\n",
    "- 小テスト : 傾き β1\n",
    "\n",
    "#### 列報告の用語の意味\n",
    "- coef: 回帰係数の推定値\n",
    "- std err: 推定値の標準誤差\n",
    "- t: 回帰係数に関する t 検定統計量\n",
    "- p>|t|: t 検定統計量のｐ値\n",
    "- \\[0.025      0.975]: 回帰係数の95%信頼区間"
   ],
   "metadata": {
    "collapsed": false,
    "pycharm": {
     "name": "#%% md\n"
    }
   }
  },
  {
   "cell_type": "markdown",
   "source": [
    "### 点推定\n",
    "coef に出力されている回帰係数の推定値を実際に求めていく\n",
    "\n",
    "- 予測値（predicted vaue）: xi から予測した Model の予測値\n",
    "- 残差（residual）: 実際の Data と予測値の差\n",
    "- 残差二乗和（RSS: residual sum of squares）: 残差の二乗和\n",
    "- 最小二乗法（ordinary least squares）: 残差二乗和の最小化によって、回帰係数の推定値を求める方法のこと。最小二乗法によって求められた回帰係数の推定値は実際の回帰係数の不偏一致推定量となることが知られている。"
   ],
   "metadata": {
    "collapsed": false,
    "pycharm": {
     "name": "#%% md\n"
    }
   }
  },
  {
   "cell_type": "code",
   "execution_count": 7,
   "outputs": [
    {
     "data": {
      "text/plain": "array([[1. , 4.2],\n       [1. , 7.2],\n       [1. , 0. ],\n       [1. , 3. ],\n       [1. , 1.5],\n       [1. , 0.9],\n       [1. , 1.9],\n       [1. , 3.5],\n       [1. , 4. ],\n       [1. , 5.4],\n       [1. , 4.2],\n       [1. , 6.9],\n       [1. , 2. ],\n       [1. , 8.8],\n       [1. , 0.3],\n       [1. , 6.7],\n       [1. , 4.2],\n       [1. , 5.6],\n       [1. , 1.4],\n       [1. , 2. ]])"
     },
     "metadata": {},
     "output_type": "display_data"
    }
   ],
   "source": [
    "# １列目が全部１で、２列目が x となっている行列 X を作る\n",
    "X = np.array([np.ones_like(x), x]).T\n",
    "display(X)"
   ],
   "metadata": {
    "collapsed": false,
    "pycharm": {
     "name": "#%%\n"
    }
   }
  },
  {
   "cell_type": "code",
   "execution_count": 8,
   "outputs": [
    {
     "name": "stdout",
     "output_type": "stream",
     "text": [
      "回帰係数の推定値: 23.699, 6.554\n"
     ]
    }
   ],
   "source": [
    "# 最小二乗法を実行し、回帰係数の推定値を求める\n",
    "beta0_hat, beta1_hat = np.linalg.lstsq(X, y)[0]\n",
    "print(f'回帰係数の推定値: {beta0_hat:.3f}, {beta1_hat:.3f}')"
   ],
   "metadata": {
    "collapsed": false,
    "pycharm": {
     "name": "#%%\n"
    }
   }
  },
  {
   "cell_type": "code",
   "execution_count": 9,
   "outputs": [],
   "source": [
    "# 予測値と残差を計算する\n",
    "y_hat = beta0_hat + beta1_hat * x\n",
    "eps_hat = y - y_hat"
   ],
   "metadata": {
    "collapsed": false,
    "pycharm": {
     "name": "#%%\n"
    }
   }
  },
  {
   "cell_type": "markdown",
   "source": [
    "残差は誤差項に対応しているため、残差の分散から母分散を推定できる。\n",
    "ただし残差の自由度は回帰係数の数+1だけ減る"
   ],
   "metadata": {
    "collapsed": false,
    "pycharm": {
     "name": "#%% md\n"
    }
   }
  },
  {
   "cell_type": "code",
   "execution_count": 10,
   "outputs": [
    {
     "data": {
      "text/plain": "134.290"
     },
     "execution_count": 10,
     "metadata": {},
     "output_type": "execute_result"
    }
   ],
   "source": [
    "s_var = np.var(eps_hat, ddof=p+1)\n",
    "s_var"
   ],
   "metadata": {
    "collapsed": false,
    "pycharm": {
     "name": "#%%\n"
    }
   }
  },
  {
   "cell_type": "markdown",
   "source": [
    "### 区間推定\n",
    "- 回帰係数 β0 と β1 の区間推定を行なうためには推定値の標準誤差が必要。\n",
    "- 標準誤差は、NumPy で求めることができる"
   ],
   "metadata": {
    "collapsed": false,
    "pycharm": {
     "name": "#%% md\n"
    }
   }
  },
  {
   "cell_type": "code",
   "source": [
    "C0, C1 = np.diag(np.linalg.pinv(np.dot(X.T, X)))"
   ],
   "metadata": {
    "collapsed": false,
    "pycharm": {
     "name": "#%%\n"
    }
   },
   "execution_count": 11,
   "outputs": []
  },
  {
   "cell_type": "code",
   "execution_count": 12,
   "outputs": [
    {
     "name": "stdout",
     "output_type": "stream",
     "text": [
      "標準誤差\n"
     ]
    },
    {
     "data": {
      "text/plain": "(4.714, 1.069)"
     },
     "execution_count": 12,
     "metadata": {},
     "output_type": "execute_result"
    }
   ],
   "source": [
    "print('標準誤差')\n",
    "np.sqrt(s_var * C0), np.sqrt(s_var * C1)"
   ],
   "metadata": {
    "collapsed": false,
    "pycharm": {
     "name": "#%%\n"
    }
   }
  },
  {
   "cell_type": "markdown",
   "source": [
    "標準誤差から区間推定を行なう。\n",
    "- σ**2 の自由度が n-2\n",
    "- 自由度 n-2 のｔ分布を使って求める"
   ],
   "metadata": {
    "collapsed": false,
    "pycharm": {
     "name": "#%% md\n"
    }
   }
  },
  {
   "cell_type": "code",
   "execution_count": 13,
   "outputs": [
    {
     "name": "stdout",
     "output_type": "stream",
     "text": [
      "β0 の95%信頼区間\n"
     ]
    },
    {
     "data": {
      "text/plain": "(13.796, 33.603)"
     },
     "execution_count": 13,
     "metadata": {},
     "output_type": "execute_result"
    }
   ],
   "source": [
    "# β0 の95%信頼区間\n",
    "rv = stats.t(n-2)\n",
    "\n",
    "lcl = beta0_hat - rv.isf(0.025) * np.sqrt(s_var * C0)\n",
    "hcl = beta0_hat - rv.isf(0.975) * np.sqrt(s_var * C0)\n",
    "\n",
    "print('β0 の95%信頼区間')\n",
    "lcl, hcl"
   ],
   "metadata": {
    "collapsed": false,
    "pycharm": {
     "name": "#%%\n"
    }
   }
  },
  {
   "cell_type": "code",
   "execution_count": 14,
   "outputs": [
    {
     "name": "stdout",
     "output_type": "stream",
     "text": [
      "β1 の95%信頼区間\n"
     ]
    },
    {
     "data": {
      "text/plain": "(4.309, 8.799)"
     },
     "execution_count": 14,
     "metadata": {},
     "output_type": "execute_result"
    }
   ],
   "source": [
    "# β1 の95%信頼区間\n",
    "rv = stats.t(n-2)\n",
    "\n",
    "lcl = beta1_hat - rv.isf(0.025) * np.sqrt(s_var * C1)\n",
    "hcl = beta1_hat - rv.isf(0.975) * np.sqrt(s_var * C1)\n",
    "\n",
    "print('β1 の95%信頼区間')\n",
    "lcl, hcl"
   ],
   "metadata": {
    "collapsed": false,
    "pycharm": {
     "name": "#%%\n"
    }
   }
  },
  {
   "cell_type": "markdown",
   "source": [
    "`statsmodels` の分析結果と一致している"
   ],
   "metadata": {
    "collapsed": false,
    "pycharm": {
     "name": "#%% md\n"
    }
   }
  },
  {
   "cell_type": "code",
   "execution_count": 15,
   "outputs": [
    {
     "name": "stdout",
     "output_type": "stream",
     "text": [
      "\n"
     ]
    }
   ],
   "source": [
    "\"\"\"\n",
    "==============================================================================\n",
    "                 coef    std err          t      P>|t|      [0.025      0.975]\n",
    "------------------------------------------------------------------------------\n",
    "Intercept     23.6995      4.714      5.028      0.000      13.796      33.603\n",
    "小テスト         6.5537      1.069      6.133      0.000       4.309       8.799\n",
    "==============================================================================\n",
    "\"\"\"\n",
    "print()"
   ],
   "metadata": {
    "collapsed": false,
    "pycharm": {
     "name": "#%%\n"
    }
   }
  },
  {
   "cell_type": "markdown",
   "source": [
    "### ｔ検定\n",
    "回帰係数についての仮説検定を考える\n",
    "- 帰無仮説: β1 = 0\n",
    "- 対立仮説: β1 != 0"
   ],
   "metadata": {
    "collapsed": false,
    "pycharm": {
     "name": "#%% md\n"
    }
   }
  },
  {
   "cell_type": "code",
   "execution_count": 16,
   "outputs": [
    {
     "name": "stdout",
     "output_type": "stream",
     "text": [
      "仮説検定においての検定統計量\n"
     ]
    },
    {
     "data": {
      "text/plain": "6.133"
     },
     "execution_count": 16,
     "metadata": {},
     "output_type": "execute_result"
    }
   ],
   "source": [
    "# 検定統計量を求める\n",
    "t = beta1_hat / np.sqrt(s_var * C1)\n",
    "print('仮説検定においての検定統計量')\n",
    "t"
   ],
   "metadata": {
    "collapsed": false,
    "pycharm": {
     "name": "#%%\n"
    }
   }
  },
  {
   "cell_type": "code",
   "execution_count": 17,
   "outputs": [
    {
     "name": "stdout",
     "output_type": "stream",
     "text": [
      "ｐ値\n"
     ]
    },
    {
     "data": {
      "text/plain": "0.000"
     },
     "execution_count": 17,
     "metadata": {},
     "output_type": "execute_result"
    }
   ],
   "source": [
    "# ｐ値を求める\n",
    "print('ｐ値')\n",
    "(1 - rv.cdf(t)) * 2"
   ],
   "metadata": {
    "collapsed": false,
    "pycharm": {
     "name": "#%%\n"
    }
   }
  },
  {
   "cell_type": "markdown",
   "source": [
    "帰無仮説は棄却され、小Test の平均点と期末Test の点数に因果関係がある、といえそうである。"
   ],
   "metadata": {
    "collapsed": false,
    "pycharm": {
     "name": "#%% md\n"
    }
   }
  },
  {
   "cell_type": "markdown",
   "source": [
    "β0 の仮説検定\n",
    "- 帰無仮説: β0 = 0\n",
    "- 対立仮説: β0 != 0"
   ],
   "metadata": {
    "collapsed": false,
    "pycharm": {
     "name": "#%% md\n"
    }
   }
  },
  {
   "cell_type": "code",
   "execution_count": 18,
   "outputs": [
    {
     "name": "stdout",
     "output_type": "stream",
     "text": [
      "仮説検定の統計検定量\n"
     ]
    },
    {
     "data": {
      "text/plain": "5.028"
     },
     "execution_count": 18,
     "metadata": {},
     "output_type": "execute_result"
    }
   ],
   "source": [
    "t = beta0_hat / np.sqrt(s_var * C0)\n",
    "print('仮説検定の統計検定量')\n",
    "t"
   ],
   "metadata": {
    "collapsed": false,
    "pycharm": {
     "name": "#%%\n"
    }
   }
  },
  {
   "cell_type": "code",
   "execution_count": 19,
   "outputs": [
    {
     "name": "stdout",
     "output_type": "stream",
     "text": [
      "ｐ値\n"
     ]
    },
    {
     "data": {
      "text/plain": "0.000"
     },
     "execution_count": 19,
     "metadata": {},
     "output_type": "execute_result"
    }
   ],
   "source": [
    "print('ｐ値')\n",
    "(1 - rv.cdf(t)) * 2"
   ],
   "metadata": {
    "collapsed": false,
    "pycharm": {
     "name": "#%%\n"
    }
   }
  },
  {
   "cell_type": "markdown",
   "source": [
    "statsmodels の分析結果と一致"
   ],
   "metadata": {
    "collapsed": false,
    "pycharm": {
     "name": "#%% md\n"
    }
   }
  },
  {
   "cell_type": "code",
   "execution_count": 20,
   "outputs": [
    {
     "name": "stdout",
     "output_type": "stream",
     "text": [
      "\n"
     ]
    }
   ],
   "source": [
    "\"\"\"\n",
    "==============================================================================\n",
    "                 coef    std err          t      P>|t|      [0.025      0.975]\n",
    "------------------------------------------------------------------------------\n",
    "Intercept     23.6995      4.714      5.028      0.000      13.796      33.603\n",
    "小テスト         6.5537      1.069      6.133      0.000       4.309       8.799\n",
    "==============================================================================\n",
    "\"\"\"\n",
    "print()"
   ],
   "metadata": {
    "collapsed": false,
    "pycharm": {
     "name": "#%%\n"
    }
   }
  },
  {
   "cell_type": "markdown",
   "source": [
    "## 重回帰 Model（multiple regression model）\n",
    "説明変数が複数ある Model のこと"
   ],
   "metadata": {
    "collapsed": false,
    "pycharm": {
     "name": "#%% md\n"
    }
   }
  },
  {
   "cell_type": "code",
   "source": [
    "# statsmodels で回帰分析を行なう\n",
    "formula = '期末テスト~小テスト+睡眠時間'\n",
    "result = smf.ols(formula, df).fit()\n",
    "print(result.summary())"
   ],
   "metadata": {
    "collapsed": false,
    "pycharm": {
     "name": "#%%\n"
    }
   },
   "execution_count": 21,
   "outputs": [
    {
     "name": "stdout",
     "output_type": "stream",
     "text": [
      "                            OLS Regression Results                            \n",
      "==============================================================================\n",
      "Dep. Variable:                  期末テスト   R-squared:                       0.756\n",
      "Model:                            OLS   Adj. R-squared:                  0.727\n",
      "Method:                 Least Squares   F-statistic:                     26.35\n",
      "Date:                Sat, 12 Mar 2022   Prob (F-statistic):           6.19e-06\n",
      "Time:                        15:08:23   Log-Likelihood:                -73.497\n",
      "No. Observations:                  20   AIC:                             153.0\n",
      "Df Residuals:                      17   BIC:                             156.0\n",
      "Df Model:                           2                                         \n",
      "Covariance Type:            nonrobust                                         \n",
      "==============================================================================\n",
      "                 coef    std err          t      P>|t|      [0.025      0.975]\n",
      "------------------------------------------------------------------------------\n",
      "Intercept     -1.8709     11.635     -0.161      0.874     -26.420      22.678\n",
      "小テスト           6.4289      0.956      6.725      0.000       4.412       8.446\n",
      "睡眠時間           4.1917      1.778      2.357      0.031       0.440       7.943\n",
      "==============================================================================\n",
      "Omnibus:                        2.073   Durbin-Watson:                   1.508\n",
      "Prob(Omnibus):                  0.355   Jarque-Bera (JB):                1.716\n",
      "Skew:                           0.660   Prob(JB):                        0.424\n",
      "Kurtosis:                       2.437   Cond. No.                         38.0\n",
      "==============================================================================\n",
      "\n",
      "Notes:\n",
      "[1] Standard Errors assume that the covariance matrix of the errors is correctly specified.\n"
     ]
    }
   ]
  },
  {
   "cell_type": "markdown",
   "source": [
    "## 回帰係数\n",
    "重回帰Model における回帰係数を NumPy で求めていく"
   ],
   "metadata": {
    "collapsed": false,
    "pycharm": {
     "name": "#%% md\n"
    }
   }
  },
  {
   "cell_type": "code",
   "execution_count": 22,
   "outputs": [],
   "source": [
    "x1 = df['小テスト']\n",
    "x2 = df['睡眠時間']\n",
    "y = df['期末テスト']\n",
    "p = 2"
   ],
   "metadata": {
    "collapsed": false,
    "pycharm": {
     "name": "#%%\n"
    }
   }
  },
  {
   "cell_type": "markdown",
   "source": [
    "β0, β1, β2 の推定値を求める"
   ],
   "metadata": {
    "collapsed": false,
    "pycharm": {
     "name": "#%% md\n"
    }
   }
  },
  {
   "cell_type": "code",
   "execution_count": 23,
   "outputs": [
    {
     "name": "stdout",
     "output_type": "stream",
     "text": [
      "回帰係数の推定値\n"
     ]
    },
    {
     "data": {
      "text/plain": "(-1.871, 6.429, 4.192)"
     },
     "execution_count": 23,
     "metadata": {},
     "output_type": "execute_result"
    }
   ],
   "source": [
    "# １列目が全部１で、２列目が x1, ３列目が x2 となる行列 X を作成\n",
    "X = np.array([np.ones_like(x1), x1, x2]).T\n",
    "# 最小二乗法を実行する\n",
    "beta0_hat, beta1_hat, beta2_hat = np.linalg.lstsq(X, y)[0]\n",
    "print('回帰係数の推定値')\n",
    "beta0_hat, beta1_hat, beta2_hat"
   ],
   "metadata": {
    "collapsed": false,
    "pycharm": {
     "name": "#%%\n"
    }
   }
  },
  {
   "cell_type": "markdown",
   "source": [
    "回帰係数の推定値を使用して、予測値と残差を求める"
   ],
   "metadata": {
    "collapsed": false,
    "pycharm": {
     "name": "#%% md\n"
    }
   }
  },
  {
   "cell_type": "code",
   "execution_count": 24,
   "outputs": [],
   "source": [
    "# 予測値\n",
    "y_hat = beta0_hat + beta1_hat * x1 + beta2_hat * x2\n",
    "eps_hat = y - y_hat"
   ],
   "metadata": {
    "collapsed": false,
    "pycharm": {
     "name": "#%%\n"
    }
   }
  },
  {
   "cell_type": "markdown",
   "source": [
    "標準誤差を求める"
   ],
   "metadata": {
    "collapsed": false,
    "pycharm": {
     "name": "#%% md\n"
    }
   }
  },
  {
   "cell_type": "code",
   "execution_count": 25,
   "outputs": [],
   "source": [
    "s_var = np.sum(eps_hat **2) / (n-p-1)\n",
    "C0, C1, C2 = np.diag(np.linalg.pinv(np.dot(X.T, X)))"
   ],
   "metadata": {
    "collapsed": false,
    "pycharm": {
     "name": "#%%\n"
    }
   }
  },
  {
   "cell_type": "markdown",
   "source": [
    "上記を使用して、β2（睡眠時間の回帰係数）の95%信頼区間を求める"
   ],
   "metadata": {
    "collapsed": false,
    "pycharm": {
     "name": "#%% md\n"
    }
   }
  },
  {
   "cell_type": "code",
   "source": [
    "rv = stats.t(n-p-1)\n",
    "\n",
    "lcl = beta2_hat - rv.isf(0.025) * np.sqrt(s_var * C2)\n",
    "hcl = beta2_hat - rv.isf(0.975) * np.sqrt(s_var * C2)\n",
    "print('睡眠時間の95%信頼区間')\n",
    "lcl, hcl"
   ],
   "metadata": {
    "collapsed": false,
    "pycharm": {
     "name": "#%%\n"
    }
   },
   "execution_count": 26,
   "outputs": [
    {
     "name": "stdout",
     "output_type": "stream",
     "text": [
      "睡眠時間の95%信頼区間\n"
     ]
    },
    {
     "data": {
      "text/plain": "(0.440, 7.943)"
     },
     "execution_count": 26,
     "metadata": {},
     "output_type": "execute_result"
    }
   ]
  },
  {
   "cell_type": "code",
   "source": [
    "\"\"\"\n",
    "==============================================================================\n",
    "                 coef    std err          t      P>|t|      [0.025      0.975]\n",
    "------------------------------------------------------------------------------\n",
    "Intercept     -1.8709     11.635     -0.161      0.874     -26.420      22.678\n",
    "小テスト        6.4289      0.956      6.725      0.000       4.412       8.446\n",
    "睡眠時間        4.1917      1.778      2.357      0.031       0.440       7.943\n",
    "==============================================================================\n",
    "\"\"\"\n",
    "print()"
   ],
   "metadata": {
    "collapsed": false,
    "pycharm": {
     "name": "#%%\n"
    }
   },
   "execution_count": 27,
   "outputs": [
    {
     "name": "stdout",
     "output_type": "stream",
     "text": [
      "\n"
     ]
    }
   ]
  },
  {
   "cell_type": "markdown",
   "source": [
    "statsmodels の結果と一致していることを確認"
   ],
   "metadata": {
    "collapsed": false,
    "pycharm": {
     "name": "#%% md\n"
    }
   }
  },
  {
   "cell_type": "markdown",
   "source": [
    "### ダミー変数（dummy variable）\n",
    "質的変数を量的変数と同様に扱えるようにする手法\n",
    "- 0 と 1 をとる２値変数\n",
    "- 変換したい質的変数の Category数から１つ減らした数だけ必要になる。"
   ],
   "metadata": {
    "collapsed": false,
    "pycharm": {
     "name": "#%% md\n"
    }
   }
  },
  {
   "cell_type": "code",
   "execution_count": 28,
   "outputs": [
    {
     "name": "stdout",
     "output_type": "stream",
     "text": [
      "                            OLS Regression Results                            \n",
      "==============================================================================\n",
      "Dep. Variable:                  期末テスト   R-squared:                       0.782\n",
      "Model:                            OLS   Adj. R-squared:                  0.724\n",
      "Method:                 Least Squares   F-statistic:                     13.46\n",
      "Date:                Sat, 12 Mar 2022   Prob (F-statistic):           7.47e-05\n",
      "Time:                        15:08:23   Log-Likelihood:                -72.368\n",
      "No. Observations:                  20   AIC:                             154.7\n",
      "Df Residuals:                      15   BIC:                             159.7\n",
      "Df Model:                           4                                         \n",
      "Covariance Type:            nonrobust                                         \n",
      "===============================================================================\n",
      "                  coef    std err          t      P>|t|      [0.025      0.975]\n",
      "-------------------------------------------------------------------------------\n",
      "Intercept      -0.4788     12.068     -0.040      0.969     -26.202      25.244\n",
      "通学方法[T.徒歩]     -5.8437      5.447     -1.073      0.300     -17.453       5.766\n",
      "通学方法[T.自転車]     1.8118      6.324      0.286      0.778     -11.668      15.292\n",
      "小テスト            6.0029      1.033      5.809      0.000       3.800       8.206\n",
      "睡眠時間            4.5238      1.809      2.501      0.024       0.668       8.380\n",
      "==============================================================================\n",
      "Omnibus:                        1.764   Durbin-Watson:                   1.418\n",
      "Prob(Omnibus):                  0.414   Jarque-Bera (JB):                0.989\n",
      "Skew:                           0.545   Prob(JB):                        0.610\n",
      "Kurtosis:                       2.985   Cond. No.                         39.8\n",
      "==============================================================================\n",
      "\n",
      "Notes:\n",
      "[1] Standard Errors assume that the covariance matrix of the errors is correctly specified.\n"
     ]
    }
   ],
   "source": [
    "# statsmodels で回帰分析を行なう（statsmodels は質的変数を自動で Dummy変数化してくれる)\n",
    "formula = '期末テスト~小テスト+睡眠時間+通学方法'\n",
    "result = smf.ols(formula, df).fit()\n",
    "print(result.summary())"
   ],
   "metadata": {
    "collapsed": false,
    "pycharm": {
     "name": "#%%\n"
    }
   }
  },
  {
   "cell_type": "markdown",
   "source": [
    "## Model の選択\n",
    "Model の良さには\n",
    "1. 当てはまりの良さ: 回帰直線が Data に対してきれいに当てはまり、残差がすくない状態\n",
    "2. 予測の良さ : 手元の Data で作った Model が未知の Data をどれだけ予測できるか\n",
    "\n",
    "#### 過学習（over fitting)\n",
    "当てはまりの良さは説明変数を増やしていくだけで簡単にあがっていくが、一般的に予測精度は下がっていく問題のこと。\n",
    "あまりに複雑な Model は表現力が高すぎて手元の Data に適合しすぎて汎用的な予測性能を失ってしまう。\n",
    "\n",
    "過学習の問題から普通、Model は、適合度の良さよりも予測の良さを比較して選ぶことになる。"
   ],
   "metadata": {
    "collapsed": false,
    "pycharm": {
     "name": "#%% md\n"
    }
   }
  },
  {
   "cell_type": "code",
   "execution_count": 29,
   "outputs": [
    {
     "name": "stdout",
     "output_type": "stream",
     "text": [
      "                            OLS Regression Results                            \n",
      "==============================================================================\n",
      "Dep. Variable:                  期末テスト   R-squared:                       0.676\n",
      "Model:                            OLS   Adj. R-squared:                  0.658\n",
      "Method:                 Least Squares   F-statistic:                     37.61\n",
      "Date:                Sat, 12 Mar 2022   Prob (F-statistic):           8.59e-06\n",
      "Time:                        15:08:23   Log-Likelihood:                -76.325\n",
      "No. Observations:                  20   AIC:                             156.7\n",
      "Df Residuals:                      18   BIC:                             158.6\n",
      "Df Model:                           1                                         \n",
      "Covariance Type:            nonrobust                                         \n",
      "==============================================================================\n",
      "                 coef    std err          t      P>|t|      [0.025      0.975]\n",
      "------------------------------------------------------------------------------\n",
      "Intercept     23.6995      4.714      5.028      0.000      13.796      33.603\n",
      "小テスト           6.5537      1.069      6.133      0.000       4.309       8.799\n",
      "==============================================================================\n",
      "Omnibus:                        2.139   Durbin-Watson:                   1.478\n",
      "Prob(Omnibus):                  0.343   Jarque-Bera (JB):                1.773\n",
      "Skew:                           0.670   Prob(JB):                        0.412\n",
      "Kurtosis:                       2.422   Cond. No.                         8.32\n",
      "==============================================================================\n",
      "\n",
      "Notes:\n",
      "[1] Standard Errors assume that the covariance matrix of the errors is correctly specified.\n"
     ]
    }
   ],
   "source": [
    "x = np.array(df['小テスト'])\n",
    "y = np.array(df['期末テスト'])\n",
    "p = 1\n",
    "\n",
    "result = smf.ols('期末テスト~小テスト', df).fit()\n",
    "print(result.summary())"
   ],
   "metadata": {
    "collapsed": false,
    "pycharm": {
     "name": "#%%\n"
    }
   }
  },
  {
   "cell_type": "markdown",
   "source": [
    "Model の良し悪しを測る指標は statsmodels の分析結果の上部にあたる。\n",
    "- statsmodels の分析結果の見方\n",
    "- それらの指標がどう計算されているか\n",
    "\n",
    "を確認していく"
   ],
   "metadata": {
    "collapsed": false
   }
  },
  {
   "cell_type": "code",
   "source": [
    "# Model の予測値を`result`からもっていくる\n",
    "y_hat = np.array(result.fittedvalues)\n",
    "display(y_hat)"
   ],
   "metadata": {
    "collapsed": false,
    "pycharm": {
     "name": "#%%\n"
    }
   },
   "execution_count": 30,
   "outputs": [
    {
     "data": {
      "text/plain": "array([51.225, 70.886, 23.699, 43.361, 33.53 , 29.598, 36.152, 46.638,\n       49.914, 59.09 , 51.225, 68.92 , 36.807, 81.372, 25.666, 67.61 ,\n       51.225, 60.4  , 32.875, 36.807])"
     },
     "metadata": {},
     "output_type": "display_data"
    }
   ]
  },
  {
   "cell_type": "code",
   "execution_count": 31,
   "outputs": [
    {
     "data": {
      "text/plain": "array([ 15.775,   0.114,  -4.699,  -8.361,   1.47 ,  10.402, -13.152,\n        -9.638, -10.914,  -4.09 , -11.225,   1.08 ,  -7.807,   6.628,\n        21.334,   9.39 ,   0.775,  -5.4  , -14.875,  23.193])"
     },
     "metadata": {},
     "output_type": "display_data"
    }
   ],
   "source": [
    "# Model の残差を`result`からもってくる\n",
    "eps_hat = np.array(result.resid)\n",
    "display(eps_hat)"
   ],
   "metadata": {
    "collapsed": false,
    "pycharm": {
     "name": "#%%\n"
    }
   }
  },
  {
   "cell_type": "code",
   "source": [
    "# 残差二乗和: Model の適合度を示す指標\n",
    "np.sum(eps_hat ** 2)"
   ],
   "metadata": {
    "collapsed": false,
    "pycharm": {
     "name": "#%%\n"
    }
   },
   "execution_count": 32,
   "outputs": [
    {
     "data": {
      "text/plain": "2417.228"
     },
     "execution_count": 32,
     "metadata": {},
     "output_type": "execute_result"
    }
   ]
  },
  {
   "cell_type": "markdown",
   "source": [
    "残差二乗和そのものは同じ Model の中で相対的にしか使うことができず、適合度の良し悪しの判断は難しい。"
   ],
   "metadata": {
    "collapsed": false,
    "pycharm": {
     "name": "#%% md\n"
    }
   }
  },
  {
   "cell_type": "markdown",
   "source": [
    "### 決定係数（R-squared）\n",
    "- Model の Data への適合度を表す基本的な指標\n",
    "- 0 ~ 1 のの値をとり、1 に近いほど Model は Data へよく適合していると考えることができる\n",
    "- 決定係数がどのように求められるかを知るには３つの変動について知る必要がある。\n",
    "\n",
    "#### 全変動（total variance）\n",
    "観測値 yi がどれだけばらついているか、という指標。\n",
    "#### 回帰変動（explained variance）\n",
    "予測値が観測値の平均値に対してどれだけばらついているかという指標。予測値が観測値に近いほど全変動に近づく。\n",
    "#### 残差変動（unexplained variance）\n",
    "残差のばらつきを表す指標。残差二乗和と同じ。予測値が観測値に近いほど 0 に近づく。\n",
    "\n",
    "３つの変動は次のような関係が成り立つ\n",
    "**全変動 = 回帰変動 + 残差変動**\n",
    "\n",
    "全変動のうち回帰変動の占める割合が大きければそれは適合度のよい Model といえる。"
   ],
   "metadata": {
    "collapsed": false,
    "pycharm": {
     "name": "#%% md\n"
    }
   }
  },
  {
   "cell_type": "code",
   "source": [
    "total_var = np.sum((y - np.mean(y))**2)\n",
    "exp_var = np.sum((y_hat - np.mean(y))**2)\n",
    "unexp_var = np.sum(eps_hat ** 2)"
   ],
   "metadata": {
    "collapsed": false,
    "pycharm": {
     "name": "#%%\n"
    }
   },
   "execution_count": 33,
   "outputs": []
  },
  {
   "cell_type": "code",
   "source": [
    "# 全変動 = 回帰変動 + 残差変動が成り立っているか確かめる\n",
    "total_var, exp_var + unexp_var"
   ],
   "metadata": {
    "collapsed": false,
    "pycharm": {
     "name": "#%%\n"
    }
   },
   "execution_count": 34,
   "outputs": [
    {
     "data": {
      "text/plain": "(7468.550, 7468.550)"
     },
     "execution_count": 34,
     "metadata": {},
     "output_type": "execute_result"
    }
   ]
  },
  {
   "cell_type": "code",
   "execution_count": 35,
   "outputs": [
    {
     "data": {
      "text/plain": "0.676"
     },
     "execution_count": 35,
     "metadata": {},
     "output_type": "execute_result"
    }
   ],
   "source": [
    "# 決定係数\n",
    "exp_var / total_var"
   ],
   "metadata": {
    "collapsed": false,
    "pycharm": {
     "name": "#%%\n"
    }
   }
  },
  {
   "cell_type": "markdown",
   "source": [
    "単回帰の決定係数は、説明変数と応答変数の相関係数の二乗に一致することが知られている。"
   ],
   "metadata": {
    "collapsed": false,
    "pycharm": {
     "name": "#%% md\n"
    }
   }
  },
  {
   "cell_type": "code",
   "execution_count": 36,
   "outputs": [
    {
     "data": {
      "text/plain": "0.676"
     },
     "execution_count": 36,
     "metadata": {},
     "output_type": "execute_result"
    }
   ],
   "source": [
    "np.corrcoef(x, y)[0, 1] ** 2"
   ],
   "metadata": {
    "collapsed": false,
    "pycharm": {
     "name": "#%%\n"
    }
   }
  },
  {
   "cell_type": "markdown",
   "source": [
    "決定係数というのは、それがどんな無意味な変数であっても説明変数が増えると増加することが知られている。\n",
    "このような問題を解決するのが **自由度調整済み決定係数** になる。"
   ],
   "metadata": {
    "collapsed": false,
    "pycharm": {
     "name": "#%% md\n"
    }
   }
  },
  {
   "cell_type": "markdown",
   "source": [
    "### 自由度調整済み決定係数（adjusted R-square）\n",
    "- 説明変数を追加したときに、その説明変数にある程度以上の説明力がない場合は値が増加しないように調整した決定係数のこと。\n",
    "- 残差変動と全変動をそれぞれの自由度で割ることで計算される\n",
    "  - 全変動の自由度: n-1\n",
    "  - 残差変動（残差）の自由度: n-p-1\n",
    "  - 回帰変動（Model）の自由度: 回帰係数の数 p\n",
    "\n",
    "全変動の自由度 = 回帰変動の自由度 + 残差変動の自由度\n",
    "\n",
    "が満たされる。"
   ],
   "metadata": {
    "collapsed": false,
    "pycharm": {
     "name": "#%% md\n"
    }
   }
  },
  {
   "cell_type": "code",
   "execution_count": 37,
   "outputs": [
    {
     "data": {
      "text/plain": "0.658"
     },
     "execution_count": 37,
     "metadata": {},
     "output_type": "execute_result"
    }
   ],
   "source": [
    "# 単回帰Model における自由度調整済み決定係数を定義どおり求めてみる\n",
    "1 - (unexp_var / (n - p - 1)) / (total_var / (n - 1))"
   ],
   "metadata": {
    "collapsed": false,
    "pycharm": {
     "name": "#%%\n"
    }
   }
  },
  {
   "cell_type": "markdown",
   "source": [
    "## Ｆ検定（F test）\n",
    "切片 β0 以外の回帰係数に関する、\n",
    "- 帰無仮説: β1 = β2 = ... = βp = 0\n",
    "- 対立仮説: 少なくても１つの βi は０ではない\n",
    "\n",
    "という仮説に対して行なわれる検定。\n",
    "\n",
    "- 個々の回帰係数に対してではなく、Model 全体に行なわれる。\n",
    "- Ｆ検定統計量は、F = 回帰変動 / p  / 残差変動 / (n-p-1) で計算される。\n",
    "- Ｆ検定統計量は、自由度 (p, n-p-1) のＦ分布に従う。\n",
    "- Ｆ検定の理屈は、Model の適合度がよいときほど残差変動より回帰変動が大きくなることを利用する。\n",
    "- Ｆ検定統計量がある値より大きくなった場合、 Model data に適合している、と考え、上側の片側検定を行なうことで Model 全体に関する仮説検定を行なっている。\n",
    "- Ｆ検定統計量の分母 = 残差の分散。分子 = Model の分散と考えることができるので分散の比を検定していると解釈できる\n",
    "- 別名 **「分散検定（ANOVA: analysis of variance）」** とも呼ばれる"
   ],
   "metadata": {
    "collapsed": false,
    "pycharm": {
     "name": "#%% md\n"
    }
   }
  },
  {
   "cell_type": "code",
   "execution_count": 38,
   "outputs": [
    {
     "data": {
      "text/plain": "37.615"
     },
     "execution_count": 38,
     "metadata": {},
     "output_type": "execute_result"
    }
   ],
   "source": [
    "# F検定統計量を求める\n",
    "f = (exp_var / p) / (unexp_var / (n -p -1))\n",
    "f"
   ],
   "metadata": {
    "collapsed": false,
    "pycharm": {
     "name": "#%%\n"
    }
   }
  },
  {
   "cell_type": "code",
   "execution_count": 40,
   "outputs": [
    {
     "data": {
      "text/plain": "0.000"
     },
     "execution_count": 40,
     "metadata": {},
     "output_type": "execute_result"
    }
   ],
   "source": [
    "# ｐ値を求める\n",
    "rv = stats.f(p, n-p-1)\n",
    "1 - rv.cdf(f)"
   ],
   "metadata": {
    "collapsed": false,
    "pycharm": {
     "name": "#%%\n"
    }
   }
  },
  {
   "cell_type": "markdown",
   "source": [
    "帰無仮説は棄却され、説明変数のうち１つは応答変数に影響を与えることを確認。"
   ],
   "metadata": {
    "collapsed": false,
    "pycharm": {
     "name": "#%% md\n"
    }
   }
  },
  {
   "cell_type": "markdown",
   "source": [
    "### 最大対数尤度と AIC\n",
    "\n",
    "#### 赤池情報量規準（AIC: Akaike's information criterion）\n",
    "Model の予測性能に関する重要な指標。\n",
    "尤度や最大対数尤度といった概念が必要になる。\n",
    "\n",
    "#### 尤度（likelihood）\n",
    "観測値から得られる確率のこと。同時確率に見えるが尤度という。"
   ],
   "metadata": {
    "collapsed": false,
    "pycharm": {
     "name": "#%% md\n"
    }
   }
  },
  {
   "cell_type": "code",
   "execution_count": 42,
   "outputs": [
    {
     "data": {
      "text/plain": "0.031"
     },
     "execution_count": 42,
     "metadata": {},
     "output_type": "execute_result"
    }
   ],
   "source": [
    "# 表が 0.3、裏が 0.7 の確率ででる歪んだ Coin を５回なげたときの尤度を求める\n",
    "# 成功率 0.3 のベルヌーイ分布 の尤度を求める\n",
    "prob = 0.3\n",
    "coin_result = [0, 1, 0, 0, 1]\n",
    "\n",
    "rv = stats.bernoulli(prob)\n",
    "L = np.prod(rv.pmf(coin_result))\n",
    "L"
   ],
   "metadata": {
    "collapsed": false,
    "pycharm": {
     "name": "#%%\n"
    }
   }
  },
  {
   "cell_type": "markdown",
   "source": [
    "母数（母集団の成功率）p が未知の時、尤度 L は p の関数になっているように見えるので **尤度関数（likelihood function）** と呼び L(p) と表記する"
   ],
   "metadata": {
    "collapsed": false,
    "pycharm": {
     "name": "#%% md\n"
    }
   }
  },
  {
   "cell_type": "code",
   "execution_count": 49,
   "outputs": [
    {
     "data": {
      "text/plain": "<Figure size 720x432 with 1 Axes>",
      "image/png": "[encoded data removed]"
     },
     "metadata": {
      "needs_background": "light"
     },
     "output_type": "display_data"
    }
   ],
   "source": [
    "# p を０から１で変化させたときの尤度関数を描画してみる\n",
    "ps = np.linspace(0, 1, 100)\n",
    "Ls = [np.prod(stats.bernoulli(prob).pmf(coin_result)) for prob in ps]\n",
    "\n",
    "fig = plt.figure(figsize=(10, 6))\n",
    "ax = fig.add_subplot(111)\n",
    "ax.plot(ps, Ls, label='尤度関数', color='gray')\n",
    "ax.legend()\n",
    "plt.show()"
   ],
   "metadata": {
    "collapsed": false,
    "pycharm": {
     "name": "#%%\n"
    }
   }
  },
  {
   "cell_type": "markdown",
   "source": [
    "Graph から尤度関数は p が 0.4 のとき最大となっている。= 観測値 p=0.4 が最もそれらしい母数。"
   ],
   "metadata": {
    "collapsed": false,
    "pycharm": {
     "name": "#%% md\n"
    }
   }
  },
  {
   "cell_type": "markdown",
   "source": [
    "#### 最尤推定法（method of maximum likelihood）\n",
    "観測値にとって最も尤もらしいという理由で母数 p を推定する方法のこと。\n",
    "\n",
    "#### 最尤推定量（maximum likelihood estimator）\n",
    "最尤推定法によって推測される推定量のこと。\n",
    "\n",
    "#### 最尤推定値（maximum likelihood estimate）\n",
    "崔裕推定量の推定値のこと。\n",
    "\n",
    "#### 対数尤度（log-likelihood）\n",
    "- 尤度は確率の積となるため、かければかけるほど 0 にちかづいていき扱いづらくなるので代わりに使う対数。\n",
    "- 尤度関数が最大となるときに最大になるため、最尤推定は対数尤度関数が最大となるときの Parameter として求めることができる。\n",
    "\n",
    "#### 最大対数尤度（maximum log-likelihood）\n",
    "対数尤度関数が最大になるときの値"
   ],
   "metadata": {
    "collapsed": false,
    "pycharm": {
     "name": "#%% md\n"
    }
   }
  },
  {
   "cell_type": "code",
   "execution_count": 50,
   "outputs": [
    {
     "data": {
      "text/plain": "-3.365"
     },
     "execution_count": 50,
     "metadata": {},
     "output_type": "execute_result"
    }
   ],
   "source": [
    "# Coin の最大対数尤度を求める\n",
    "prob = 0.4  # p の最尤推定値は 0.4\n",
    "rv = stats.bernoulli(prob)\n",
    "mll = np.sum(np.log(rv.pmf([0, 1, 0, 0, 1])))\n",
    "mll"
   ],
   "metadata": {
    "collapsed": false,
    "pycharm": {
     "name": "#%%\n"
    }
   }
  },
  {
   "cell_type": "markdown",
   "source": [
    "#### 最大対数尤度\n",
    "回帰分析において、観測値に対する最大対数尤度は Model の Data のあてはまりの良さを表していると考えることができる"
   ],
   "metadata": {
    "collapsed": false,
    "pycharm": {
     "name": "#%% md\n"
    }
   }
  },
  {
   "cell_type": "code",
   "execution_count": 52,
   "outputs": [
    {
     "data": {
      "text/plain": "-76.325"
     },
     "execution_count": 52,
     "metadata": {},
     "output_type": "execute_result"
    }
   ],
   "source": [
    "# 単回帰Model での最大対数尤度を求める。\n",
    "rv = stats.norm(y_hat, np.sqrt(unexp_var / n))\n",
    "mll = np.sum(np.log(rv.pdf(y)))\n",
    "mll"
   ],
   "metadata": {
    "collapsed": false,
    "pycharm": {
     "name": "#%%\n"
    }
   }
  },
  {
   "cell_type": "markdown",
   "source": [
    "- 最大対数尤度は値が大きいほど Model への当てはまりがいい、と考えることができる。\n",
    "- 最大対数尤度も説明変数を増やすと、値が増えるという特徴を持っている"
   ],
   "metadata": {
    "collapsed": false,
    "pycharm": {
     "name": "#%% md\n"
    }
   }
  },
  {
   "cell_type": "markdown",
   "source": [
    "#### AIC\n",
    "- 対数尤度では、意味のない説明変数を増やすことでも当てはまりの良さが増加してしますう。\n",
    "- AIC は Model の複雑差（説明変数の数）と Data への適合度との Balance をとった指標。\n",
    "- 最大対数尤度に回帰係数の数を Penalty として付け加えることで、むやみに説明変数の増えた Model がよい Model として選ばれないようにしてある。"
   ],
   "metadata": {
    "collapsed": false,
    "pycharm": {
     "name": "#%% md\n"
    }
   }
  },
  {
   "cell_type": "code",
   "execution_count": 53,
   "outputs": [
    {
     "data": {
      "text/plain": "156.650"
     },
     "execution_count": 53,
     "metadata": {},
     "output_type": "execute_result"
    }
   ],
   "source": [
    "# AIC を求める\n",
    "aic = -2 * mll + 2 * (p+1)\n",
    "aic"
   ],
   "metadata": {
    "collapsed": false,
    "pycharm": {
     "name": "#%%\n"
    }
   }
  },
  {
   "cell_type": "markdown",
   "source": [
    "AIC は 値が小さいほど Model の予測の精度がいいと考えることができる。"
   ],
   "metadata": {
    "collapsed": false,
    "pycharm": {
     "name": "#%% md\n"
    }
   }
  },
  {
   "cell_type": "markdown",
   "source": [
    "#### ベイズ情報量規準（BIC: Bayesian information criterion）\n",
    "- AIC と類似の指標\n",
    "- 回帰係数の数に加え、Sample size: n に対しても Penalty を加えたもの"
   ],
   "metadata": {
    "collapsed": false,
    "pycharm": {
     "name": "#%% md\n"
    }
   }
  },
  {
   "cell_type": "code",
   "execution_count": 54,
   "outputs": [
    {
     "data": {
      "text/plain": "158.642"
     },
     "execution_count": 54,
     "metadata": {},
     "output_type": "execute_result"
    }
   ],
   "source": [
    "# BIC を加える\n",
    "bic = -2 * mll + np.log(n) * (p+1)\n",
    "bic"
   ],
   "metadata": {
    "collapsed": false,
    "pycharm": {
     "name": "#%%\n"
    }
   }
  },
  {
   "cell_type": "markdown",
   "source": [
    "BIC も値が小さいほど Model の予測の精度がいいと考える。"
   ],
   "metadata": {
    "collapsed": false,
    "pycharm": {
     "name": "#%% md\n"
    }
   }
  },
  {
   "cell_type": "markdown",
   "source": [
    "## Model の妥当性\n",
    "回帰分析に関して立てた「誤差項: εi は互いに独立に N(0, σ**2) に従う」という仮定が満たされているかどうかの check."
   ],
   "metadata": {
    "collapsed": false,
    "pycharm": {
     "name": "#%% md\n"
    }
   }
  },
  {
   "cell_type": "code",
   "execution_count": 56,
   "outputs": [
    {
     "name": "stdout",
     "output_type": "stream",
     "text": [
      "                            OLS Regression Results                            \n",
      "==============================================================================\n",
      "Dep. Variable:                  期末テスト   R-squared:                       0.756\n",
      "Model:                            OLS   Adj. R-squared:                  0.727\n",
      "Method:                 Least Squares   F-statistic:                     26.35\n",
      "Date:                Sun, 13 Mar 2022   Prob (F-statistic):           6.19e-06\n",
      "Time:                        05:05:18   Log-Likelihood:                -73.497\n",
      "No. Observations:                  20   AIC:                             153.0\n",
      "Df Residuals:                      17   BIC:                             156.0\n",
      "Df Model:                           2                                         \n",
      "Covariance Type:            nonrobust                                         \n",
      "==============================================================================\n",
      "                 coef    std err          t      P>|t|      [0.025      0.975]\n",
      "------------------------------------------------------------------------------\n",
      "Intercept     -1.8709     11.635     -0.161      0.874     -26.420      22.678\n",
      "小テスト           6.4289      0.956      6.725      0.000       4.412       8.446\n",
      "睡眠時間           4.1917      1.778      2.357      0.031       0.440       7.943\n",
      "==============================================================================\n",
      "Omnibus:                        2.073   Durbin-Watson:                   1.508\n",
      "Prob(Omnibus):                  0.355   Jarque-Bera (JB):                1.716\n",
      "Skew:                           0.660   Prob(JB):                        0.424\n",
      "Kurtosis:                       2.437   Cond. No.                         38.0\n",
      "==============================================================================\n",
      "\n",
      "Notes:\n",
      "[1] Standard Errors assume that the covariance matrix of the errors is correctly specified.\n"
     ]
    }
   ],
   "source": [
    "# 重回帰 Model の結果を再出力\n",
    "formula = '期末テスト~小テスト+睡眠時間'\n",
    "result = smf.ols(formula, df).fit()\n",
    "print(result.summary())"
   ],
   "metadata": {
    "collapsed": false,
    "pycharm": {
     "name": "#%%\n"
    }
   }
  },
  {
   "cell_type": "code",
   "source": [
    "# 残差を準備する\n",
    "# 誤差項 εi に関数 check なので、分析対象となるのは残差。\n",
    "eps_hat = np.array(result.resid)"
   ],
   "metadata": {
    "collapsed": false,
    "pycharm": {
     "name": "#%%\n"
    }
   },
   "execution_count": 58,
   "outputs": []
  },
  {
   "cell_type": "markdown",
   "source": [
    "### 正規性の検定\n",
    "- 誤差項 εi が N(0, σ**2) に従うという仮定が妥当であったか調べるため、残差が正規分布に従っているかを確かめる検定。\n",
    "- statsmodels では、正規性の検定として Omunibus検定と Jarque-Bera検定が使用される。\n",
    "- どちらの正規検定も\n",
    "  - 帰無仮説: 残差項は正規分布に従っている\n",
    "  - 対立仮説: 残差項は正規分布には従っていない\n",
    "という仮説を行なっている。\n",
    "- これらの検定のｐ値である\n",
    "  - Prob(Omnibus)\n",
    "  - Prob(JB)\n",
    "が有意水準である 0.05 より大きければ特に問題ない。\n",
    "平均や分散と同じように Data の特徴を表す指標として\n",
    "  - Skewness(歪度)\n",
    "  - Kurtosis（尖度）\n",
    "という指標があり、これらの指標からも正規性を確かめることができる\n",
    "\n",
    "#### 歪度(Skewness)\n",
    "- 左右対称な分布であれば 0 になる。\n",
    "- カイ二乗分布のように右に歪んだ分布であれば 0 より大きくなる。\n",
    "- 左に歪んだ分布のときは 0 より小さい値となる\n",
    "- stats.skew で計算できる"
   ],
   "metadata": {
    "collapsed": false,
    "pycharm": {
     "name": "#%% md\n"
    }
   }
  },
  {
   "cell_type": "code",
   "execution_count": 59,
   "outputs": [
    {
     "data": {
      "text/plain": "0.660"
     },
     "execution_count": 59,
     "metadata": {},
     "output_type": "execute_result"
    }
   ],
   "source": [
    "# 歪度(Skewness)を計算する\n",
    "stats.skew(eps_hat)"
   ],
   "metadata": {
    "collapsed": false,
    "pycharm": {
     "name": "#%%\n"
    }
   }
  },
  {
   "cell_type": "markdown",
   "source": [
    "#### 尖度(kurtosis)\n",
    "- 分布の尖がり具合を測る指標。\n",
    "- 正規分布であれば 3 になる。\n",
    "- 正規分布より尖った Peak をもつ分布だと 3 より大きくなる。\n",
    "- 正規分布より丸みがかった Peak をもつ分布だと 3 より小さくなる。\n",
    "- 流儀によっては正規分布の尖度が 0 になるように 3 を減算した値を尖度とする場合がある\n",
    "- statsmodels だと正規分布の尖度が 3 となる定義"
   ],
   "metadata": {
    "collapsed": false,
    "pycharm": {
     "name": "#%% md\n"
    }
   }
  },
  {
   "cell_type": "code",
   "execution_count": 63,
   "outputs": [
    {
     "data": {
      "text/plain": "2.437"
     },
     "execution_count": 63,
     "metadata": {},
     "output_type": "execute_result"
    }
   ],
   "source": [
    "# 尖度(Kurtosis)を計算する\n",
    "# 正規分布のときに 3 になる定義を stats.kurtosis で行なう場合、引数 fisher を False にする\n",
    "stats.kurtosis(eps_hat, fisher=False)"
   ],
   "metadata": {
    "collapsed": false,
    "pycharm": {
     "name": "#%%\n"
    }
   }
  },
  {
   "cell_type": "markdown",
   "source": [
    "#### ダービン・ワトソン比(Durbin-Watson ratio)\n",
    "- 異なる誤差項は互いに無相関であることを check する指標\n",
    "- 時系列 Data を扱う場合に特に重要になる\n",
    "- ０から４の値をとり、０に近ければ正の相関、４に近ければ負の相関、２前後であれば無相関であると判断する"
   ],
   "metadata": {
    "collapsed": false,
    "pycharm": {
     "name": "#%% md\n"
    }
   }
  },
  {
   "cell_type": "code",
   "execution_count": 64,
   "outputs": [
    {
     "data": {
      "text/plain": "1.508"
     },
     "execution_count": 64,
     "metadata": {},
     "output_type": "execute_result"
    }
   ],
   "source": [
    "np.sum(np.diff(eps_hat, 1)**2 / np.sum(eps_hat ** 2))"
   ],
   "metadata": {
    "collapsed": false,
    "pycharm": {
     "name": "#%%\n"
    }
   }
  },
  {
   "cell_type": "markdown",
   "source": [],
   "metadata": {
    "collapsed": false,
    "pycharm": {
     "name": "#%% md\n"
    }
   }
  }
 ],
 "metadata": {
  "kernelspec": {
   "display_name": "Python 3",
   "language": "python",
   "name": "python3"
  },
  "language_info": {
   "codemirror_mode": {
    "name": "ipython",
    "version": 2
   },
   "file_extension": ".py",
   "mimetype": "text/x-python",
   "name": "python",
   "nbconvert_exporter": "python",
   "pygments_lexer": "ipython2",
   "version": "2.7.6"
  }
 },
 "nbformat": 4,
 "nbformat_minor": 0
}