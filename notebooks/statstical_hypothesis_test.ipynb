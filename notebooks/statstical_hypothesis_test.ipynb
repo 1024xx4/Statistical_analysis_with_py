{
 "cells": [
  {
   "cell_type": "code",
   "execution_count": 133,
   "outputs": [],
   "source": [
    "import numpy as np\n",
    "import pandas as pd\n",
    "from scipy import stats\n",
    "\n",
    "%precision 3\n",
    "np.random.seed(1111)"
   ],
   "metadata": {
    "collapsed": false,
    "pycharm": {
     "name": "#%%\n"
    }
   }
  },
  {
   "cell_type": "markdown",
   "source": [
    "# 統計的仮説検定"
   ],
   "metadata": {
    "collapsed": false,
    "pycharm": {
     "name": "#%% md\n"
    }
   }
  },
  {
   "cell_type": "code",
   "execution_count": 134,
   "outputs": [
    {
     "data": {
      "text/plain": "array([122.02, 131.73, 130.6 , 131.82, 132.05, 126.12, 124.43, 132.89,\n       122.79, 129.95, 126.14, 134.45, 127.64, 125.68])"
     },
     "metadata": {},
     "output_type": "display_data"
    }
   ],
   "source": [
    "# 標本 Data: 14日間のフライドポテトの重さを準備\n",
    "df = pd.read_csv('../data/ch11_potato.csv')\n",
    "sample = np.array(df['重さ'])\n",
    "display(sample)"
   ],
   "metadata": {
    "collapsed": false,
    "pycharm": {
     "name": "#%%\n"
    }
   }
  },
  {
   "cell_type": "code",
   "execution_count": 135,
   "outputs": [
    {
     "data": {
      "text/plain": "128.451"
     },
     "execution_count": 135,
     "metadata": {},
     "output_type": "execute_result"
    }
   ],
   "source": [
    "# 標本平均を求める\n",
    "s_mean = np.mean(sample)\n",
    "s_mean"
   ],
   "metadata": {
    "collapsed": false,
    "pycharm": {
     "name": "#%%\n"
    }
   }
  },
  {
   "cell_type": "markdown",
   "source": [
    "## 統計的仮説検定とは（statistical hypothesis testing）"
   ],
   "metadata": {
    "collapsed": false,
    "pycharm": {
     "name": "#%% md\n"
    }
   }
  },
  {
   "cell_type": "markdown",
   "source": [
    "### 統計的仮説検定の基本\n",
    "- フライドポテトの母平均が130gより少ないかどうかを確かめたい。\n",
    "- 前提として\n",
    "  - 母集団が正規分布に従っている\n",
    "  - 母分散は９\n",
    "とわかっている。\n",
    "\n",
    "母平均が「130g」という仮定をすると、標本平均は、N(130, 9)に従うことになる"
   ],
   "metadata": {
    "collapsed": false,
    "pycharm": {
     "name": "#%% md\n"
    }
   }
  },
  {
   "cell_type": "code",
   "execution_count": 136,
   "outputs": [
    {
     "data": {
      "text/plain": "128.681"
     },
     "execution_count": 136,
     "metadata": {},
     "output_type": "execute_result"
    }
   ],
   "source": [
    "# 標本平均が P(標本平均<=x)=0.05 を満たす x を考える\n",
    "rv = stats.norm(130, np.sqrt(9 / 14))\n",
    "rv.isf(0.95)"
   ],
   "metadata": {
    "collapsed": false,
    "pycharm": {
     "name": "#%%\n"
    }
   }
  },
  {
   "cell_type": "markdown",
   "source": [
    "標本平均が 126.681g 以下の重さになることは５％の確率でしか発生しない = 標本平均が 128.451g となったのは５％の確率でしか発生しない珍事な出来事といえる。\n",
    "よって「母平均が 130g より少ない」と考え結論づける。"
   ],
   "metadata": {
    "collapsed": false,
    "pycharm": {
     "name": "#%% md\n"
    }
   }
  },
  {
   "cell_type": "code",
   "source": [
    "# 帰無仮説「母平均 130g」\n",
    "# 検定統計量に標本平均を標準化した Z を使用する。\n",
    "# 検定統計量が臨界値より小さければ帰無仮説を棄却し、そうでないときに帰無仮説を採択する。\n",
    "\n",
    "z = (s_mean - 130) / np.sqrt(9/14)\n",
    "print(f'統計検定量: {z:.3f}')"
   ],
   "metadata": {
    "collapsed": false,
    "pycharm": {
     "name": "#%%\n"
    }
   },
   "execution_count": 137,
   "outputs": [
    {
     "name": "stdout",
     "output_type": "stream",
     "text": [
      "統計検定量: -1.932\n"
     ]
    }
   ]
  },
  {
   "cell_type": "code",
   "execution_count": 138,
   "outputs": [
    {
     "name": "stdout",
     "output_type": "stream",
     "text": [
      "臨界値: -1.645\n"
     ]
    }
   ],
   "source": [
    "rv = stats.norm()\n",
    "\n",
    "print(f'臨界値: {rv.isf(0.95):.3f}')"
   ],
   "metadata": {
    "collapsed": false,
    "pycharm": {
     "name": "#%%\n"
    }
   }
  },
  {
   "cell_type": "markdown",
   "source": [
    "検定統計量と臨界値を比較すると検定統計量のほうが小さい値となっている。\n",
    "= 帰無仮説は棄却\n",
    "= 平均は、130g より少ないという結論になる"
   ],
   "metadata": {
    "collapsed": false,
    "pycharm": {
     "name": "#%% md\n"
    }
   }
  },
  {
   "cell_type": "code",
   "execution_count": 139,
   "outputs": [
    {
     "name": "stdout",
     "output_type": "stream",
     "text": [
      "ｐ値: 0.027\n"
     ]
    }
   ],
   "source": [
    "# ｐ値を使った仮説検定について確認する。\n",
    "\n",
    "# 検定統計量（標本平均を標準化した Z）からｐ値を求める\n",
    "print(f'ｐ値: {rv.cdf(z):.3f}')"
   ],
   "metadata": {
    "collapsed": false,
    "pycharm": {
     "name": "#%%\n"
    }
   }
  },
  {
   "cell_type": "markdown",
   "source": [
    "ｐ値が有意水準 0.05 より小さい値になった。\n",
    "= 帰無仮説は棄却"
   ],
   "metadata": {
    "collapsed": false,
    "pycharm": {
     "name": "#%% md\n"
    }
   }
  },
  {
   "cell_type": "markdown",
   "source": [
    "### 片側検定と両側検定\n",
    "フライドポテトの「母平均は 130g ではない」という対立仮説で仮説検定を行なう。（※130g より少ない、多いの両側検定）"
   ],
   "metadata": {
    "collapsed": false,
    "pycharm": {
     "name": "#%% md\n"
    }
   }
  },
  {
   "cell_type": "code",
   "source": [
    "# 検定統計量を求める\n",
    "z = (s_mean - 130) / np.sqrt(9/14)\n",
    "print(f'検定統計量: {z:.3f}（※標本平均を標準化した値）')"
   ],
   "metadata": {
    "collapsed": false,
    "pycharm": {
     "name": "#%%\n"
    }
   },
   "execution_count": 140,
   "outputs": [
    {
     "name": "stdout",
     "output_type": "stream",
     "text": [
      "検定統計量: -1.932（※標本平均を標準化した値）\n"
     ]
    }
   ]
  },
  {
   "cell_type": "code",
   "execution_count": 141,
   "outputs": [
    {
     "data": {
      "text/plain": "(-1.960, 1.960)"
     },
     "execution_count": 141,
     "metadata": {},
     "output_type": "execute_result"
    }
   ],
   "source": [
    "# 臨界値を求める\n",
    "# 両側検定のため標準正規分布の95%区間によって求める\n",
    "rv = stats.norm()\n",
    "rv.interval(0.95)"
   ],
   "metadata": {
    "collapsed": false,
    "pycharm": {
     "name": "#%%\n"
    }
   }
  },
  {
   "cell_type": "markdown",
   "source": [
    "臨界値と統計検定量を比較してみると、統計検定量が採択域にはいっているため帰無仮説は棄却されない。\n",
    "※両側検定に比べると片側検定は棄却しやすい。"
   ],
   "metadata": {
    "collapsed": false,
    "pycharm": {
     "name": "#%% md\n"
    }
   }
  },
  {
   "cell_type": "code",
   "execution_count": 142,
   "outputs": [
    {
     "name": "stdout",
     "output_type": "stream",
     "text": [
      "ｐ値（両側検定: 0.053\n"
     ]
    }
   ],
   "source": [
    "# ｐ値を求める\n",
    "# 両側検定のｐ値は、上側と下側の両方の面積を考慮し、累積密度関数の値を２倍にすることによって求められる。\n",
    "print(f'ｐ値（両側検定: {rv.cdf(z) * 2:.3f}')"
   ],
   "metadata": {
    "collapsed": false,
    "pycharm": {
     "name": "#%%\n"
    }
   }
  },
  {
   "cell_type": "markdown",
   "source": [
    "ｐ値が有意水準 0.05 より大きくなっていることからも帰無仮説は棄却されない。"
   ],
   "metadata": {
    "collapsed": false,
    "pycharm": {
     "name": "#%% md\n"
    }
   }
  },
  {
   "cell_type": "markdown",
   "source": [
    "### 仮説検定における２つの過誤"
   ],
   "metadata": {
    "collapsed": false,
    "pycharm": {
     "name": "#%% md\n"
    }
   }
  },
  {
   "cell_type": "markdown",
   "source": [
    "#### 第一種の過誤\n",
    "帰無仮説が正しいときに、帰無仮説を棄却してしまう過誤がどのくらいの割合で発生してしまうのか Simulation してみる。"
   ],
   "metadata": {
    "collapsed": false,
    "pycharm": {
     "name": "#%% md\n"
    }
   }
  },
  {
   "cell_type": "code",
   "execution_count": 143,
   "outputs": [],
   "source": [
    "# 母集団の確率分布は N(130, 9)\n",
    "rv = stats.norm(130, 3)"
   ],
   "metadata": {
    "collapsed": false,
    "pycharm": {
     "name": "#%%\n"
    }
   }
  },
  {
   "cell_type": "code",
   "execution_count": 144,
   "outputs": [
    {
     "name": "stdout",
     "output_type": "stream",
     "text": [
      "第一種の過誤を犯す割合（「平均130g」であるにも関わらず「平均は 130g より少ない」と結論づけてしまう割合）: 0.053\n"
     ]
    }
   ],
   "source": [
    "# この母集団から 14個の標本を抽出して仮説検定を行なう、という作業を10000回行なう\n",
    "c = stats.norm().isf(0.95)\n",
    "n_samples = 10000\n",
    "cnt = 0\n",
    "for _ in range(n_samples):\n",
    "    sample_ = np.round(rv.rvs(14), 2)\n",
    "    s_mean_ = np.mean(sample_)\n",
    "    z = (s_mean_ - 130) / np.sqrt(9 / 14)\n",
    "    if z < c:\n",
    "        cnt += 1\n",
    "\n",
    "print(f'第一種の過誤を犯す割合（「平均130g」であるにも関わらず「平均は 130g より少ない」と結論づけてしまう割合）: {cnt / n_samples:.3f}')"
   ],
   "metadata": {
    "collapsed": false,
    "pycharm": {
     "name": "#%%\n"
    }
   }
  },
  {
   "cell_type": "markdown",
   "source": [
    "#### 第二種の過誤\n",
    "対立仮説が正しいときに、帰無仮説を採択してしまう過誤（「母平均が 130g より少ない」のに「母平均が 130g より少ない」という結論が得ることができない）がどのくらいの割合で発生するか simulation してみる。"
   ],
   "metadata": {
    "collapsed": false,
    "pycharm": {
     "name": "#%% md\n"
    }
   }
  },
  {
   "cell_type": "code",
   "execution_count": 145,
   "outputs": [],
   "source": [
    "# 母集団のへの確率分布は N(128, 9)\n",
    "rv = stats.norm(128, 3)"
   ],
   "metadata": {
    "collapsed": false,
    "pycharm": {
     "name": "#%%\n"
    }
   }
  },
  {
   "cell_type": "code",
   "execution_count": 146,
   "outputs": [
    {
     "name": "stdout",
     "output_type": "stream",
     "text": [
      "第二種の過誤を犯してしまう割合; 0.197\n"
     ]
    }
   ],
   "source": [
    "c = stats.norm().isf(0.95)\n",
    "n_samples = 10000\n",
    "cnt = 0\n",
    "for _ in range(n_samples):\n",
    "    sample_ = np.round(rv.rvs(14), 2)\n",
    "    s_mean_ = np.mean(sample_)\n",
    "    z = (s_mean_ - 130) / np.sqrt(9 / 14)\n",
    "    if z >= c:\n",
    "        cnt += 1\n",
    "\n",
    "print(f'第二種の過誤を犯してしまう割合; {cnt / n_samples:.3f}')"
   ],
   "metadata": {
    "collapsed": false,
    "pycharm": {
     "name": "#%%\n"
    }
   }
  },
  {
   "cell_type": "markdown",
   "source": [
    "## 基本的な仮説検定"
   ],
   "metadata": {
    "collapsed": false,
    "pycharm": {
     "name": "#%% md\n"
    }
   }
  },
  {
   "cell_type": "markdown",
   "source": [
    "### 正規分布の母平均の検定（母分散既知）"
   ],
   "metadata": {
    "collapsed": false,
    "pycharm": {
     "name": "#%% md\n"
    }
   }
  },
  {
   "cell_type": "code",
   "execution_count": 147,
   "outputs": [],
   "source": [
    "# 正規分布の母平均の仮説検定（母分散既知）を関数として実装\n",
    "\n",
    "def pmean_test(sample, mean0, p_var, alpha=0.05):\n",
    "    s_mean = np.mean(sample)\n",
    "    n = len(sample)\n",
    "    rv = stats.norm()\n",
    "    interval = rv.interval(1 - alpha)\n",
    "\n",
    "    z = (s_mean - mean0) / np.sqrt(p_var / n)\n",
    "    if interval[0] <= z <= interval[1]:\n",
    "        print('帰無仮説を採択')\n",
    "    else:\n",
    "        print('帰無仮説を棄却')\n",
    "    if z < 0:\n",
    "        p = rv.cdf(z) * 2\n",
    "    else:\n",
    "        p = (1 - rv.cdf(z)) * 2\n",
    "    print(f'ｐ値は{p:.3f}')"
   ],
   "metadata": {
    "collapsed": false,
    "pycharm": {
     "name": "#%%\n"
    }
   }
  },
  {
   "cell_type": "code",
   "execution_count": 151,
   "outputs": [
    {
     "name": "stdout",
     "output_type": "stream",
     "text": [
      "帰無仮説を採択\n",
      "ｐ値は0.053\n"
     ]
    }
   ],
   "source": [
    "# フライドポテトの標本Data で実行\n",
    "pmean_test(sample, 130, 9)"
   ],
   "metadata": {
    "collapsed": false,
    "pycharm": {
     "name": "#%%\n"
    }
   }
  },
  {
   "cell_type": "markdown",
   "source": [
    "### 正規分布の母分散の検定"
   ],
   "metadata": {
    "collapsed": false,
    "pycharm": {
     "name": "#%% md\n"
    }
   }
  },
  {
   "cell_type": "code",
   "execution_count": 152,
   "outputs": [],
   "source": [
    "# 正規分布の母分散の検定を関数として実装\n",
    "def pvar_test(sample, var0, alpha=0.05):\n",
    "    u_var = np.var(sample, ddof=1)\n",
    "    n = len(sample)\n",
    "    rv = stats.chi2(df=n - 1)\n",
    "    interval = rv.interval(1 - alpha)\n",
    "\n",
    "    y = (n - 1) * u_var / var0\n",
    "    if interval[0] <= y <= interval[1]:\n",
    "        print('帰無仮説を採択')\n",
    "    else:\n",
    "        print('帰無仮説を棄却')\n",
    "    if y < rv.isf(0.5):\n",
    "        p = rv.cdf(y) * 2\n",
    "    else:\n",
    "        p = (1 - rv.cdf(y)) * 2\n",
    "    print(f'ｐ値は{p:.3f}')"
   ],
   "metadata": {
    "collapsed": false,
    "pycharm": {
     "name": "#%%\n"
    }
   }
  },
  {
   "cell_type": "code",
   "execution_count": 153,
   "outputs": [
    {
     "name": "stdout",
     "output_type": "stream",
     "text": [
      "帰無仮説を採択\n",
      "ｐ値は0.085\n"
     ]
    }
   ],
   "source": [
    "# フライドポテトの標本Data で実行\n",
    "pvar_test(sample, 9)"
   ],
   "metadata": {
    "collapsed": false,
    "pycharm": {
     "name": "#%%\n"
    }
   }
  },
  {
   "cell_type": "markdown",
   "source": [
    "### 正規分布の母平均の検定（母分散未知）"
   ],
   "metadata": {
    "collapsed": false,
    "pycharm": {
     "name": "#%% md\n"
    }
   }
  },
  {
   "cell_type": "code",
   "execution_count": 154,
   "outputs": [],
   "source": [
    "# 正規分布の母平均の検定（母分散未知）を関数として実装\n",
    "def pmean_test(sample, mean0, alpha=0.05):\n",
    "    s_mean = np.mean(sample)\n",
    "    u_var = np.var(sample, ddof=1)\n",
    "    n = len(sample)\n",
    "    rv = stats.t(df=n - 1)\n",
    "    interval = rv.interval(1 - alpha)\n",
    "\n",
    "    t = (s_mean - mean0) / np.sqrt(u_var / n)\n",
    "    if interval[0] <= t <= interval[1]:\n",
    "        print('帰無仮説を採択')\n",
    "    else:\n",
    "        print('帰無仮説を棄却')\n",
    "    if t < 0:\n",
    "        p = rv.cdf(t) * 2\n",
    "    else:\n",
    "        p = (1 - rv.cdf(t)) * 2\n",
    "    print(f'ｐ値は{p:.3f}')"
   ],
   "metadata": {
    "collapsed": false,
    "pycharm": {
     "name": "#%%\n"
    }
   }
  },
  {
   "cell_type": "code",
   "execution_count": 155,
   "outputs": [
    {
     "name": "stdout",
     "output_type": "stream",
     "text": [
      "帰無仮説を採択\n",
      "ｐ値は0.169\n"
     ]
    }
   ],
   "source": [
    "# フライドポテトの標本に対して実行\n",
    "pmean_test(sample, 130)"
   ],
   "metadata": {
    "collapsed": false,
    "pycharm": {
     "name": "#%%\n"
    }
   }
  },
  {
   "cell_type": "code",
   "source": [
    "# `scipy.stats` の `ttest_1samp()`関数を利用してみる\n",
    "t, p = stats.ttest_1samp(sample, 130)\n",
    "print(f'統計検定量: {t:.3f}', f'ｐ値: {p:.3f}')"
   ],
   "metadata": {
    "collapsed": false,
    "pycharm": {
     "name": "#%%\n"
    }
   },
   "execution_count": 157,
   "outputs": [
    {
     "name": "stdout",
     "output_type": "stream",
     "text": [
      "統計検定量: -1.455 ｐ値: 0.169\n"
     ]
    }
   ]
  },
  {
   "cell_type": "markdown",
   "source": [
    "## ２標本問題（two-sample problem）に関する仮説検定"
   ],
   "metadata": {
    "collapsed": false,
    "pycharm": {
     "name": "#%% md\n"
    }
   }
  },
  {
   "cell_type": "markdown",
   "source": [
    "### 対応のある t検定（paired t-test)\n",
    "Data に対応があり、差に正規分布を仮定できる場合の平均値差の検定"
   ],
   "metadata": {
    "collapsed": false,
    "pycharm": {
     "name": "#%% md\n"
    }
   }
  },
  {
   "cell_type": "code",
   "execution_count": 160,
   "outputs": [
    {
     "name": "stdout",
     "output_type": "stream",
     "text": [
      "(20, 2)\n"
     ]
    },
    {
     "data": {
      "text/plain": "    前   後\n0  59  41\n1  52  63\n2  55  68\n3  61  59\n4  59  84",
      "text/html": "<div>\n<style scoped>\n    .dataframe tbody tr th:only-of-type {\n        vertical-align: middle;\n    }\n\n    .dataframe tbody tr th {\n        vertical-align: top;\n    }\n\n    .dataframe thead th {\n        text-align: right;\n    }\n</style>\n<table border=\"1\" class=\"dataframe\">\n  <thead>\n    <tr style=\"text-align: right;\">\n      <th></th>\n      <th>前</th>\n      <th>後</th>\n    </tr>\n  </thead>\n  <tbody>\n    <tr>\n      <th>0</th>\n      <td>59</td>\n      <td>41</td>\n    </tr>\n    <tr>\n      <th>1</th>\n      <td>52</td>\n      <td>63</td>\n    </tr>\n    <tr>\n      <th>2</th>\n      <td>55</td>\n      <td>68</td>\n    </tr>\n    <tr>\n      <th>3</th>\n      <td>61</td>\n      <td>59</td>\n    </tr>\n    <tr>\n      <th>4</th>\n      <td>59</td>\n      <td>84</td>\n    </tr>\n  </tbody>\n</table>\n</div>"
     },
     "execution_count": 160,
     "metadata": {},
     "output_type": "execute_result"
    }
   ],
   "source": [
    "# Data の準備\n",
    "# 20人に１週間筋トレをしてもらい、その前後で集中力を測った Test結果\n",
    "training_rel = pd.read_csv('../data/ch11_training_rel.csv')\n",
    "print(training_rel.shape)\n",
    "training_rel.head()"
   ],
   "metadata": {
    "collapsed": false,
    "pycharm": {
     "name": "#%%\n"
    }
   }
  },
  {
   "cell_type": "markdown",
   "source": [
    "筋トレに集中力を向上させる効果があるかどうかを、筋トレ前と筋トレ御の集中力Test の平均点を比較することで判断する。\n",
    "そのために次の仮説検定を行なう\n",
    "- 帰無仮説: 筋トレ前の平均点 - 筋トレ後の平均的 = 0\n",
    "- 対立仮説: 筋トレ前の平均点 - 筋トレ後の平均的 = 0 ではない"
   ],
   "metadata": {
    "collapsed": false,
    "pycharm": {
     "name": "#%% md\n"
    }
   }
  },
  {
   "cell_type": "code",
   "execution_count": 161,
   "outputs": [
    {
     "data": {
      "text/plain": "    前   後   差\n0  59  41  18\n1  52  63 -11\n2  55  68 -13\n3  61  59   2\n4  59  84 -25",
      "text/html": "<div>\n<style scoped>\n    .dataframe tbody tr th:only-of-type {\n        vertical-align: middle;\n    }\n\n    .dataframe tbody tr th {\n        vertical-align: top;\n    }\n\n    .dataframe thead th {\n        text-align: right;\n    }\n</style>\n<table border=\"1\" class=\"dataframe\">\n  <thead>\n    <tr style=\"text-align: right;\">\n      <th></th>\n      <th>前</th>\n      <th>後</th>\n      <th>差</th>\n    </tr>\n  </thead>\n  <tbody>\n    <tr>\n      <th>0</th>\n      <td>59</td>\n      <td>41</td>\n      <td>18</td>\n    </tr>\n    <tr>\n      <th>1</th>\n      <td>52</td>\n      <td>63</td>\n      <td>-11</td>\n    </tr>\n    <tr>\n      <th>2</th>\n      <td>55</td>\n      <td>68</td>\n      <td>-13</td>\n    </tr>\n    <tr>\n      <th>3</th>\n      <td>61</td>\n      <td>59</td>\n      <td>2</td>\n    </tr>\n    <tr>\n      <th>4</th>\n      <td>59</td>\n      <td>84</td>\n      <td>-25</td>\n    </tr>\n  </tbody>\n</table>\n</div>"
     },
     "execution_count": 161,
     "metadata": {},
     "output_type": "execute_result"
    }
   ],
   "source": [
    "# 個々の Data の差を考える\n",
    "training_rel['差'] = training_rel['前'] - training_rel['後']\n",
    "training_rel.head()"
   ],
   "metadata": {
    "collapsed": false,
    "pycharm": {
     "name": "#%%\n"
    }
   }
  },
  {
   "cell_type": "markdown",
   "source": [
    "仮説検定は差の平均として\n",
    "- 帰無仮説: 平均点の差 = 0\n",
    "- 対立仮説: 平均点の差 = 0 ではない\n",
    "\n",
    "と言い換えることができる。\n",
    "そのことから１標本のｔ検定（正規分布の母平均の検定（母分散未知））に帰着し、仮説検定を行なう。"
   ],
   "metadata": {
    "collapsed": false,
    "pycharm": {
     "name": "#%% md\n"
    }
   }
  },
  {
   "cell_type": "code",
   "execution_count": 162,
   "outputs": [
    {
     "name": "stdout",
     "output_type": "stream",
     "text": [
      "ｐ値: 0.040\n"
     ]
    }
   ],
   "source": [
    "# １標本のｔ検定を行なう\n",
    "t, p = stats.ttest_1samp(training_rel['差'], 0)\n",
    "print(f'ｐ値: {p:.3f}')"
   ],
   "metadata": {
    "collapsed": false,
    "pycharm": {
     "name": "#%%\n"
    }
   }
  },
  {
   "cell_type": "markdown",
   "source": [
    "ｐ値が有意水準を下回った為、帰無仮説を棄却する。\n",
    "筋トレは集中力に有意な差をもたらす様子。"
   ],
   "metadata": {
    "collapsed": false,
    "pycharm": {
     "name": "#%% md\n"
    }
   }
  },
  {
   "cell_type": "code",
   "execution_count": 163,
   "outputs": [
    {
     "name": "stdout",
     "output_type": "stream",
     "text": [
      "ｐ値: 0.040\n"
     ]
    }
   ],
   "source": [
    "# `ttest_rel`関数を利用して仮説検定を行なう\n",
    "t, p = stats.ttest_rel(training_rel['後'], training_rel['前'])\n",
    "print(f'ｐ値: {p:.3f}')"
   ],
   "metadata": {
    "collapsed": false,
    "pycharm": {
     "name": "#%%\n"
    }
   }
  },
  {
   "cell_type": "markdown",
   "source": [
    "先ほどと同様のｐ値が確認できた。"
   ],
   "metadata": {
    "collapsed": false,
    "pycharm": {
     "name": "#%% md\n"
    }
   }
  },
  {
   "cell_type": "markdown",
   "source": [
    "### 対応のないｔ検定（independent t-test）\n",
    "Data に対応がなく、２標本の母集団に正規分布を仮定できる場合の平均値の差の検定"
   ],
   "metadata": {
    "collapsed": false,
    "pycharm": {
     "name": "#%% md\n"
    }
   }
  },
  {
   "cell_type": "code",
   "execution_count": 164,
   "outputs": [
    {
     "name": "stdout",
     "output_type": "stream",
     "text": [
      "(20, 2)\n"
     ]
    },
    {
     "data": {
      "text/plain": "    A   B\n0  47  49\n1  50  52\n2  37  54\n3  60  48\n4  39  51",
      "text/html": "<div>\n<style scoped>\n    .dataframe tbody tr th:only-of-type {\n        vertical-align: middle;\n    }\n\n    .dataframe tbody tr th {\n        vertical-align: top;\n    }\n\n    .dataframe thead th {\n        text-align: right;\n    }\n</style>\n<table border=\"1\" class=\"dataframe\">\n  <thead>\n    <tr style=\"text-align: right;\">\n      <th></th>\n      <th>A</th>\n      <th>B</th>\n    </tr>\n  </thead>\n  <tbody>\n    <tr>\n      <th>0</th>\n      <td>47</td>\n      <td>49</td>\n    </tr>\n    <tr>\n      <th>1</th>\n      <td>50</td>\n      <td>52</td>\n    </tr>\n    <tr>\n      <th>2</th>\n      <td>37</td>\n      <td>54</td>\n    </tr>\n    <tr>\n      <th>3</th>\n      <td>60</td>\n      <td>48</td>\n    </tr>\n    <tr>\n      <th>4</th>\n      <td>39</td>\n      <td>51</td>\n    </tr>\n  </tbody>\n</table>\n</div>"
     },
     "execution_count": 164,
     "metadata": {},
     "output_type": "execute_result"
    }
   ],
   "source": [
    "# Data の準備\n",
    "training_ind = pd.read_csv('../data/ch11_training_ind.csv')\n",
    "print(training_ind.shape)\n",
    "training_ind.head()"
   ],
   "metadata": {
    "collapsed": false,
    "pycharm": {
     "name": "#%%\n"
    }
   }
  },
  {
   "cell_type": "markdown",
   "source": [
    "筋トレに集中力を向上させる効果があるかどうかを\n",
    "- A: 普段から筋トレをしていない集団\n",
    "- B: 普段から筋トレをしている集団\n",
    "\n",
    "の集中力テストの平均点を比較することで判断する。\n",
    "\n",
    "そのために次の仮説検定を行なう。\n",
    "- 帰無仮説: Aの平均点 - Bの平均点 = 0\n",
    "- 対立仮説: Aの平均点 - Bの平均点 = 0 ではない"
   ],
   "metadata": {
    "collapsed": false,
    "pycharm": {
     "name": "#%% md\n"
    }
   }
  },
  {
   "cell_type": "code",
   "execution_count": 165,
   "outputs": [
    {
     "name": "stdout",
     "output_type": "stream",
     "text": [
      "ｐ値: 0.087\n"
     ]
    }
   ],
   "source": [
    "# `stats.ttest_ind`関数を使用。\n",
    "# 引数`equal_var = False` を指定することでウェルチの方法で計算される\n",
    "t, p = stats.ttest_ind(training_ind['A'], training_ind['B'], equal_var=False)\n",
    "\n",
    "print(f'ｐ値: {p:.3f}')"
   ],
   "metadata": {
    "collapsed": false,
    "pycharm": {
     "name": "#%%\n"
    }
   }
  },
  {
   "cell_type": "markdown",
   "source": [
    "ｐ値が有意水準よりも大きいため、帰無仮説は採択され A と B の間には平均点に有意な差があるとはいえない、という結論になった。"
   ],
   "metadata": {
    "collapsed": false,
    "pycharm": {
     "name": "#%% md\n"
    }
   }
  },
  {
   "cell_type": "code",
   "execution_count": null,
   "outputs": [],
   "source": [],
   "metadata": {
    "collapsed": false,
    "pycharm": {
     "name": "#%%\n"
    }
   }
  }
 ],
 "metadata": {
  "kernelspec": {
   "display_name": "Python 3",
   "language": "python",
   "name": "python3"
  },
  "language_info": {
   "codemirror_mode": {
    "name": "ipython",
    "version": 2
   },
   "file_extension": ".py",
   "mimetype": "text/x-python",
   "name": "python",
   "nbconvert_exporter": "python",
   "pygments_lexer": "ipython2",
   "version": "2.7.6"
  }
 },
 "nbformat": 4,
 "nbformat_minor": 0
}