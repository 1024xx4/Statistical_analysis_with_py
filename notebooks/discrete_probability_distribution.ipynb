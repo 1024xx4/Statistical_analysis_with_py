{
 "cells": [
  {
   "cell_type": "markdown",
   "metadata": {
    "collapsed": true,
    "pycharm": {
     "name": "#%% md\n"
    }
   },
   "source": [
    "# 代表的な離散型確率分布\n",
    "\n",
    "#### ノンパラメトリックな手法\n",
    "母集団の確率分布に何の仮定も置かないこと\n",
    "※母集団の確率分布の形状に何も仮定を置かないで推測統計を行なうことは簡単なものではない\n",
    "\n",
    "#### パラメトリックな手法\n",
    "母集団の性質から確率分布の形状に仮定を置いて母数を推測する方法。\n",
    "ある程度、形を決め打ちするので Model としての表現力は乏しくなるが、推定は簡単になり解釈しやすい Model を作ることができる"
   ]
  },
  {
   "cell_type": "code",
   "execution_count": 29,
   "outputs": [
    {
     "data": {
      "text/plain": "'%.3f'"
     },
     "execution_count": 29,
     "metadata": {},
     "output_type": "execute_result"
    }
   ],
   "source": [
    "import numpy as np\n",
    "import matplotlib.pyplot as plt\n",
    "import pandas as pd\n",
    "from scipy import stats\n",
    "from scipy.special import comb\n",
    "from scipy.special import factorial\n",
    "\n",
    "from IPython.display import display\n",
    "\n",
    "\n",
    "\n",
    "\n",
    "%precision 3\n"
   ],
   "metadata": {
    "collapsed": false,
    "pycharm": {
     "name": "#%%\n"
    }
   }
  },
  {
   "cell_type": "markdown",
   "source": [
    "離散型確率分布の性質を理解しやすくするため、いくつかの関数をあらかじめ用意しておく"
   ],
   "metadata": {
    "collapsed": false,
    "pycharm": {
     "name": "#%% md\n"
    }
   }
  },
  {
   "cell_type": "code",
   "execution_count": 2,
   "outputs": [],
   "source": [
    "# Graph の線の種類\n",
    "linestyles = ['-', '--', ':']\n",
    "\n",
    "\n",
    "# 期待値を求める関数\n",
    "def E(X, g=lambda x: x):\n",
    "    x_set, f = X\n",
    "    return np.sum([g(x_k) * f(x_k) for x_k in x_set])\n",
    "\n",
    "\n",
    "# 分散を求める関数\n",
    "def V(X, g=lambda x: x):\n",
    "    x_set, f = X\n",
    "    mean = E(X, g)\n",
    "    return np.sum([(g(x_k) - mean) ** 2 * f(x_k) for x_k in x_set])\n",
    "\n",
    "\n",
    "# 確率変数を引数に、その確率変数が確率の性質を満たしているか確認し、期待値と分散を計算して返す関数\n",
    "def check_prob(X):\n",
    "    x_set, f = X\n",
    "    prob = np.array([f(x_k) for x_k in x_set])\n",
    "    assert np.all(prob >= 0), '負の確率があります'\n",
    "    prob_sum = np.round(np.sum(prob), 6)\n",
    "    assert prob_sum == 1, f'確率の和が{prob_sum}になりました'\n",
    "    print(f'期待値は {E(X):.4}')\n",
    "    print(f'分散は {V(X):.4}')\n",
    "\n",
    "\n",
    "# 確率変数を引数に、その確率変数の確率関数と期待値を図示するための関数\n",
    "def plot_prob(X):\n",
    "    x_set, f = X\n",
    "    prob = np.array([f(x_k) for x_k in x_set])\n",
    "\n",
    "    fig = plt.figure(figsize=(10, 6))\n",
    "    ax = fig.add_subplot(111)\n",
    "    ax.bar(x_set, prob, label='prob')\n",
    "    ax.vlines(E(X), 0, 1, label='mean', colors='gray')\n",
    "    ax.set_xticks(np.append(x_set, E(X)))\n",
    "    ax.set_ylim(0, prob.max() * 1.2)\n",
    "    ax.legend()\n",
    "\n",
    "    plt.show()"
   ],
   "metadata": {
    "collapsed": false,
    "pycharm": {
     "name": "#%%\n"
    }
   }
  },
  {
   "cell_type": "markdown",
   "source": [
    "## ベルヌーイ分布（Bernoulli distribution）\n",
    "- もっとも基本的な離散型確率分布\n",
    "- とりうる値が０か１しかない確率分布\n",
    "- ベルヌーイ分布に従う確率変数の試行のことをベルヌーイ試行といい１が成功、０が失敗になる。\n",
    "- １が出る確率を p, ０がでる確率を 1-p とする。\n",
    "- p がベルヌーイ分布の形を調整できる唯一の Params で確率の性質を満たす為に 0 <= p <= 1 を満たす必要がある\n",
    "\n",
    "とりうる値が２通りしかないものはすべてベルヌーイ分布で考えることができる"
   ],
   "metadata": {
    "collapsed": false,
    "pycharm": {
     "name": "#%% md\n"
    }
   }
  },
  {
   "cell_type": "code",
   "execution_count": 3,
   "outputs": [],
   "source": [
    "def Beru(p):\n",
    "    x_set = np.array([0, 1])\n",
    "    def f(x):\n",
    "        if x in x_set:\n",
    "            return p ** x * (1-p) ** (1-x)\n",
    "        else:\n",
    "            return 0\n",
    "    return x_set, f"
   ],
   "metadata": {
    "collapsed": false,
    "pycharm": {
     "name": "#%%\n"
    }
   }
  },
  {
   "cell_type": "markdown",
   "source": [
    "Beru(0.3) に従う確率変数 X を作ってみる"
   ],
   "metadata": {
    "collapsed": false,
    "pycharm": {
     "name": "#%% md\n"
    }
   }
  },
  {
   "cell_type": "code",
   "execution_count": 4,
   "outputs": [],
   "source": [
    "p = 0.3\n",
    "X = Beru(p)"
   ],
   "metadata": {
    "collapsed": false,
    "pycharm": {
     "name": "#%%\n"
    }
   }
  },
  {
   "cell_type": "code",
   "execution_count": 5,
   "outputs": [
    {
     "name": "stdout",
     "output_type": "stream",
     "text": [
      "期待値は 0.3\n",
      "分散は 0.21\n"
     ]
    }
   ],
   "source": [
    "check_prob(X)"
   ],
   "metadata": {
    "collapsed": false,
    "pycharm": {
     "name": "#%%\n"
    }
   }
  },
  {
   "cell_type": "markdown",
   "source": [
    "確率変数 X を図示してみる"
   ],
   "metadata": {
    "collapsed": false,
    "pycharm": {
     "name": "#%% md\n"
    }
   }
  },
  {
   "cell_type": "code",
   "execution_count": 6,
   "outputs": [
    {
     "data": {
      "text/plain": "<Figure size 720x432 with 1 Axes>",
      "image/png": "[encoded data removed]"
     },
     "metadata": {
      "needs_background": "light"
     },
     "output_type": "display_data"
    }
   ],
   "source": [
    "plot_prob(X)"
   ],
   "metadata": {
    "collapsed": false,
    "pycharm": {
     "name": "#%%\n"
    }
   }
  },
  {
   "cell_type": "code",
   "execution_count": 7,
   "outputs": [],
   "source": [
    "rv = stats.bernoulli(p)"
   ],
   "metadata": {
    "collapsed": false,
    "pycharm": {
     "name": "#%%\n"
    }
   }
  },
  {
   "cell_type": "code",
   "execution_count": 8,
   "outputs": [
    {
     "data": {
      "text/plain": "(0.700, 0.300)"
     },
     "execution_count": 8,
     "metadata": {},
     "output_type": "execute_result"
    }
   ],
   "source": [
    "# .pmf() で確率関数を計算できる\n",
    "rv.pmf(0), rv.pmf(1)"
   ],
   "metadata": {
    "collapsed": false,
    "pycharm": {
     "name": "#%%\n"
    }
   }
  },
  {
   "cell_type": "code",
   "execution_count": 9,
   "outputs": [
    {
     "data": {
      "text/plain": "array([0.7, 0.3])"
     },
     "metadata": {},
     "output_type": "display_data"
    }
   ],
   "source": [
    "# .pmf() に list を渡すと list の各要素に対応する確率を確認した numpy.ndarry が返ってくる\n",
    "display(rv.pmf([0, 1]))"
   ],
   "metadata": {
    "collapsed": false,
    "pycharm": {
     "name": "#%%\n"
    }
   }
  },
  {
   "cell_type": "code",
   "execution_count": 10,
   "outputs": [
    {
     "data": {
      "text/plain": "array([0.7, 1. ])"
     },
     "metadata": {},
     "output_type": "display_data"
    }
   ],
   "source": [
    "# .cdf() で累積密度関数を計算できる\n",
    "display(rv.cdf([0, 1]))"
   ],
   "metadata": {
    "collapsed": false,
    "pycharm": {
     "name": "#%%\n"
    }
   }
  },
  {
   "cell_type": "code",
   "execution_count": 11,
   "outputs": [
    {
     "data": {
      "text/plain": "(0.300, 0.210)"
     },
     "execution_count": 11,
     "metadata": {},
     "output_type": "execute_result"
    }
   ],
   "source": [
    "# .mean() で期待値。.var() で分散を計算できる\n",
    "rv.mean(), rv.var()"
   ],
   "metadata": {
    "collapsed": false,
    "pycharm": {
     "name": "#%%\n"
    }
   }
  },
  {
   "cell_type": "markdown",
   "source": [
    "## 二項分布（binomial distribution）\n",
    "- 成功確率 p のベルヌーイ試行を n 回行なったときの成功回数が従う分布。\n",
    "- Params: 成功確率 p, 試行回数 n"
   ],
   "metadata": {
    "collapsed": false,
    "pycharm": {
     "name": "#%% md\n"
    }
   }
  },
  {
   "cell_type": "code",
   "execution_count": 12,
   "outputs": [],
   "source": [
    "# Python で二項分布を実装する\n",
    "def Bin(n, p):\n",
    "    x_set = np.arange(n + 1)\n",
    "\n",
    "    def f(x):\n",
    "        if x in x_set:\n",
    "            return comb(n, x) * p ** x * (1 - p) ** (n - x)\n",
    "        else:\n",
    "            return 0\n",
    "\n",
    "    return x_set, f"
   ],
   "metadata": {
    "collapsed": false,
    "pycharm": {
     "name": "#%%\n"
    }
   }
  },
  {
   "cell_type": "markdown",
   "source": [
    "Bin(10, 0.3)に下がう確率変数 X を作ってみる"
   ],
   "metadata": {
    "collapsed": false,
    "pycharm": {
     "name": "#%% md\n"
    }
   }
  },
  {
   "cell_type": "code",
   "execution_count": 13,
   "outputs": [],
   "source": [
    "n = 10\n",
    "p = 0.3\n",
    "X = Bin(n, p)"
   ],
   "metadata": {
    "collapsed": false,
    "pycharm": {
     "name": "#%%\n"
    }
   }
  },
  {
   "cell_type": "code",
   "execution_count": 14,
   "outputs": [
    {
     "name": "stdout",
     "output_type": "stream",
     "text": [
      "期待値は 3.0\n",
      "分散は 2.1\n"
     ]
    }
   ],
   "source": [
    "# 期待値と分散\n",
    "check_prob(X)"
   ],
   "metadata": {
    "collapsed": false,
    "pycharm": {
     "name": "#%%\n"
    }
   }
  },
  {
   "cell_type": "code",
   "execution_count": 15,
   "outputs": [
    {
     "data": {
      "text/plain": "<Figure size 720x432 with 1 Axes>",
      "image/png": "[encoded data removed]"
     },
     "metadata": {
      "needs_background": "light"
     },
     "output_type": "display_data"
    }
   ],
   "source": [
    "# 図示\n",
    "plot_prob(X)"
   ],
   "metadata": {
    "collapsed": false,
    "pycharm": {
     "name": "#%%\n"
    }
   }
  },
  {
   "cell_type": "code",
   "source": [
    "fig = plt.figure(figsize=(10, 6))\n",
    "ax = fig.add_subplot(111)\n",
    "\n",
    "x_set = np.arange(n * 1)\n",
    "for p, ls in zip([0.3, 0.5, 0.7], linestyles):\n",
    "    rv = stats.binom(n, p)\n",
    "    ax.plot(x_set, rv.pmf(x_set), label=f'p: {p}', ls=ls, color='gray')\n",
    "\n",
    "ax.set_xticks(x_set)\n",
    "ax.legend()\n",
    "plt.show()"
   ],
   "metadata": {
    "collapsed": false,
    "pycharm": {
     "name": "#%%\n"
    }
   },
   "execution_count": 16,
   "outputs": [
    {
     "data": {
      "text/plain": "<Figure size 720x432 with 1 Axes>",
      "image/png": "[encoded data removed]"
     },
     "metadata": {
      "needs_background": "light"
     },
     "output_type": "display_data"
    }
   ]
  },
  {
   "cell_type": "markdown",
   "source": [],
   "metadata": {
    "collapsed": false,
    "pycharm": {
     "name": "#%% md\n"
    }
   }
  },
  {
   "cell_type": "markdown",
   "source": [
    "## 幾何分布（geometric distribution）\n",
    "ベルヌーイ試行を繰り返して、初めて成功するまでの試行回数が従う確率分布\n",
    "- とりうる値: {1, 2, ...}\n",
    "- Params: ベルヌーイ試行の成功確率 p (0 <= p <= 1)"
   ],
   "metadata": {
    "collapsed": false,
    "pycharm": {
     "name": "#%% md\n"
    }
   }
  },
  {
   "cell_type": "code",
   "execution_count": 17,
   "outputs": [],
   "source": [
    "# x_set を１以上29以下の整数とした幾何分布\n",
    "def Ge(p):\n",
    "    x_set = np.arange(1, 30)\n",
    "\n",
    "    def f(x):\n",
    "        if x in x_set:\n",
    "            return p * (1 - p) ** (x - 1)\n",
    "        else:\n",
    "            return 0\n",
    "\n",
    "    return x_set, f"
   ],
   "metadata": {
    "collapsed": false,
    "pycharm": {
     "name": "#%%\n"
    }
   }
  },
  {
   "cell_type": "code",
   "execution_count": 18,
   "outputs": [],
   "source": [
    "# X ~ Ge(1/2)\n",
    "p = 1/2\n",
    "X = Ge(p)"
   ],
   "metadata": {
    "collapsed": false,
    "pycharm": {
     "name": "#%%\n"
    }
   }
  },
  {
   "cell_type": "code",
   "execution_count": 19,
   "outputs": [
    {
     "name": "stdout",
     "output_type": "stream",
     "text": [
      "期待値は 2.0\n",
      "分散は 2.0\n"
     ]
    }
   ],
   "source": [
    "check_prob(X)"
   ],
   "metadata": {
    "collapsed": false,
    "pycharm": {
     "name": "#%%\n"
    }
   }
  },
  {
   "cell_type": "code",
   "execution_count": 20,
   "outputs": [
    {
     "data": {
      "text/plain": "<Figure size 720x432 with 1 Axes>",
      "image/png": "[encoded data removed]"
     },
     "metadata": {
      "needs_background": "light"
     },
     "output_type": "display_data"
    }
   ],
   "source": [
    "plot_prob(X)"
   ],
   "metadata": {
    "collapsed": false,
    "pycharm": {
     "name": "#%%\n"
    }
   }
  },
  {
   "cell_type": "markdown",
   "source": [
    "値が大きくなるにつれて確率は指数的に減っていき、11以上の値をとる確率はほぼ０になり Graph から確認できない。"
   ],
   "metadata": {
    "collapsed": false,
    "pycharm": {
     "name": "#%% md\n"
    }
   }
  },
  {
   "cell_type": "code",
   "execution_count": 23,
   "outputs": [
    {
     "data": {
      "text/plain": "<Figure size 720x432 with 1 Axes>",
      "image/png": "[encoded data removed]"
     },
     "metadata": {
      "needs_background": "light"
     },
     "output_type": "display_data"
    }
   ],
   "source": [
    "fig = plt.figure(figsize=(10, 6))\n",
    "ax = fig.add_subplot(111)\n",
    "\n",
    "x_set = np.arange(1, 15)\n",
    "for p, ls in zip([0.2, 0.5, 0.8], linestyles):\n",
    "    rv = stats.geom(p)\n",
    "    ax.plot(x_set, rv.pmf(x_set), label=f'p: {p}', ls=ls, color='gray')\n",
    "\n",
    "ax.set_xticks(x_set)\n",
    "ax.legend()\n",
    "\n",
    "plt.show()"
   ],
   "metadata": {
    "collapsed": false,
    "pycharm": {
     "name": "#%%\n"
    }
   }
  },
  {
   "cell_type": "markdown",
   "source": [
    "## ポアソン分布（Poisson distribution）\n",
    "Random な事象が単位時間あたりに発生する件数が従う確率分布\n",
    "- とりうる値: {0, 1, 2, ...}\n",
    "- Params: λ（正の実数である必要あり）\n",
    "- ポアソン分布の期待値と分散はどちらも λ になる。期待値と分散が同じになるというのはポアソン分布の特徴の１つ。"
   ],
   "metadata": {
    "collapsed": false,
    "pycharm": {
     "name": "#%% md\n"
    }
   }
  },
  {
   "cell_type": "code",
   "execution_count": 30,
   "outputs": [],
   "source": [
    "# x_set を０以上19以下の整数とする\n",
    "def Poi(lam):\n",
    "    x_set = np.arange(20)\n",
    "    def f(x):\n",
    "        if x in x_set:\n",
    "            return np.power(lam, x) / factorial(x) * np.exp(-lam)\n",
    "        else:\n",
    "            return 0\n",
    "    return x_set, f"
   ],
   "metadata": {
    "collapsed": false,
    "pycharm": {
     "name": "#%%\n"
    }
   }
  },
  {
   "cell_type": "code",
   "execution_count": 31,
   "outputs": [],
   "source": [
    "# 確率変数 X は Poi(3) に従う場合\n",
    "lam = 3\n",
    "X = Poi(lam)"
   ],
   "metadata": {
    "collapsed": false,
    "pycharm": {
     "name": "#%%\n"
    }
   }
  },
  {
   "cell_type": "code",
   "execution_count": 32,
   "outputs": [
    {
     "name": "stdout",
     "output_type": "stream",
     "text": [
      "期待値は 3.0\n",
      "分散は 3.0\n"
     ]
    }
   ],
   "source": [
    "# 期待値と分散\n",
    "check_prob(X)"
   ],
   "metadata": {
    "collapsed": false,
    "pycharm": {
     "name": "#%%\n"
    }
   }
  },
  {
   "cell_type": "code",
   "execution_count": 33,
   "outputs": [
    {
     "data": {
      "text/plain": "<Figure size 720x432 with 1 Axes>",
      "image/png": "[encoded data removed]"
     },
     "metadata": {
      "needs_background": "light"
     },
     "output_type": "display_data"
    }
   ],
   "source": [
    "# 図示する\n",
    "plot_prob(X)"
   ],
   "metadata": {
    "collapsed": false,
    "pycharm": {
     "name": "#%%\n"
    }
   }
  },
  {
   "cell_type": "markdown",
   "source": [
    "ポワソン分布も二項分布と同様に、期待値を Peak とした山型の分布になる"
   ],
   "metadata": {
    "collapsed": false,
    "pycharm": {
     "name": "#%% md\n"
    }
   }
  },
  {
   "cell_type": "code",
   "execution_count": 35,
   "outputs": [
    {
     "data": {
      "text/plain": "<Figure size 720x432 with 1 Axes>",
      "image/png": "[encoded data removed]"
     },
     "metadata": {
      "needs_background": "light"
     },
     "output_type": "display_data"
    }
   ],
   "source": [
    "fig = plt.figure(figsize=(10, 6))\n",
    "ax = fig.add_subplot(111)\n",
    "\n",
    "x_set = np.arange(20)\n",
    "for lam, ls in zip([3, 5, 8], linestyles):\n",
    "    rv = stats.poisson(lam)\n",
    "    ax.plot(x_set, rv.pmf(x_set), label=f'lam: {lam}', ls=ls, color='gray')\n",
    "\n",
    "ax.set_xticks(x_set)\n",
    "ax.legend()\n",
    "\n",
    "plt.show()"
   ],
   "metadata": {
    "collapsed": false,
    "pycharm": {
     "name": "#%%\n"
    }
   }
  },
  {
   "cell_type": "markdown",
   "source": [
    "どの Params でも分布の Peak が λ にあり、λ が大きくなるについて裾野が広くなっている。"
   ],
   "metadata": {
    "collapsed": false,
    "pycharm": {
     "name": "#%% md\n"
    }
   }
  }
 ],
 "metadata": {
  "kernelspec": {
   "display_name": "Python 3",
   "language": "python",
   "name": "python3"
  },
  "language_info": {
   "codemirror_mode": {
    "name": "ipython",
    "version": 2
   },
   "file_extension": ".py",
   "mimetype": "text/x-python",
   "name": "python",
   "nbconvert_exporter": "python",
   "pygments_lexer": "ipython2",
   "version": "2.7.6"
  }
 },
 "nbformat": 4,
 "nbformat_minor": 0
}