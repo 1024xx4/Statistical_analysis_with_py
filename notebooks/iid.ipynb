{
 "cells": [
  {
   "cell_type": "markdown",
   "metadata": {
    "collapsed": true,
    "pycharm": {
     "name": "#%% md\n"
    }
   },
   "source": [
    "# 独立同一分布（i.i.d: independently and identically distributed）"
   ]
  },
  {
   "cell_type": "code",
   "execution_count": 54,
   "outputs": [
    {
     "data": {
      "text/plain": "'%.3f'"
     },
     "execution_count": 54,
     "metadata": {},
     "output_type": "execute_result"
    }
   ],
   "source": [
    "import numpy as np\n",
    "import matplotlib.pyplot as plt\n",
    "import japanize_matplotlib\n",
    "from scipy import stats\n",
    "from IPython.display import display\n",
    "\n",
    "import warnings\n",
    "\n",
    "warnings.filterwarnings('ignore')\n",
    "\n",
    "np.random.seed(0)\n",
    "%precision 3"
   ],
   "metadata": {
    "collapsed": false,
    "pycharm": {
     "name": "#%%\n"
    }
   }
  },
  {
   "cell_type": "code",
   "execution_count": 55,
   "outputs": [],
   "source": [
    "# 離散型確率変数に対するいくつかの関数を用意\n",
    "linestyles = ['-', '--', ':', '-.']\n",
    "\n",
    "\n",
    "def E(XY, g):\n",
    "    x_set, y_set, f_XY = XY\n",
    "    return np.sum([g(x_i, y_j) * f_XY(x_i, y_j) for x_i in x_set for y_j in y_set])\n",
    "\n",
    "\n",
    "def Cov(XY):\n",
    "    x_set, y_set, f_XY = XY\n",
    "    mean_X = E(XY, lambda x, y: x)\n",
    "    mean_Y = E(XY, lambda x, y: y)\n",
    "    return np.sum([(x_i - mean_X) * (y_j - mean_Y) * f_XY(x_i, y_j) for x_i in x_set for y_j in y_set])\n",
    "\n",
    "\n",
    "def f_X(x):\n",
    "    return np.sum(f_XY(x, y_k) for y_k in y_set)\n",
    "\n",
    "\n",
    "def f_Y(y):\n",
    "    return np.sum([f_XY(x_k, y) for x_k in x_set])"
   ],
   "metadata": {
    "collapsed": false,
    "pycharm": {
     "name": "#%%\n"
    }
   }
  },
  {
   "cell_type": "markdown",
   "source": [
    "## 独立性（independence）\n",
    "\n",
    "### 独立性の定義\n",
    "- 確率変数の独立性とは、２つ以上の確率が互いに影響を及ばさないことを表す概念\n",
    "- 確率変数が独立なとき、同時確率は周辺確率の積で書くことができる\n",
    "\n",
    "### 独立性と無相関性\n",
    "- 独立性も無相関性も２つの確率変数の無関係を表す性質\n",
    "- 無相関性よりも独立性のほうが強い概念になる。\n",
    "    - 複数の確率変数が独立な時にそれぞれの確率変数は無相関になる\n",
    "    - 複数の確率変数が無相関な時にそれぞれの確率変数が必ずしも独立である、とは限らない。"
   ],
   "metadata": {
    "collapsed": false,
    "pycharm": {
     "name": "#%% md\n"
    }
   }
  },
  {
   "cell_type": "code",
   "execution_count": 56,
   "outputs": [],
   "source": [
    "# Python で独立と無相関性について確かめる\n",
    "x_set = np.array([1, 2, 3, 4, 5, 6])\n",
    "y_set = np.array([1, 2, 3, 4, 5, 6])\n",
    "\n",
    "\n",
    "def f_XY(x, y):\n",
    "    if x in x_set and y in y_set:\n",
    "        return x * y / 441\n",
    "    else:\n",
    "        return 0\n",
    "\n",
    "\n",
    "XY = [x_set, y_set, f_XY]"
   ],
   "metadata": {
    "collapsed": false,
    "pycharm": {
     "name": "#%%\n"
    }
   }
  },
  {
   "cell_type": "code",
   "execution_count": 57,
   "outputs": [
    {
     "data": {
      "text/plain": "-0.000"
     },
     "execution_count": 57,
     "metadata": {},
     "output_type": "execute_result"
    }
   ],
   "source": [
    "# 共分散を確かめる\n",
    "Cov(XY)"
   ],
   "metadata": {
    "collapsed": false,
    "pycharm": {
     "name": "#%%\n"
    }
   }
  },
  {
   "cell_type": "markdown",
   "source": [
    "共分散が０になり、無相関であることを確認。\n",
    "この例に限らず、２つの確率変数が独立であれば必ず無相関になる。"
   ],
   "metadata": {
    "collapsed": false,
    "pycharm": {
     "name": "#%% md\n"
    }
   }
  },
  {
   "cell_type": "code",
   "execution_count": 58,
   "outputs": [],
   "source": [
    "# 無相関なのに独立ではない例\n",
    "x_set = np.array([0, 1])\n",
    "y_set = np.array([-1, 0, 1])\n",
    "\n",
    "\n",
    "def f_XY(x, y):\n",
    "    if (x, y) in [(0, 0), (1, 1), (1, -1)]:\n",
    "        return 1 / 3\n",
    "    else:\n",
    "        return 0\n",
    "\n",
    "\n",
    "XY = [x_set, y_set, f_XY]"
   ],
   "metadata": {
    "collapsed": false,
    "pycharm": {
     "name": "#%%\n"
    }
   }
  },
  {
   "cell_type": "code",
   "execution_count": 59,
   "outputs": [
    {
     "data": {
      "text/plain": "0.000"
     },
     "execution_count": 59,
     "metadata": {},
     "output_type": "execute_result"
    }
   ],
   "source": [
    "Cov(XY)"
   ],
   "metadata": {
    "collapsed": false,
    "pycharm": {
     "name": "#%%\n"
    }
   }
  },
  {
   "cell_type": "markdown",
   "source": [
    "共分散が０になったので、確率変数 X と Y は無相関であることが確認とれた。\n",
    "確率変数 X と Y が独立か確かめる。\n",
    "独立の関係が成り立つ時に同時関数は周辺確率の積が成り立つのでそれぞれの式に０をx, y に代入して同じ値になるか確かめる"
   ],
   "metadata": {
    "collapsed": false,
    "pycharm": {
     "name": "#%% md\n"
    }
   }
  },
  {
   "cell_type": "code",
   "execution_count": 60,
   "outputs": [
    {
     "data": {
      "text/plain": "(0.111, 0.333)"
     },
     "execution_count": 60,
     "metadata": {},
     "output_type": "execute_result"
    }
   ],
   "source": [
    "f_X(0) * f_Y(0), f_XY(0, 0)"
   ],
   "metadata": {
    "collapsed": false,
    "pycharm": {
     "name": "#%%\n"
    }
   }
  },
  {
   "cell_type": "markdown",
   "source": [
    "式が成り立っていないため、X と Y は独立ではない。\n",
    "これらから、無相関であっても独立性が成り立たない場合があることが確認とれる。"
   ],
   "metadata": {
    "collapsed": false,
    "pycharm": {
     "name": "#%% md\n"
    }
   }
  },
  {
   "cell_type": "markdown",
   "source": [
    "## 和の分布\n",
    "互いに独立に同一の確率分布に従う確率変数 X1, X2,..., Xn の和が従う確率分布と考える。\n",
    "和の分布を理解することで、それを n で割った標本平均の分布も理解しやすくなる\n",
    "\n",
    "- 和の分布の期待値はそれぞれの確率変数の期待値の和で計算できる。\n",
    "- それぞれの確率変数が独立ならば分散もそれぞれの確率変数の分散の和で計算できる。"
   ],
   "metadata": {
    "collapsed": false,
    "pycharm": {
     "name": "#%% md\n"
    }
   }
  },
  {
   "cell_type": "markdown",
   "source": [
    "### 正規分布の和の分布"
   ],
   "metadata": {
    "collapsed": false,
    "pycharm": {
     "name": "#%% md\n"
    }
   }
  },
  {
   "cell_type": "code",
   "execution_count": 61,
   "outputs": [
    {
     "data": {
      "text/plain": "(3.003, 4.996)"
     },
     "execution_count": 61,
     "metadata": {},
     "output_type": "execute_result"
    }
   ],
   "source": [
    "rv1 = stats.norm(1, np.sqrt(2))  # N(1, 2) の正規分布\n",
    "rv2 = stats.norm(2, np.sqrt(3))  # N(2, 3) の正規分布\n",
    "\n",
    "sample_size = int(1e6)  # 標本の大きさ\n",
    "\n",
    "# それぞれの正規分布から無作為に抽出した1,000,000個の値\n",
    "X_sample = rv1.rvs(sample_size)\n",
    "Y_sample = rv2.rvs(sample_size)\n",
    "sum_sample = X_sample + Y_sample\n",
    "\n",
    "np.mean(sum_sample), np.var(sum_sample)"
   ],
   "metadata": {
    "collapsed": false,
    "pycharm": {
     "name": "#%%\n"
    }
   }
  },
  {
   "cell_type": "markdown",
   "source": [
    "公式で求めた倫理値に近い値がでた。\n",
    "\n",
    "#### 再生性\n",
    "- 同じ確率分布に従う２つの独立な確率変数に対して、その和もまた同じ確率分布に性質こと\n",
    "- 正規分布は再生性がある\n",
    "- 再生性はすべての確率分布がもつ性質ではないことに注意する"
   ],
   "metadata": {
    "collapsed": false,
    "pycharm": {
     "name": "#%% md\n"
    }
   }
  },
  {
   "cell_type": "code",
   "execution_count": 62,
   "outputs": [
    {
     "data": {
      "text/plain": "<Figure size 720x432 with 1 Axes>",
      "image/png": "[encoded data removed]"
     },
     "metadata": {
      "needs_background": "light"
     },
     "output_type": "display_data"
    }
   ],
   "source": [
    "# X+Y から無作為抽出した標本 Data の Histogram と N(3,5)の密度関数を一緒に図示してみる\n",
    "fig = plt.figure(figsize=(10, 6))\n",
    "ax = fig.add_subplot(111)\n",
    "\n",
    "rv = stats.norm(3, np.sqrt(5))\n",
    "xs = np.linspace(rv.isf(0.995), rv.isf(0.005), 100)\n",
    "\n",
    "ax.hist(sum_sample, bins=100, density=True, alpha=0.5, label='N(1, 2) + N(2, 3)')\n",
    "ax.plot(xs, rv.pdf(xs), label='N(3, 5)', color='gray')\n",
    "ax.plot(xs, rv1.pdf(xs), label='N(1, 2)', ls='--', color='gray')\n",
    "ax.plot(xs, rv2.pdf(xs), label='N(2, 3', ls=':', color='gray')\n",
    "\n",
    "ax.legend()\n",
    "ax.set_xlim(rv.isf(0.995),rv.isf(0.005))\n",
    "plt.show()"
   ],
   "metadata": {
    "collapsed": false,
    "pycharm": {
     "name": "#%%\n"
    }
   }
  },
  {
   "cell_type": "markdown",
   "source": [
    "Histogram と密度関数がきれいに一致し、X+Y ~ N(3, 5)の確認がとれた。\n",
    "n 個の正規分布の和になっても再生性から正規分布となる。"
   ],
   "metadata": {
    "collapsed": false,
    "pycharm": {
     "name": "#%% md\n"
    }
   }
  },
  {
   "cell_type": "markdown",
   "source": [
    "### ポアソン分布の和の分布\n",
    "２つの互いに独立な確率変数 X\\~Poi(3) と Y\\~Poi(4)を考える。\n",
    "このとき確率変数 X+Y の分布はどうなるか。"
   ],
   "metadata": {
    "collapsed": false,
    "pycharm": {
     "name": "#%% md\n"
    }
   }
  },
  {
   "cell_type": "markdown",
   "source": [
    "Poi(λ) の期待値と分散はともに λ だったので X + Y の期待値と分散はどちらも 7 になる。\n",
    "このことを X+Y から無策抽出した標本 Data の平均と分散で確かめてみる"
   ],
   "metadata": {
    "collapsed": false,
    "pycharm": {
     "name": "#%% md\n"
    }
   }
  },
  {
   "cell_type": "code",
   "execution_count": 63,
   "outputs": [
    {
     "data": {
      "text/plain": "(6.999, 6.990)"
     },
     "execution_count": 63,
     "metadata": {},
     "output_type": "execute_result"
    }
   ],
   "source": [
    "rv1 = stats.poisson(3)  # Poi(3)\n",
    "rv2 = stats.poisson(4)  # Poi(4)\n",
    "\n",
    "sample_size = int(1e6)  # 標本の大きさを 1,000,000に設定\n",
    "X_sample = rv1.rvs(sample_size)  # Poi(3)から無作為抽出\n",
    "Y_sample = rv2.rvs(sample_size)  # Poi(4)から無作為抽出\n",
    "sum_sample = X_sample + Y_sample\n",
    "\n",
    "np.mean(sum_sample), np.var(sum_sample)"
   ],
   "metadata": {
    "collapsed": false,
    "pycharm": {
     "name": "#%%\n"
    }
   }
  },
  {
   "cell_type": "markdown",
   "source": [
    "どちらも理論値に近い値になったことを確認。\n",
    "\n",
    "ポワソン分布も再生性を持っている確率分布になる。\n",
    "そのことから X+Y ~ Poi(7)になることを X+Y から無作為抽出した標本 Data の Histogram と Poi(7) の確率関数を図示して確認する。"
   ],
   "metadata": {
    "collapsed": false,
    "pycharm": {
     "name": "#%% md\n"
    }
   }
  },
  {
   "cell_type": "code",
   "execution_count": 64,
   "outputs": [
    {
     "data": {
      "text/plain": "<Figure size 720x432 with 1 Axes>",
      "image/png": "[encoded data removed]"
     },
     "metadata": {
      "needs_background": "light"
     },
     "output_type": "display_data"
    }
   ],
   "source": [
    "fig = plt.figure(figsize=(10, 6))\n",
    "ax = fig.add_subplot(111)\n",
    "\n",
    "rv = stats.poisson(7)\n",
    "xs = np.arange(20)\n",
    "hist, _ = np.histogram(sum_sample, bins=20, range=(0, 20), normed=True)\n",
    "\n",
    "ax.bar(xs, hist, alpha=0.5, label='Poi(3)+Poi(4)')  # X+Y の Histogram\n",
    "ax.plot(xs, rv.pmf(xs), label='Poi(7)', color='gray')  # Poi(7)の確率関数\n",
    "ax.plot(xs, rv1.pmf(xs), label='Poi(3)', ls='--', color='gray')  # Poi(3)の確率関数\n",
    "ax.plot(xs, rv2.pmf(xs), label='Poi(4)', ls=':', color='gray')  # Poi(4)の確率関数\n",
    "\n",
    "ax.legend()\n",
    "ax.set_xlim(-0.5, 20)\n",
    "ax.set_xticks(np.arange(20))\n",
    "plt.show()"
   ],
   "metadata": {
    "collapsed": false,
    "pycharm": {
     "name": "#%%\n"
    }
   }
  },
  {
   "cell_type": "markdown",
   "source": [
    "Histogram と確率関数がきれいに一致しており、 X+Y ~ Poi(7) を確かめることができた。\n",
    "n 個のポアソン分布の和であっても再生性からポアソン分布の形を保つ。"
   ],
   "metadata": {
    "collapsed": false,
    "pycharm": {
     "name": "#%% md\n"
    }
   }
  },
  {
   "cell_type": "markdown",
   "source": [
    "### ベルヌーイ分布の和の分布"
   ],
   "metadata": {
    "collapsed": false,
    "pycharm": {
     "name": "#%% md\n"
    }
   }
  },
  {
   "cell_type": "code",
   "execution_count": 65,
   "outputs": [
    {
     "data": {
      "text/plain": "(2.999, 2.095)"
     },
     "execution_count": 65,
     "metadata": {},
     "output_type": "execute_result"
    }
   ],
   "source": [
    "# 期待値と分散の確認\n",
    "p = 0.3\n",
    "rv = stats.bernoulli(p)  # Bern(p=0.3)\n",
    "\n",
    "sample_size = int(1e6)  # 標本の大きさを 1,000,000 に設定\n",
    "Xs_sample = rv.rvs((10, sample_size))\n",
    "sum_sample = np.sum(Xs_sample, axis=0)\n",
    "\n",
    "np.mean(sum_sample), np.var(sum_sample)"
   ],
   "metadata": {
    "collapsed": false,
    "pycharm": {
     "name": "#%%\n"
    }
   }
  },
  {
   "cell_type": "markdown",
   "source": [
    "どちらも理論値に近い値になことを確認"
   ],
   "metadata": {
    "collapsed": false,
    "pycharm": {
     "name": "#%% md\n"
    }
   }
  },
  {
   "cell_type": "markdown",
   "source": [
    "分布について\n",
    "- ベルヌーイ分布には再生性がない。\n",
    "- ベルヌーイ分布の和は二項分布になる、とう性質がある\n",
    "- 二項分布の Prams は n, p になる。\n",
    "\n",
    "上記性質から、Bin(10, 0.3) の確率関数と`sum_sample` のHistogram を図示してみる"
   ],
   "metadata": {
    "collapsed": false,
    "pycharm": {
     "name": "#%% md\n"
    }
   }
  },
  {
   "cell_type": "code",
   "execution_count": 66,
   "outputs": [
    {
     "data": {
      "text/plain": "<Figure size 720x432 with 1 Axes>",
      "image/png": "[encoded data removed]"
     },
     "metadata": {
      "needs_background": "light"
     },
     "output_type": "display_data"
    }
   ],
   "source": [
    "fig = plt.figure(figsize=(10, 6))\n",
    "ax = fig.add_subplot(111)\n",
    "\n",
    "rv = stats.binom(10, p) # Bin(10, 0.3)\n",
    "xs = np.arange(10)\n",
    "\n",
    "hist, _ = np.histogram(sum_sample, bins=10, range=(0, 10), normed=True)  # sum_sample の 分布表の値\n",
    "ax.bar(xs, hist, alpha=0.5, label='10個の Bern(0.3)の和')\n",
    "ax.plot(xs, rv.pmf(xs), label='Bin(10, 0.3)')\n",
    "ax.legend()\n",
    "ax.set_xlim(-0.5, 10)\n",
    "ax.set_xticks(xs)\n",
    "plt.show()"
   ],
   "metadata": {
    "collapsed": false,
    "pycharm": {
     "name": "#%%\n"
    }
   }
  },
  {
   "cell_type": "markdown",
   "source": [
    "sum_sample の Histogram と Bin(10, 0.3)の確率変数が一致していることを確認。"
   ],
   "metadata": {
    "collapsed": false,
    "pycharm": {
     "name": "#%% md\n"
    }
   }
  },
  {
   "cell_type": "markdown",
   "source": [
    "## 標本平均の分布\n",
    "- 互いに独立の同一の確率分布に従う確率変数 Xn の標本平均 Xbar が従う分布\n",
    "- 母平均の区間推定、母平均の検定で使う分布\n",
    "- 中心極限定理、大数の法則など推測統計において重要で興味深い性質を多くもっている"
   ],
   "metadata": {
    "collapsed": false,
    "pycharm": {
     "name": "#%% md\n"
    }
   }
  },
  {
   "cell_type": "markdown",
   "source": [
    "### 正規分布の標本平均の分布"
   ],
   "metadata": {
    "collapsed": false,
    "pycharm": {
     "name": "#%% md\n"
    }
   }
  },
  {
   "cell_type": "code",
   "execution_count": 67,
   "outputs": [
    {
     "data": {
      "text/plain": "(1.000, 0.199)"
     },
     "execution_count": 67,
     "metadata": {},
     "output_type": "execute_result"
    }
   ],
   "source": [
    "mean = 1  # 標本平均\n",
    "var = 2  # 分散\n",
    "rv = stats.norm(mean, np.sqrt(2))  # N(μ, σ)\n",
    "\n",
    "n = 10  # 標本の個数\n",
    "sample_size = int(1e6)  # 各標本の大きさ\n",
    "Xs_sample = rv.rvs((n, sample_size))  # 無作為抽出\n",
    "sample_mean = np.mean(Xs_sample, axis=0)  # 標本平均\n",
    "\n",
    "np.mean(sample_mean), np.var(sample_mean)"
   ],
   "metadata": {
    "collapsed": false,
    "pycharm": {
     "name": "#%%\n"
    }
   }
  },
  {
   "cell_type": "markdown",
   "source": [
    "正規分布の場合は、標本平均も正規分布になる。\n",
    "`sample_mean` の Histogram と N(1, 2/10)の密度関数を図示してみる"
   ],
   "metadata": {
    "collapsed": false,
    "pycharm": {
     "name": "#%% md\n"
    }
   }
  },
  {
   "cell_type": "code",
   "execution_count": 68,
   "outputs": [
    {
     "data": {
      "text/plain": "<Figure size 720x432 with 1 Axes>",
      "image/png": "[encoded data removed]"
     },
     "metadata": {
      "needs_background": "light"
     },
     "output_type": "display_data"
    }
   ],
   "source": [
    "fig = plt.figure(figsize=(10, 6))\n",
    "ax = fig.add_subplot(111)\n",
    "\n",
    "rv_true = stats.norm(mean, np.sqrt(var / n))\n",
    "xs = np.linspace(rv_true.isf(0.999), rv_true.isf(0.001), 100)\n",
    "ax.hist(sample_mean, bins=100, density=True, alpha=0.5, label='10個の N(1, 2) の標本平均')\n",
    "ax.plot(xs, rv_true.pdf(xs), label='N(1, 0.2)', color='gray')\n",
    "\n",
    "ax.legend()\n",
    "ax.set_xlim(rv_true.isf(0.999), rv_true.isf(0.001))\n",
    "plt.show()"
   ],
   "metadata": {
    "collapsed": false,
    "pycharm": {
     "name": "#%%\n"
    }
   }
  },
  {
   "cell_type": "markdown",
   "source": [
    "### ポアソン分布の標本平均の分布"
   ],
   "metadata": {
    "collapsed": false,
    "pycharm": {
     "name": "#%% md\n"
    }
   }
  },
  {
   "cell_type": "code",
   "execution_count": 69,
   "outputs": [
    {
     "data": {
      "text/plain": "(2.999, 0.300)"
     },
     "execution_count": 69,
     "metadata": {},
     "output_type": "execute_result"
    }
   ],
   "source": [
    "l = 3\n",
    "rv = stats.poisson(l)\n",
    "\n",
    "n = 10\n",
    "sample_size = int(1e6)\n",
    "Xs_sample = rv.rvs((n, sample_size))\n",
    "sample_mean = np.mean(Xs_sample, axis=0)\n",
    "\n",
    "np.mean(sample_mean), np.var(sample_mean)"
   ],
   "metadata": {
    "collapsed": false,
    "pycharm": {
     "name": "#%%\n"
    }
   }
  },
  {
   "cell_type": "markdown",
   "source": [
    "- \\bar(X) はポアソン分布に従わない\n",
    "- 再生性であるポアソン分布でも標本平均に対してはポアソン分布を保つことがでいない"
   ],
   "metadata": {
    "collapsed": false,
    "pycharm": {
     "name": "#%% md\n"
    }
   }
  },
  {
   "cell_type": "code",
   "execution_count": 76,
   "outputs": [
    {
     "data": {
      "text/plain": "<Figure size 720x432 with 1 Axes>",
      "image/png": "[encoded data removed]"
     },
     "metadata": {
      "needs_background": "light"
     },
     "output_type": "display_data"
    }
   ],
   "source": [
    "# ポアソン分布の標本平均の分布\n",
    "fig = plt.figure(figsize=(10, 6))\n",
    "ax = fig.add_subplot(111)\n",
    "\n",
    "ax.hist(sample_mean, bins=100, density=True, alpha=0.5, label='10個の Poi(3) の標本平均')\n",
    "\n",
    "ax.legend()\n",
    "ax.set_xlim(0, 6)\n",
    "plt.show()"
   ],
   "metadata": {
    "collapsed": false,
    "pycharm": {
     "name": "#%%\n"
    }
   }
  },
  {
   "cell_type": "markdown",
   "source": [
    "左右対称の山型の正規分布に近い形になっていることを確認。\n",
    "実際にこれは近似的に正規分布に従っている。"
   ],
   "metadata": {
    "collapsed": false,
    "pycharm": {
     "name": "#%% md\n"
    }
   }
  },
  {
   "cell_type": "markdown",
   "source": [],
   "metadata": {
    "collapsed": false,
    "pycharm": {
     "name": "#%% md\n"
    }
   }
  }
 ],
 "metadata": {
  "kernelspec": {
   "display_name": "Python 3",
   "language": "python",
   "name": "python3"
  },
  "language_info": {
   "codemirror_mode": {
    "name": "ipython",
    "version": 2
   },
   "file_extension": ".py",
   "mimetype": "text/x-python",
   "name": "python",
   "nbconvert_exporter": "python",
   "pygments_lexer": "ipython2",
   "version": "2.7.6"
  }
 },
 "nbformat": 4,
 "nbformat_minor": 0
}