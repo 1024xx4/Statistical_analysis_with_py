{
 "cells": [
  {
   "cell_type": "markdown",
   "metadata": {
    "collapsed": true,
    "pycharm": {
     "name": "#%% md\n"
    }
   },
   "source": [
    "# ２次元 Data の整理"
   ]
  },
  {
   "cell_type": "code",
   "execution_count": 17,
   "outputs": [],
   "source": [
    "import numpy as np\n",
    "import pandas as pd\n",
    "from IPython.display import display\n",
    "import matplotlib.pyplot as plt\n",
    "import japanize_matplotlib\n",
    "\n",
    "%precision 3\n",
    "pd.options.display.precision = 3"
   ],
   "metadata": {
    "collapsed": false,
    "pycharm": {
     "name": "#%%\n"
    }
   }
  },
  {
   "cell_type": "code",
   "execution_count": 18,
   "outputs": [],
   "source": [
    "df = pd.read_csv('../data/ch2_scores_em.csv', index_col='生徒番号')"
   ],
   "metadata": {
    "collapsed": false,
    "pycharm": {
     "name": "#%%\n"
    }
   }
  },
  {
   "cell_type": "code",
   "execution_count": 19,
   "outputs": [
    {
     "data": {
      "text/plain": "    英語  数学\n生徒        \nA   42  65\nB   69  80\nC   56  63\nD   41  63\nE   57  76\nF   48  60\nG   65  81\nH   49  66\nI   65  78\nJ   58  82",
      "text/html": "<div>\n<style scoped>\n    .dataframe tbody tr th:only-of-type {\n        vertical-align: middle;\n    }\n\n    .dataframe tbody tr th {\n        vertical-align: top;\n    }\n\n    .dataframe thead th {\n        text-align: right;\n    }\n</style>\n<table border=\"1\" class=\"dataframe\">\n  <thead>\n    <tr style=\"text-align: right;\">\n      <th></th>\n      <th>英語</th>\n      <th>数学</th>\n    </tr>\n    <tr>\n      <th>生徒</th>\n      <th></th>\n      <th></th>\n    </tr>\n  </thead>\n  <tbody>\n    <tr>\n      <th>A</th>\n      <td>42</td>\n      <td>65</td>\n    </tr>\n    <tr>\n      <th>B</th>\n      <td>69</td>\n      <td>80</td>\n    </tr>\n    <tr>\n      <th>C</th>\n      <td>56</td>\n      <td>63</td>\n    </tr>\n    <tr>\n      <th>D</th>\n      <td>41</td>\n      <td>63</td>\n    </tr>\n    <tr>\n      <th>E</th>\n      <td>57</td>\n      <td>76</td>\n    </tr>\n    <tr>\n      <th>F</th>\n      <td>48</td>\n      <td>60</td>\n    </tr>\n    <tr>\n      <th>G</th>\n      <td>65</td>\n      <td>81</td>\n    </tr>\n    <tr>\n      <th>H</th>\n      <td>49</td>\n      <td>66</td>\n    </tr>\n    <tr>\n      <th>I</th>\n      <td>65</td>\n      <td>78</td>\n    </tr>\n    <tr>\n      <th>J</th>\n      <td>58</td>\n      <td>82</td>\n    </tr>\n  </tbody>\n</table>\n</div>"
     },
     "execution_count": 19,
     "metadata": {},
     "output_type": "execute_result"
    }
   ],
   "source": [
    "en_scores = np.array(df['英語'])[:10]\n",
    "ma_scores = np.array(df['数学'])[:10]\n",
    "\n",
    "scores_df = pd.DataFrame({'英語': en_scores,\n",
    "                          '数学': ma_scores, },\n",
    "                         index=pd.Index(['A', 'B', 'C', 'D', 'E', 'F', 'G', 'H', 'I', 'J'], name='生徒'))\n",
    "\n",
    "scores_df"
   ],
   "metadata": {
    "collapsed": false,
    "pycharm": {
     "name": "#%%\n"
    }
   }
  },
  {
   "cell_type": "markdown",
   "source": [
    "## ２つの Data の関係性の指標\n",
    "#### 正の相関\n",
    "１つの Data の値が高いほど、もう１つの Data の値も高い傾向にあること\n",
    "#### 負の相関\n",
    "１つの Data の値が高いほど、もう１つの Data の値が低い傾向にあること\n",
    "#### 無相関\n",
    "それぞれの Data が正の相関にも負の相関にも当てはまらず、それぞれの値が直接的な影響を及ばさないとき"
   ],
   "metadata": {
    "collapsed": false,
    "pycharm": {
     "name": "#%% md\n"
    }
   }
  },
  {
   "cell_type": "markdown",
   "source": [
    "### 共分散（covariance）\n",
    "相関の関係性を数値化するための指標。\n",
    "- 共分散が正であれば正の相関\n",
    "- 共分散が負であれば負の相関\n",
    "- 共分散が０に近ければ無相関\n",
    "\n",
    "を表す"
   ],
   "metadata": {
    "collapsed": false,
    "pycharm": {
     "name": "#%% md\n"
    }
   }
  },
  {
   "cell_type": "code",
   "execution_count": 20,
   "outputs": [
    {
     "data": {
      "text/plain": "    英語  数学  英語の偏差  数学の偏差  偏差同士の積\n生徒                              \nA   42  65  -13.0   -6.4    83.2\nB   69  80   14.0    8.6   120.4\nC   56  63    1.0   -8.4    -8.4\nD   41  63  -14.0   -8.4   117.6\nE   57  76    2.0    4.6     9.2\nF   48  60   -7.0  -11.4    79.8\nG   65  81   10.0    9.6    96.0\nH   49  66   -6.0   -5.4    32.4\nI   65  78   10.0    6.6    66.0\nJ   58  82    3.0   10.6    31.8",
      "text/html": "<div>\n<style scoped>\n    .dataframe tbody tr th:only-of-type {\n        vertical-align: middle;\n    }\n\n    .dataframe tbody tr th {\n        vertical-align: top;\n    }\n\n    .dataframe thead th {\n        text-align: right;\n    }\n</style>\n<table border=\"1\" class=\"dataframe\">\n  <thead>\n    <tr style=\"text-align: right;\">\n      <th></th>\n      <th>英語</th>\n      <th>数学</th>\n      <th>英語の偏差</th>\n      <th>数学の偏差</th>\n      <th>偏差同士の積</th>\n    </tr>\n    <tr>\n      <th>生徒</th>\n      <th></th>\n      <th></th>\n      <th></th>\n      <th></th>\n      <th></th>\n    </tr>\n  </thead>\n  <tbody>\n    <tr>\n      <th>A</th>\n      <td>42</td>\n      <td>65</td>\n      <td>-13.0</td>\n      <td>-6.4</td>\n      <td>83.2</td>\n    </tr>\n    <tr>\n      <th>B</th>\n      <td>69</td>\n      <td>80</td>\n      <td>14.0</td>\n      <td>8.6</td>\n      <td>120.4</td>\n    </tr>\n    <tr>\n      <th>C</th>\n      <td>56</td>\n      <td>63</td>\n      <td>1.0</td>\n      <td>-8.4</td>\n      <td>-8.4</td>\n    </tr>\n    <tr>\n      <th>D</th>\n      <td>41</td>\n      <td>63</td>\n      <td>-14.0</td>\n      <td>-8.4</td>\n      <td>117.6</td>\n    </tr>\n    <tr>\n      <th>E</th>\n      <td>57</td>\n      <td>76</td>\n      <td>2.0</td>\n      <td>4.6</td>\n      <td>9.2</td>\n    </tr>\n    <tr>\n      <th>F</th>\n      <td>48</td>\n      <td>60</td>\n      <td>-7.0</td>\n      <td>-11.4</td>\n      <td>79.8</td>\n    </tr>\n    <tr>\n      <th>G</th>\n      <td>65</td>\n      <td>81</td>\n      <td>10.0</td>\n      <td>9.6</td>\n      <td>96.0</td>\n    </tr>\n    <tr>\n      <th>H</th>\n      <td>49</td>\n      <td>66</td>\n      <td>-6.0</td>\n      <td>-5.4</td>\n      <td>32.4</td>\n    </tr>\n    <tr>\n      <th>I</th>\n      <td>65</td>\n      <td>78</td>\n      <td>10.0</td>\n      <td>6.6</td>\n      <td>66.0</td>\n    </tr>\n    <tr>\n      <th>J</th>\n      <td>58</td>\n      <td>82</td>\n      <td>3.0</td>\n      <td>10.6</td>\n      <td>31.8</td>\n    </tr>\n  </tbody>\n</table>\n</div>"
     },
     "execution_count": 20,
     "metadata": {},
     "output_type": "execute_result"
    }
   ],
   "source": [
    "summary_df = scores_df.copy()\n",
    "summary_df['英語の偏差'] = summary_df['英語'] - summary_df['英語'].mean()\n",
    "summary_df['数学の偏差'] = summary_df['数学'] - summary_df['数学'].mean()\n",
    "summary_df['偏差同士の積'] = summary_df['英語の偏差'] * summary_df['数学の偏差']\n",
    "summary_df"
   ],
   "metadata": {
    "collapsed": false,
    "pycharm": {
     "name": "#%%\n"
    }
   }
  },
  {
   "cell_type": "code",
   "execution_count": 21,
   "outputs": [
    {
     "data": {
      "text/plain": "62.800"
     },
     "execution_count": 21,
     "metadata": {},
     "output_type": "execute_result"
    }
   ],
   "source": [
    "summary_df['偏差同士の積'].mean()"
   ],
   "metadata": {
    "collapsed": false,
    "pycharm": {
     "name": "#%%\n"
    }
   }
  },
  {
   "cell_type": "markdown",
   "source": [
    "英語の点数と数学の点数は正の相関をもっているといえそう。"
   ],
   "metadata": {
    "collapsed": false,
    "pycharm": {
     "name": "#%% md\n"
    }
   }
  },
  {
   "cell_type": "markdown",
   "source": [
    "NumPy で共分散を求める場合は、`cov` 関数を利用する"
   ],
   "metadata": {
    "collapsed": false,
    "pycharm": {
     "name": "#%% md\n"
    }
   }
  },
  {
   "cell_type": "code",
   "execution_count": 22,
   "outputs": [
    {
     "data": {
      "text/plain": "array([[86.  , 62.8 ],\n       [62.8 , 68.44]])"
     },
     "metadata": {},
     "output_type": "display_data"
    }
   ],
   "source": [
    "cov_mat = np.cov(en_scores, ma_scores, ddof=0)\n",
    "display(cov_mat)"
   ],
   "metadata": {
    "collapsed": false,
    "pycharm": {
     "name": "#%%\n"
    }
   }
  },
  {
   "cell_type": "markdown",
   "source": [
    "- １行目１列目が第１引数の英語\n",
    "- ２行目２列目が第２引数の数学\n",
    "\n",
    "にそれぞれ対応。それらが交わる１行２列目の要素、２行目１列目の要素が英語と数学の共分散に該当。"
   ],
   "metadata": {
    "collapsed": false,
    "pycharm": {
     "name": "#%% md\n"
    }
   }
  },
  {
   "cell_type": "code",
   "execution_count": 23,
   "outputs": [
    {
     "data": {
      "text/plain": "(62.800, 62.800)"
     },
     "execution_count": 23,
     "metadata": {},
     "output_type": "execute_result"
    }
   ],
   "source": [
    "cov_mat[0, 1], cov_mat[1, 0]"
   ],
   "metadata": {
    "collapsed": false,
    "pycharm": {
     "name": "#%%\n"
    }
   }
  },
  {
   "cell_type": "markdown",
   "source": [
    "残りの要素\n",
    "- １行目の１列目は英語と英語の共分散、つまり英語の分散\n",
    "- ２行目の２列目は数学と数学の共分散、つまり数学の分散\n",
    "\n",
    "になる。"
   ],
   "metadata": {
    "collapsed": false,
    "pycharm": {
     "name": "#%% md\n"
    }
   }
  },
  {
   "cell_type": "code",
   "execution_count": 24,
   "outputs": [
    {
     "data": {
      "text/plain": "(86.000, 68.440)"
     },
     "execution_count": 24,
     "metadata": {},
     "output_type": "execute_result"
    }
   ],
   "source": [
    "cov_mat[0, 0], cov_mat[1, 1]"
   ],
   "metadata": {
    "collapsed": false,
    "pycharm": {
     "name": "#%%\n"
    }
   }
  },
  {
   "cell_type": "code",
   "execution_count": 25,
   "outputs": [
    {
     "data": {
      "text/plain": "(86.000, 68.440)"
     },
     "execution_count": 25,
     "metadata": {},
     "output_type": "execute_result"
    }
   ],
   "source": [
    "np.var(en_scores, ddof=0), np.var(ma_scores, ddof=0)"
   ],
   "metadata": {
    "collapsed": false,
    "pycharm": {
     "name": "#%%\n"
    }
   }
  },
  {
   "cell_type": "markdown",
   "source": [
    "`np.cov` 関数の同変数同士の共分散と `np.var` 関数でもとめた対象変数の分散の値が同一なことを確認。\n",
    "※ DataFrame の `cov` method は、`ddof` 引数をとらず不偏分散しか計算できないため、今回割愛。"
   ],
   "metadata": {
    "collapsed": false,
    "pycharm": {
     "name": "#%% md\n"
    }
   }
  },
  {
   "cell_type": "markdown",
   "source": [
    "### 相関係数（correlation coefficient)\n",
    "\n",
    "- 共分散を各 Data の標準偏差で割ることによって定義した指標\n",
    "- 必ず -1 から 1 の間をとる\n",
    "  - Data が正の相関をもつほど１に近づく\n",
    "  - Data が負の相関をもつほど-1に近づく\n",
    "  - 無相関であれば０になる。\n",
    "- 共分散は単位の性質として直観的理解を困難にする。\n",
    "- 共分散は各 Data の単位をかけたものになる為、各 Data の標準偏差で割ることで単位に依存しなくなる"
   ],
   "metadata": {
    "collapsed": false,
    "pycharm": {
     "name": "#%% md\n"
    }
   }
  },
  {
   "cell_type": "code",
   "execution_count": 26,
   "outputs": [
    {
     "data": {
      "text/plain": "0.819"
     },
     "execution_count": 26,
     "metadata": {},
     "output_type": "execute_result"
    }
   ],
   "source": [
    "# 数式とおりに相関係数を算出する\n",
    "np.cov(en_scores, ma_scores, ddof=0)[0, 1] / (np.std(en_scores) * np.std(ma_scores))"
   ],
   "metadata": {
    "collapsed": false,
    "pycharm": {
     "name": "#%%\n"
    }
   }
  },
  {
   "cell_type": "markdown",
   "source": [
    "相関係数が0.819という１に近い数値なった。明確な基準はないが各 Data に強い相関があるといえそうである。"
   ],
   "metadata": {
    "collapsed": false,
    "pycharm": {
     "name": "#%% md\n"
    }
   }
  },
  {
   "cell_type": "code",
   "execution_count": 27,
   "outputs": [
    {
     "data": {
      "text/plain": "array([[1.   , 0.819],\n       [0.819, 1.   ]])"
     },
     "metadata": {},
     "output_type": "display_data"
    }
   ],
   "source": [
    "# NumPy を利用して相関係数を求める\n",
    "display(np.corrcoef(en_scores, ma_scores))"
   ],
   "metadata": {
    "collapsed": false,
    "pycharm": {
     "name": "#%%\n"
    }
   }
  },
  {
   "cell_type": "markdown",
   "source": [
    "相関行列の\\[0, 1]の要素と\\[1, 0]の要素が英語と数学の相関係数に対応。\n",
    "※\\[0, 0], \\[1, 1]は英語と英語、数学と数学の相関係数になるので１になる"
   ],
   "metadata": {
    "collapsed": false,
    "pycharm": {
     "name": "#%% md\n"
    }
   }
  },
  {
   "cell_type": "code",
   "execution_count": 28,
   "outputs": [
    {
     "data": {
      "text/plain": "       英語     数学\n英語  1.000  0.819\n数学  0.819  1.000",
      "text/html": "<div>\n<style scoped>\n    .dataframe tbody tr th:only-of-type {\n        vertical-align: middle;\n    }\n\n    .dataframe tbody tr th {\n        vertical-align: top;\n    }\n\n    .dataframe thead th {\n        text-align: right;\n    }\n</style>\n<table border=\"1\" class=\"dataframe\">\n  <thead>\n    <tr style=\"text-align: right;\">\n      <th></th>\n      <th>英語</th>\n      <th>数学</th>\n    </tr>\n  </thead>\n  <tbody>\n    <tr>\n      <th>英語</th>\n      <td>1.000</td>\n      <td>0.819</td>\n    </tr>\n    <tr>\n      <th>数学</th>\n      <td>0.819</td>\n      <td>1.000</td>\n    </tr>\n  </tbody>\n</table>\n</div>"
     },
     "execution_count": 28,
     "metadata": {},
     "output_type": "execute_result"
    }
   ],
   "source": [
    "# DataFrame を利用して相関係数を求める\n",
    "scores_df.corr()"
   ],
   "metadata": {
    "collapsed": false,
    "pycharm": {
     "name": "#%%\n"
    }
   }
  },
  {
   "cell_type": "markdown",
   "source": [
    "## ２次元 Data の視覚化\n",
    "- 散布図: ２次元の Data を図示するときにとても便利\n",
    "- 回帰直線: Data の関係を表現する直線\n",
    "- ヒートマップ(Heatmap): Histogram の２次元版"
   ],
   "metadata": {
    "collapsed": false,
    "pycharm": {
     "name": "#%% md\n"
    }
   }
  },
  {
   "cell_type": "markdown",
   "source": [
    "### 散布図"
   ],
   "metadata": {
    "collapsed": false,
    "pycharm": {
     "name": "#%% md\n"
    }
   }
  },
  {
   "cell_type": "code",
   "execution_count": 29,
   "outputs": [
    {
     "data": {
      "text/plain": "<Figure size 576x576 with 1 Axes>",
      "image/png": "[encoded data removed]"
     },
     "metadata": {
      "needs_background": "light"
     },
     "output_type": "display_data"
    }
   ],
   "source": [
    "english_scores = np.array(df['英語'])\n",
    "math_scores = np.array(df['数学'])\n",
    "\n",
    "fig = plt.figure(figsize=(8, 8))\n",
    "ax = fig.add_subplot(111)\n",
    "# 散布図\n",
    "ax.scatter(english_scores, math_scores)\n",
    "ax.set_xlabel('英語')\n",
    "ax.set_ylabel('数学')\n",
    "\n",
    "plt.show()"
   ],
   "metadata": {
    "collapsed": false,
    "pycharm": {
     "name": "#%%\n"
    }
   }
  },
  {
   "cell_type": "markdown",
   "source": [
    "散布図から英語の点数が高いほど、数学の点数も高い、という傾向がありそうに見える"
   ],
   "metadata": {
    "collapsed": false,
    "pycharm": {
     "name": "#%% md\n"
    }
   }
  },
  {
   "cell_type": "markdown",
   "source": [
    "### 回帰直線(regression line)\n",
    "２つの Data 間の関係性をもっともよく表現する直線。"
   ],
   "metadata": {
    "collapsed": false,
    "pycharm": {
     "name": "#%% md\n"
    }
   }
  },
  {
   "cell_type": "code",
   "execution_count": 30,
   "outputs": [
    {
     "data": {
      "text/plain": "<Figure size 576x576 with 1 Axes>",
      "image/png": "[encoded data removed]"
     },
     "metadata": {
      "needs_background": "light"
     },
     "output_type": "display_data"
    }
   ],
   "source": [
    "# 係数β_0 と β_1 を求める\n",
    "poly_fit = np.polyfit(english_scores, math_scores, 1)\n",
    "# β_0+β_1 x を返す関数を作る\n",
    "poly_1d = np.poly1d(poly_fit)\n",
    "# 直線を描画するための x 座標を作る\n",
    "xs = np.linspace(english_scores.min(), english_scores.max())\n",
    "# xs に対応する y 座標を求める\n",
    "ys = poly_1d(xs)\n",
    "\n",
    "fig = plt.figure(figsize=(8, 8))\n",
    "ax = fig.add_subplot(111)\n",
    "ax.set_xlabel('英語')\n",
    "ax.set_ylabel('数学')\n",
    "ax.scatter(english_scores, math_scores, label='点数')\n",
    "ax.plot(xs, ys, color='gray', label=f'{poly_fit[1]:.2f}+{poly_fit[0]:.2f}x')\n",
    "# 凡例の表示\n",
    "ax.legend(loc='upper left')\n",
    "\n",
    "plt.show()"
   ],
   "metadata": {
    "collapsed": false,
    "pycharm": {
     "name": "#%%\n"
    }
   }
  },
  {
   "cell_type": "markdown",
   "source": [
    "### ヒートマップ(heat map)\n",
    "Histogram の２次元版を色によって表すことができる Graph"
   ],
   "metadata": {
    "collapsed": false,
    "pycharm": {
     "name": "#%% md\n"
    }
   }
  },
  {
   "cell_type": "code",
   "execution_count": 31,
   "outputs": [
    {
     "data": {
      "text/plain": "<Figure size 720x576 with 2 Axes>",
      "image/png": "[encoded data removed]"
     },
     "metadata": {
      "needs_background": "light"
     },
     "output_type": "display_data"
    }
   ],
   "source": [
    "fig = plt.figure(figsize=(10, 8))\n",
    "ax = fig.add_subplot(111)\n",
    "\n",
    "c = ax.hist2d(english_scores, math_scores, bins=[9, 8], range=[(35, 80), (55, 95)])\n",
    "ax.set_xticks(c[1])\n",
    "ax.set_yticks(c[2])\n",
    "# Color bar の表示\n",
    "fig.colorbar(c[3], ax=ax)\n",
    "plt.show()"
   ],
   "metadata": {
    "collapsed": false,
    "pycharm": {
     "name": "#%%\n"
    }
   }
  },
  {
   "cell_type": "markdown",
   "source": [
    "## アンスコムの例\n",
    "- 平均や分散、相関係数といった数値の指標に Data をまとめることで Data がもつ様々な特徴を確認できるようになるが、多くの情報が失われている。\n",
    "- 同じような指標をもった Data でも図示してみると全く異なる Data ということも珍しくない。\n",
    "\n",
    "同じ指標を持っているが全く異なる Data という例を、アンスコムの例と呼ばれる Data を使ってみていく"
   ],
   "metadata": {
    "collapsed": false,
    "pycharm": {
     "name": "#%% md\n"
    }
   }
  },
  {
   "cell_type": "code",
   "execution_count": 35,
   "outputs": [
    {
     "name": "stdout",
     "output_type": "stream",
     "text": [
      "(4, 11, 2)\n"
     ]
    },
    {
     "data": {
      "text/plain": "array([[10.  ,  8.04],\n       [ 8.  ,  6.95],\n       [13.  ,  7.58],\n       [ 9.  ,  8.81],\n       [11.  ,  8.33],\n       [14.  ,  9.96],\n       [ 6.  ,  7.24],\n       [ 4.  ,  4.26],\n       [12.  , 10.84],\n       [ 7.  ,  4.82],\n       [ 5.  ,  5.68]])"
     },
     "metadata": {},
     "output_type": "display_data"
    }
   ],
   "source": [
    "# npy 形式で保存された NumPy array を読み込む\n",
    "anscombe_data = np.load('../data/ch3_anscombe.npy')\n",
    "print(anscombe_data.shape)\n",
    "display(anscombe_data[0])"
   ],
   "metadata": {
    "collapsed": false,
    "pycharm": {
     "name": "#%%\n"
    }
   }
  },
  {
   "cell_type": "markdown",
   "source": [
    "各 Data の平均・分散・相関係数・回帰直線を計算して DataFrame にまとめる"
   ],
   "metadata": {
    "collapsed": false,
    "pycharm": {
     "name": "#%% md\n"
    }
   }
  },
  {
   "cell_type": "code",
   "execution_count": 38,
   "outputs": [
    {
     "data": {
      "text/plain": "               data1       data2       data3       data4\nＸの平均            9.00        9.00        9.00        9.00\nＸの分散           10.00       10.00       10.00       10.00\nＹの平均            7.50        7.50        7.50        7.50\nＹの分散            3.75        3.75        3.75        3.75\nＸとＹの相関係数        0.82        0.82        0.82        0.82\nＸとＹの回帰直線  3.00+0.50x  3.00+0.50x  3.00+0.50x  3.00+0.50x",
      "text/html": "<div>\n<style scoped>\n    .dataframe tbody tr th:only-of-type {\n        vertical-align: middle;\n    }\n\n    .dataframe tbody tr th {\n        vertical-align: top;\n    }\n\n    .dataframe thead th {\n        text-align: right;\n    }\n</style>\n<table border=\"1\" class=\"dataframe\">\n  <thead>\n    <tr style=\"text-align: right;\">\n      <th></th>\n      <th>data1</th>\n      <th>data2</th>\n      <th>data3</th>\n      <th>data4</th>\n    </tr>\n  </thead>\n  <tbody>\n    <tr>\n      <th>Ｘの平均</th>\n      <td>9.00</td>\n      <td>9.00</td>\n      <td>9.00</td>\n      <td>9.00</td>\n    </tr>\n    <tr>\n      <th>Ｘの分散</th>\n      <td>10.00</td>\n      <td>10.00</td>\n      <td>10.00</td>\n      <td>10.00</td>\n    </tr>\n    <tr>\n      <th>Ｙの平均</th>\n      <td>7.50</td>\n      <td>7.50</td>\n      <td>7.50</td>\n      <td>7.50</td>\n    </tr>\n    <tr>\n      <th>Ｙの分散</th>\n      <td>3.75</td>\n      <td>3.75</td>\n      <td>3.75</td>\n      <td>3.75</td>\n    </tr>\n    <tr>\n      <th>ＸとＹの相関係数</th>\n      <td>0.82</td>\n      <td>0.82</td>\n      <td>0.82</td>\n      <td>0.82</td>\n    </tr>\n    <tr>\n      <th>ＸとＹの回帰直線</th>\n      <td>3.00+0.50x</td>\n      <td>3.00+0.50x</td>\n      <td>3.00+0.50x</td>\n      <td>3.00+0.50x</td>\n    </tr>\n  </tbody>\n</table>\n</div>"
     },
     "execution_count": 38,
     "metadata": {},
     "output_type": "execute_result"
    }
   ],
   "source": [
    "stat_df = pd.DataFrame(index=['Ｘの平均', 'Ｘの分散', 'Ｙの平均', 'Ｙの分散', 'ＸとＹの相関係数', 'ＸとＹの回帰直線'])\n",
    "for i, data in enumerate(anscombe_data):\n",
    "    dataX = data[:, 0]\n",
    "    dataY = data[:, 1]\n",
    "    poly_fit = np.polyfit(dataX, dataY, 1)\n",
    "    stat_df[f'data{i + 1}'] = [f'{np.mean(dataX):.2f}',\n",
    "                               f'{np.var(dataX):.2f}',\n",
    "                               f'{np.mean(dataY):.2f}',\n",
    "                               f'{np.var(dataY):.2f}',\n",
    "                               f'{np.corrcoef(dataX, dataY)[0, 1]:.2f}',\n",
    "                               f'{poly_fit[1]:.2f}+{poly_fit[0]:.2f}x']\n",
    "\n",
    "stat_df"
   ],
   "metadata": {
    "collapsed": false,
    "pycharm": {
     "name": "#%%\n"
    }
   }
  },
  {
   "cell_type": "markdown",
   "source": [
    "どの Data も平均から回帰直線まですべてが一致している。指標の上では４つの Data はすべて同じになる。\n",
    "確認の為に散布図を描画してみる。"
   ],
   "metadata": {
    "collapsed": false,
    "pycharm": {
     "name": "#%% md\n"
    }
   }
  },
  {
   "cell_type": "code",
   "execution_count": 39,
   "outputs": [
    {
     "data": {
      "text/plain": "<Figure size 720x720 with 4 Axes>",
      "image/png": "[encoded data removed]"
     },
     "metadata": {
      "needs_background": "light"
     },
     "output_type": "display_data"
    }
   ],
   "source": [
    "# Graph を描画する領域を２Ｘ２個作る\n",
    "fig, axes = plt.subplots(nrows=2, ncols=2, figsize=(10, 10), sharex=True, sharey=True)\n",
    "\n",
    "xs = np.linspace(0, 30, 100)\n",
    "for i, data in enumerate(anscombe_data):\n",
    "    poly_fit = np.polyfit(data[:, 0], data[:, 1], 1)\n",
    "    poly_1d = np.poly1d(poly_fit)\n",
    "    ys = poly_1d(xs)\n",
    "    # 描画する領域の選択\n",
    "    ax = axes[i // 2, i % 2]\n",
    "    ax.set_xlim([4, 20])\n",
    "    ax.set_ylim([3, 13])\n",
    "    # Title をつける\n",
    "    ax.set_title(f'data{i + 1}')\n",
    "    ax.scatter(data[:, 0], data[:, 1])\n",
    "    ax.plot(xs, ys, color='gray')\n",
    "\n",
    "# Graph 同士の間隔を狭くする\n",
    "plt.tight_layout()\n",
    "plt.show()"
   ],
   "metadata": {
    "collapsed": false,
    "pycharm": {
     "name": "#%%\n"
    }
   }
  },
  {
   "cell_type": "markdown",
   "source": [
    "各 Data は全く異なった分布をしている。\n",
    "- 平均や分散といった指標は多くのことを教えてくれるが、過信してはいけない。\n",
    "- Data を分析するときは、できるだけ図示も行なうべき"
   ],
   "metadata": {
    "collapsed": false,
    "pycharm": {
     "name": "#%% md\n"
    }
   }
  }
 ],
 "metadata": {
  "kernelspec": {
   "display_name": "Python 3",
   "language": "python",
   "name": "python3"
  },
  "language_info": {
   "codemirror_mode": {
    "name": "ipython",
    "version": 2
   },
   "file_extension": ".py",
   "mimetype": "text/x-python",
   "name": "python",
   "nbconvert_exporter": "python",
   "pygments_lexer": "ipython2",
   "version": "2.7.6"
  }
 },
 "nbformat": 4,
 "nbformat_minor": 0
}