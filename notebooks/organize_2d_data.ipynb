{
 "cells": [
  {
   "cell_type": "markdown",
   "metadata": {
    "collapsed": true,
    "pycharm": {
     "name": "#%% md\n"
    }
   },
   "source": [
    "# ２次元 Data の整理"
   ]
  },
  {
   "cell_type": "code",
   "execution_count": 3,
   "outputs": [],
   "source": [
    "import numpy as np\n",
    "import pandas as pd\n",
    "from IPython.display import display\n",
    "\n",
    "%precision 3\n",
    "pd.options.display.precision = 3"
   ],
   "metadata": {
    "collapsed": false,
    "pycharm": {
     "name": "#%%\n"
    }
   }
  },
  {
   "cell_type": "code",
   "execution_count": 4,
   "outputs": [],
   "source": [
    "df = pd.read_csv('../data/ch2_scores_em.csv', index_col='生徒番号')"
   ],
   "metadata": {
    "collapsed": false,
    "pycharm": {
     "name": "#%%\n"
    }
   }
  },
  {
   "cell_type": "code",
   "execution_count": 7,
   "outputs": [
    {
     "data": {
      "text/plain": "    英語  数学\n生徒        \nA   42  65\nB   69  80\nC   56  63\nD   41  63\nE   57  76\nF   48  60\nG   65  81\nH   49  66\nI   65  78\nJ   58  82",
      "text/html": "<div>\n<style scoped>\n    .dataframe tbody tr th:only-of-type {\n        vertical-align: middle;\n    }\n\n    .dataframe tbody tr th {\n        vertical-align: top;\n    }\n\n    .dataframe thead th {\n        text-align: right;\n    }\n</style>\n<table border=\"1\" class=\"dataframe\">\n  <thead>\n    <tr style=\"text-align: right;\">\n      <th></th>\n      <th>英語</th>\n      <th>数学</th>\n    </tr>\n    <tr>\n      <th>生徒</th>\n      <th></th>\n      <th></th>\n    </tr>\n  </thead>\n  <tbody>\n    <tr>\n      <th>A</th>\n      <td>42</td>\n      <td>65</td>\n    </tr>\n    <tr>\n      <th>B</th>\n      <td>69</td>\n      <td>80</td>\n    </tr>\n    <tr>\n      <th>C</th>\n      <td>56</td>\n      <td>63</td>\n    </tr>\n    <tr>\n      <th>D</th>\n      <td>41</td>\n      <td>63</td>\n    </tr>\n    <tr>\n      <th>E</th>\n      <td>57</td>\n      <td>76</td>\n    </tr>\n    <tr>\n      <th>F</th>\n      <td>48</td>\n      <td>60</td>\n    </tr>\n    <tr>\n      <th>G</th>\n      <td>65</td>\n      <td>81</td>\n    </tr>\n    <tr>\n      <th>H</th>\n      <td>49</td>\n      <td>66</td>\n    </tr>\n    <tr>\n      <th>I</th>\n      <td>65</td>\n      <td>78</td>\n    </tr>\n    <tr>\n      <th>J</th>\n      <td>58</td>\n      <td>82</td>\n    </tr>\n  </tbody>\n</table>\n</div>"
     },
     "execution_count": 7,
     "metadata": {},
     "output_type": "execute_result"
    }
   ],
   "source": [
    "en_scores = np.array(df['英語'])[:10]\n",
    "ma_scores = np.array(df['数学'])[:10]\n",
    "\n",
    "scores_df = pd.DataFrame({'英語': en_scores,\n",
    "                          '数学': ma_scores, },\n",
    "                         index=pd.Index(['A', 'B', 'C', 'D', 'E', 'F', 'G', 'H', 'I', 'J'], name='生徒'))\n",
    "\n",
    "scores_df"
   ],
   "metadata": {
    "collapsed": false,
    "pycharm": {
     "name": "#%%\n"
    }
   }
  },
  {
   "cell_type": "code",
   "execution_count": null,
   "outputs": [],
   "source": [],
   "metadata": {
    "collapsed": false,
    "pycharm": {
     "name": "#%%\n"
    }
   }
  }
 ],
 "metadata": {
  "kernelspec": {
   "display_name": "Python 3",
   "language": "python",
   "name": "python3"
  },
  "language_info": {
   "codemirror_mode": {
    "name": "ipython",
    "version": 2
   },
   "file_extension": ".py",
   "mimetype": "text/x-python",
   "name": "python",
   "nbconvert_exporter": "python",
   "pygments_lexer": "ipython2",
   "version": "2.7.6"
  }
 },
 "nbformat": 4,
 "nbformat_minor": 0
}