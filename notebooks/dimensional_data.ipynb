{
 "cells": [
  {
   "cell_type": "markdown",
   "metadata": {
    "collapsed": true,
    "pycharm": {
     "name": "#%% md\n"
    }
   },
   "source": [
    "# 次元 Data の整理\n",
    "\n",
    "#### Data を掴む方法\n",
    "1. 平均や分散といった数値の指標によって Data を要約する。\n",
    "2. 図示することで視覚的に Data を俯瞰する"
   ]
  },
  {
   "cell_type": "code",
   "execution_count": 1,
   "outputs": [],
   "source": [
    "import numpy as np\n",
    "import pandas as pd\n",
    "import matplotlib.pyplot as plt\n",
    "import japanize_matplotlib\n",
    "from IPython.display import display\n",
    "\n",
    "# Jupyter Notebook の出力を小数点以下３桁に抑える\n",
    "%precision 3\n",
    "# DataFrame の出力を小数点以下３桁に抑える\n",
    "pd.options.display.precision = 3"
   ],
   "metadata": {
    "collapsed": false,
    "pycharm": {
     "name": "#%%\n"
    }
   }
  },
  {
   "cell_type": "code",
   "execution_count": 2,
   "outputs": [],
   "source": [
    "# # Sample Data を Download する\n",
    "# !wget -O ../data/ch2_scores_em.csv https://raw.githubusercontent.com/ghmagazine/python_stat_sample/master/data/ch2_scores_em.csv"
   ],
   "metadata": {
    "collapsed": false,
    "pycharm": {
     "name": "#%%\n"
    }
   }
  },
  {
   "cell_type": "code",
   "execution_count": 3,
   "outputs": [
    {
     "name": "stdout",
     "output_type": "stream",
     "text": [
      "生徒番号,英語,数学\r\n",
      "1,42,65\r\n",
      "2,69,80\r\n",
      "3,56,63\r\n",
      "4,41,63\r\n"
     ]
    }
   ],
   "source": [
    "!head -5 ../data/ch2_scores_em.csv"
   ],
   "metadata": {
    "collapsed": false,
    "pycharm": {
     "name": "#%%\n"
    }
   }
  },
  {
   "cell_type": "code",
   "execution_count": 4,
   "outputs": [
    {
     "data": {
      "text/plain": "      英語  数学\n生徒番号        \n1     42  65\n2     69  80\n3     56  63\n4     41  63\n5     57  76",
      "text/html": "<div>\n<style scoped>\n    .dataframe tbody tr th:only-of-type {\n        vertical-align: middle;\n    }\n\n    .dataframe tbody tr th {\n        vertical-align: top;\n    }\n\n    .dataframe thead th {\n        text-align: right;\n    }\n</style>\n<table border=\"1\" class=\"dataframe\">\n  <thead>\n    <tr style=\"text-align: right;\">\n      <th></th>\n      <th>英語</th>\n      <th>数学</th>\n    </tr>\n    <tr>\n      <th>生徒番号</th>\n      <th></th>\n      <th></th>\n    </tr>\n  </thead>\n  <tbody>\n    <tr>\n      <th>1</th>\n      <td>42</td>\n      <td>65</td>\n    </tr>\n    <tr>\n      <th>2</th>\n      <td>69</td>\n      <td>80</td>\n    </tr>\n    <tr>\n      <th>3</th>\n      <td>56</td>\n      <td>63</td>\n    </tr>\n    <tr>\n      <th>4</th>\n      <td>41</td>\n      <td>63</td>\n    </tr>\n    <tr>\n      <th>5</th>\n      <td>57</td>\n      <td>76</td>\n    </tr>\n  </tbody>\n</table>\n</div>"
     },
     "execution_count": 4,
     "metadata": {},
     "output_type": "execute_result"
    }
   ],
   "source": [
    "df = pd.read_csv('../data/ch2_scores_em.csv', index_col='生徒番号')\n",
    "df.head()"
   ],
   "metadata": {
    "collapsed": false,
    "pycharm": {
     "name": "#%%\n"
    }
   }
  },
  {
   "cell_type": "code",
   "execution_count": 5,
   "outputs": [
    {
     "data": {
      "text/plain": "array([42, 69, 56, 41, 57, 48, 65, 49, 65, 58])"
     },
     "metadata": {},
     "output_type": "display_data"
    }
   ],
   "source": [
    "scores = np.array(df['英語'])[:10]\n",
    "display(scores)"
   ],
   "metadata": {
    "collapsed": false,
    "pycharm": {
     "name": "#%%\n"
    }
   }
  },
  {
   "cell_type": "code",
   "execution_count": 6,
   "outputs": [
    {
     "data": {
      "text/plain": "    点数\n生徒    \nA   42\nB   69\nC   56\nD   41\nE   57\nF   48\nG   65\nH   49\nI   65\nJ   58",
      "text/html": "<div>\n<style scoped>\n    .dataframe tbody tr th:only-of-type {\n        vertical-align: middle;\n    }\n\n    .dataframe tbody tr th {\n        vertical-align: top;\n    }\n\n    .dataframe thead th {\n        text-align: right;\n    }\n</style>\n<table border=\"1\" class=\"dataframe\">\n  <thead>\n    <tr style=\"text-align: right;\">\n      <th></th>\n      <th>点数</th>\n    </tr>\n    <tr>\n      <th>生徒</th>\n      <th></th>\n    </tr>\n  </thead>\n  <tbody>\n    <tr>\n      <th>A</th>\n      <td>42</td>\n    </tr>\n    <tr>\n      <th>B</th>\n      <td>69</td>\n    </tr>\n    <tr>\n      <th>C</th>\n      <td>56</td>\n    </tr>\n    <tr>\n      <th>D</th>\n      <td>41</td>\n    </tr>\n    <tr>\n      <th>E</th>\n      <td>57</td>\n    </tr>\n    <tr>\n      <th>F</th>\n      <td>48</td>\n    </tr>\n    <tr>\n      <th>G</th>\n      <td>65</td>\n    </tr>\n    <tr>\n      <th>H</th>\n      <td>49</td>\n    </tr>\n    <tr>\n      <th>I</th>\n      <td>65</td>\n    </tr>\n    <tr>\n      <th>J</th>\n      <td>58</td>\n    </tr>\n  </tbody>\n</table>\n</div>"
     },
     "execution_count": 6,
     "metadata": {},
     "output_type": "execute_result"
    }
   ],
   "source": [
    "scores_df = pd.DataFrame({'点数': scores}, index=pd.Index(['A', 'B', 'C', 'D', 'E', 'F', 'G', 'H', 'I', 'J'], name='生徒'))\n",
    "scores_df"
   ],
   "metadata": {
    "collapsed": false,
    "pycharm": {
     "name": "#%%\n"
    }
   }
  },
  {
   "cell_type": "markdown",
   "source": [
    "## Data 中心の指標\n",
    "代表値と呼ばれ、Data を１つの値で要約するならばこれ、といった指標。"
   ],
   "metadata": {
    "collapsed": false,
    "pycharm": {
     "name": "#%% md\n"
    }
   }
  },
  {
   "cell_type": "markdown",
   "source": [
    "### 平均値(mean)\n",
    "Data 全てを足しあわせて、Data の数で割ることで求まる。\n"
   ],
   "metadata": {
    "collapsed": false,
    "pycharm": {
     "name": "#%% md\n"
    }
   }
  },
  {
   "cell_type": "code",
   "execution_count": 7,
   "outputs": [
    {
     "data": {
      "text/plain": "55.000"
     },
     "execution_count": 7,
     "metadata": {},
     "output_type": "execute_result"
    }
   ],
   "source": [
    "# Python\n",
    "sum(scores) / len(scores)"
   ],
   "metadata": {
    "collapsed": false,
    "pycharm": {
     "name": "#%%\n"
    }
   }
  },
  {
   "cell_type": "code",
   "execution_count": 8,
   "outputs": [
    {
     "data": {
      "text/plain": "55.000"
     },
     "execution_count": 8,
     "metadata": {},
     "output_type": "execute_result"
    }
   ],
   "source": [
    "# NumPy\n",
    "np.mean(scores)"
   ],
   "metadata": {
    "collapsed": false,
    "pycharm": {
     "name": "#%%\n"
    }
   }
  },
  {
   "cell_type": "code",
   "execution_count": 9,
   "outputs": [
    {
     "name": "stdout",
     "output_type": "stream",
     "text": [
      "点数    55.0\n",
      "dtype: float64\n"
     ]
    }
   ],
   "source": [
    "# DataFrame\n",
    "print(scores_df.mean())"
   ],
   "metadata": {
    "collapsed": false,
    "pycharm": {
     "name": "#%%\n"
    }
   }
  },
  {
   "cell_type": "markdown",
   "source": [
    "### 中央値(median)\n",
    "Data を大きさの順に並べたときにちょうど中央に位置する値。\n",
    "平均値に比べて外れ値に強い。\n",
    "- Data 数 n が奇数なら、(n+1)/2 番目の Data が中央値\n",
    "- Data 数 n が偶数なら、n/2+1 番目の Data と n/2+1 の Data の平均が中央値"
   ],
   "metadata": {
    "collapsed": false,
    "pycharm": {
     "name": "#%% md\n"
    }
   }
  },
  {
   "cell_type": "code",
   "execution_count": 10,
   "outputs": [
    {
     "data": {
      "text/plain": "array([41, 42, 48, 49, 56, 57, 58, 65, 65, 69])"
     },
     "metadata": {},
     "output_type": "display_data"
    }
   ],
   "source": [
    "sorted_scores = np.sort(scores)\n",
    "display(sorted_scores)"
   ],
   "metadata": {
    "collapsed": false,
    "pycharm": {
     "name": "#%%\n"
    }
   }
  },
  {
   "cell_type": "code",
   "execution_count": 11,
   "outputs": [
    {
     "data": {
      "text/plain": "56.500"
     },
     "metadata": {},
     "output_type": "display_data"
    }
   ],
   "source": [
    "# Python\n",
    "n = len(sorted_scores)\n",
    "if n % 2 == 0:\n",
    "    m0 = sorted_scores[n//2 - 1]\n",
    "    m1 = sorted_scores[n//2]\n",
    "    median = (m0 + m1) / 2\n",
    "else:\n",
    "    median = sorted_scores[(n+1)//2 - 1]\n",
    "display(median)"
   ],
   "metadata": {
    "collapsed": false,
    "pycharm": {
     "name": "#%%\n"
    }
   }
  },
  {
   "cell_type": "code",
   "execution_count": 12,
   "outputs": [
    {
     "data": {
      "text/plain": "56.500"
     },
     "execution_count": 12,
     "metadata": {},
     "output_type": "execute_result"
    }
   ],
   "source": [
    "# NumPy\n",
    "np.median(scores)"
   ],
   "metadata": {
    "collapsed": false,
    "pycharm": {
     "name": "#%%\n"
    }
   }
  },
  {
   "cell_type": "code",
   "execution_count": 13,
   "outputs": [
    {
     "name": "stdout",
     "output_type": "stream",
     "text": [
      "点数    56.5\n",
      "dtype: float64\n"
     ]
    }
   ],
   "source": [
    "# DataFrame\n",
    "print(scores_df.median())"
   ],
   "metadata": {
    "collapsed": false,
    "pycharm": {
     "name": "#%%\n"
    }
   }
  },
  {
   "cell_type": "markdown",
   "source": [
    "### 最頻値(mode)\n",
    "Data の中で最も多く出現する値のこと"
   ],
   "metadata": {
    "collapsed": false,
    "pycharm": {
     "name": "#%% md\n"
    }
   }
  },
  {
   "cell_type": "code",
   "execution_count": 14,
   "outputs": [
    {
     "name": "stdout",
     "output_type": "stream",
     "text": [
      "0    1\n",
      "dtype: int64\n"
     ]
    }
   ],
   "source": [
    "# DataFrame\n",
    "print(pd.Series([1, 1, 1, 2, 2, 3]).mode())"
   ],
   "metadata": {
    "collapsed": false,
    "pycharm": {
     "name": "#%%\n"
    }
   }
  },
  {
   "cell_type": "markdown",
   "source": [
    "最頻値は、基本的に質的 Data の代表値を求めるときに使用する使用。\n",
    "※量的 Data について、全く同じ値が何回もでていることはあまりない。ただし、度数分布表を導入することで、量的 Data についても最頻値を自然に定義できる。"
   ],
   "metadata": {
    "collapsed": false,
    "pycharm": {
     "name": "#%% md\n"
    }
   }
  },
  {
   "cell_type": "code",
   "execution_count": 15,
   "outputs": [
    {
     "name": "stdout",
     "output_type": "stream",
     "text": [
      "0    1\n",
      "1    2\n",
      "2    3\n",
      "3    4\n",
      "4    5\n",
      "dtype: int64\n"
     ]
    }
   ],
   "source": [
    "print(pd.Series(range(1, 6)).mode())"
   ],
   "metadata": {
    "collapsed": false,
    "pycharm": {
     "name": "#%%\n"
    }
   }
  },
  {
   "cell_type": "markdown",
   "source": [
    "## Data のばらつきの指標\n",
    "\n",
    "### 分散と標準偏差\n",
    "#### 偏差(deviation)\n",
    "各 Data が平均からどれだけ離れているかを表す指標。"
   ],
   "metadata": {
    "collapsed": false,
    "pycharm": {
     "name": "#%% md\n"
    }
   }
  },
  {
   "cell_type": "code",
   "execution_count": 16,
   "outputs": [
    {
     "data": {
      "text/plain": "array([-13.,  14.,   1., -14.,   2.,  -7.,  10.,  -6.,  10.,   3.])"
     },
     "metadata": {},
     "output_type": "display_data"
    }
   ],
   "source": [
    "mean = np.mean(scores)\n",
    "deviation = scores - mean\n",
    "display(deviation)"
   ],
   "metadata": {
    "collapsed": false,
    "pycharm": {
     "name": "#%%\n"
    }
   }
  },
  {
   "cell_type": "code",
   "execution_count": 17,
   "outputs": [
    {
     "data": {
      "text/plain": "array([-5.,  5.,  3., -1., -4.,  1.,  2., -2., -3.,  4.])"
     },
     "metadata": {},
     "output_type": "display_data"
    }
   ],
   "source": [
    "another_scores = [50, 60, 58, 54, 51, 56, 57, 53, 52, 59]\n",
    "another_mean = np.mean(another_scores)\n",
    "another_deviation = another_scores - another_mean\n",
    "display(another_deviation)"
   ],
   "metadata": {
    "collapsed": false,
    "pycharm": {
     "name": "#%%\n"
    }
   }
  },
  {
   "cell_type": "markdown",
   "source": [
    "偏差の平均は常に０になる"
   ],
   "metadata": {
    "collapsed": false,
    "pycharm": {
     "name": "#%% md\n"
    }
   }
  },
  {
   "cell_type": "code",
   "execution_count": 18,
   "outputs": [
    {
     "data": {
      "text/plain": "0.000"
     },
     "execution_count": 18,
     "metadata": {},
     "output_type": "execute_result"
    }
   ],
   "source": [
    "np.mean(deviation)"
   ],
   "metadata": {
    "collapsed": false,
    "pycharm": {
     "name": "#%%\n"
    }
   }
  },
  {
   "cell_type": "code",
   "execution_count": 19,
   "outputs": [
    {
     "data": {
      "text/plain": "0.000"
     },
     "execution_count": 19,
     "metadata": {},
     "output_type": "execute_result"
    }
   ],
   "source": [
    "np.mean(deviation)"
   ],
   "metadata": {
    "collapsed": false,
    "pycharm": {
     "name": "#%%\n"
    }
   }
  },
  {
   "cell_type": "code",
   "execution_count": 20,
   "outputs": [
    {
     "data": {
      "text/plain": "    点数    偏差\n生徒          \nA   42 -13.0\nB   69  14.0\nC   56   1.0\nD   41 -14.0\nE   57   2.0\nF   48  -7.0\nG   65  10.0\nH   49  -6.0\nI   65  10.0\nJ   58   3.0",
      "text/html": "<div>\n<style scoped>\n    .dataframe tbody tr th:only-of-type {\n        vertical-align: middle;\n    }\n\n    .dataframe tbody tr th {\n        vertical-align: top;\n    }\n\n    .dataframe thead th {\n        text-align: right;\n    }\n</style>\n<table border=\"1\" class=\"dataframe\">\n  <thead>\n    <tr style=\"text-align: right;\">\n      <th></th>\n      <th>点数</th>\n      <th>偏差</th>\n    </tr>\n    <tr>\n      <th>生徒</th>\n      <th></th>\n      <th></th>\n    </tr>\n  </thead>\n  <tbody>\n    <tr>\n      <th>A</th>\n      <td>42</td>\n      <td>-13.0</td>\n    </tr>\n    <tr>\n      <th>B</th>\n      <td>69</td>\n      <td>14.0</td>\n    </tr>\n    <tr>\n      <th>C</th>\n      <td>56</td>\n      <td>1.0</td>\n    </tr>\n    <tr>\n      <th>D</th>\n      <td>41</td>\n      <td>-14.0</td>\n    </tr>\n    <tr>\n      <th>E</th>\n      <td>57</td>\n      <td>2.0</td>\n    </tr>\n    <tr>\n      <th>F</th>\n      <td>48</td>\n      <td>-7.0</td>\n    </tr>\n    <tr>\n      <th>G</th>\n      <td>65</td>\n      <td>10.0</td>\n    </tr>\n    <tr>\n      <th>H</th>\n      <td>49</td>\n      <td>-6.0</td>\n    </tr>\n    <tr>\n      <th>I</th>\n      <td>65</td>\n      <td>10.0</td>\n    </tr>\n    <tr>\n      <th>J</th>\n      <td>58</td>\n      <td>3.0</td>\n    </tr>\n  </tbody>\n</table>\n</div>"
     },
     "execution_count": 20,
     "metadata": {},
     "output_type": "execute_result"
    }
   ],
   "source": [
    "summary_df = scores_df.copy()\n",
    "summary_df['偏差'] = deviation\n",
    "summary_df"
   ],
   "metadata": {
    "collapsed": false,
    "pycharm": {
     "name": "#%%\n"
    }
   }
  },
  {
   "cell_type": "code",
   "execution_count": 21,
   "outputs": [
    {
     "name": "stdout",
     "output_type": "stream",
     "text": [
      "点数    55.0\n",
      "偏差     0.0\n",
      "dtype: float64\n"
     ]
    }
   ],
   "source": [
    "print(summary_df.mean())"
   ],
   "metadata": {
    "collapsed": false,
    "pycharm": {
     "name": "#%%\n"
    }
   }
  },
  {
   "cell_type": "markdown",
   "source": [
    "#### 分散(variance)\n",
    "偏差の平均は常に０になってしまうため、偏差の二乗を考える。\n",
    "その平均として定義される指標が **分散(variance)** になる"
   ],
   "metadata": {
    "collapsed": false,
    "pycharm": {
     "name": "#%% md\n"
    }
   }
  },
  {
   "cell_type": "code",
   "execution_count": 22,
   "outputs": [
    {
     "data": {
      "text/plain": "86.000"
     },
     "execution_count": 22,
     "metadata": {},
     "output_type": "execute_result"
    }
   ],
   "source": [
    "np.mean(deviation ** 2)"
   ],
   "metadata": {
    "collapsed": false,
    "pycharm": {
     "name": "#%%\n"
    }
   }
  },
  {
   "cell_type": "code",
   "execution_count": 23,
   "outputs": [
    {
     "data": {
      "text/plain": "86.000"
     },
     "execution_count": 23,
     "metadata": {},
     "output_type": "execute_result"
    }
   ],
   "source": [
    "# NumPy\n",
    "np.var(scores)"
   ],
   "metadata": {
    "collapsed": false,
    "pycharm": {
     "name": "#%%\n"
    }
   }
  },
  {
   "cell_type": "code",
   "execution_count": 24,
   "outputs": [
    {
     "name": "stdout",
     "output_type": "stream",
     "text": [
      "点数    95.556\n",
      "dtype: float64\n"
     ]
    }
   ],
   "source": [
    "# DataFrame\n",
    "print(scores_df.var())"
   ],
   "metadata": {
    "collapsed": false,
    "pycharm": {
     "name": "#%%\n"
    }
   }
  },
  {
   "cell_type": "markdown",
   "source": [
    "分散には\n",
    "- 標本分散\n",
    "- 不偏分散\n",
    "\n",
    "の２種類ある。\n",
    "\n",
    "- NumPy は Default で標本分散を計算する。\n",
    "- Pandas は、Default で不偏分散を計算する。\n",
    "\n",
    "そのため、計算結果に相違がある。\n",
    "NumPy, Pandas ともに 引数 `ddof` (delta degree of freedom: デルタの自由度) を常に明示的に指定して計算することが推奨される。\n",
    "- `ddof=0`: 標本分散\n",
    "- `ddof=1`: 不偏分散"
   ],
   "metadata": {
    "collapsed": false,
    "pycharm": {
     "name": "#%% md\n"
    }
   }
  },
  {
   "cell_type": "code",
   "execution_count": 25,
   "outputs": [
    {
     "name": "stdout",
     "output_type": "stream",
     "text": [
      "86.0 点数    86.0\n",
      "dtype: float64\n"
     ]
    }
   ],
   "source": [
    "# 標本分散\n",
    "np_variance = np.var(scores, ddof=0)\n",
    "df_variance = scores_df.var(ddof=0)\n",
    "\n",
    "print(np_variance, df_variance)"
   ],
   "metadata": {
    "collapsed": false,
    "pycharm": {
     "name": "#%%\n"
    }
   }
  },
  {
   "cell_type": "code",
   "execution_count": 26,
   "outputs": [
    {
     "name": "stdout",
     "output_type": "stream",
     "text": [
      "95.55555555555556 点数    95.556\n",
      "dtype: float64\n"
     ]
    }
   ],
   "source": [
    "# 不偏分散\n",
    "np_variance = np.var(scores, ddof=1)\n",
    "df_variance = scores_df.var(ddof=1)\n",
    "\n",
    "print(np_variance, df_variance)"
   ],
   "metadata": {
    "collapsed": false,
    "pycharm": {
     "name": "#%%\n"
    }
   }
  },
  {
   "cell_type": "code",
   "execution_count": 27,
   "outputs": [
    {
     "data": {
      "text/plain": "    点数    偏差   偏差二乗\n生徒                 \nA   42 -13.0  169.0\nB   69  14.0  196.0\nC   56   1.0    1.0\nD   41 -14.0  196.0\nE   57   2.0    4.0\nF   48  -7.0   49.0\nG   65  10.0  100.0\nH   49  -6.0   36.0\nI   65  10.0  100.0\nJ   58   3.0    9.0",
      "text/html": "<div>\n<style scoped>\n    .dataframe tbody tr th:only-of-type {\n        vertical-align: middle;\n    }\n\n    .dataframe tbody tr th {\n        vertical-align: top;\n    }\n\n    .dataframe thead th {\n        text-align: right;\n    }\n</style>\n<table border=\"1\" class=\"dataframe\">\n  <thead>\n    <tr style=\"text-align: right;\">\n      <th></th>\n      <th>点数</th>\n      <th>偏差</th>\n      <th>偏差二乗</th>\n    </tr>\n    <tr>\n      <th>生徒</th>\n      <th></th>\n      <th></th>\n      <th></th>\n    </tr>\n  </thead>\n  <tbody>\n    <tr>\n      <th>A</th>\n      <td>42</td>\n      <td>-13.0</td>\n      <td>169.0</td>\n    </tr>\n    <tr>\n      <th>B</th>\n      <td>69</td>\n      <td>14.0</td>\n      <td>196.0</td>\n    </tr>\n    <tr>\n      <th>C</th>\n      <td>56</td>\n      <td>1.0</td>\n      <td>1.0</td>\n    </tr>\n    <tr>\n      <th>D</th>\n      <td>41</td>\n      <td>-14.0</td>\n      <td>196.0</td>\n    </tr>\n    <tr>\n      <th>E</th>\n      <td>57</td>\n      <td>2.0</td>\n      <td>4.0</td>\n    </tr>\n    <tr>\n      <th>F</th>\n      <td>48</td>\n      <td>-7.0</td>\n      <td>49.0</td>\n    </tr>\n    <tr>\n      <th>G</th>\n      <td>65</td>\n      <td>10.0</td>\n      <td>100.0</td>\n    </tr>\n    <tr>\n      <th>H</th>\n      <td>49</td>\n      <td>-6.0</td>\n      <td>36.0</td>\n    </tr>\n    <tr>\n      <th>I</th>\n      <td>65</td>\n      <td>10.0</td>\n      <td>100.0</td>\n    </tr>\n    <tr>\n      <th>J</th>\n      <td>58</td>\n      <td>3.0</td>\n      <td>9.0</td>\n    </tr>\n  </tbody>\n</table>\n</div>"
     },
     "execution_count": 27,
     "metadata": {},
     "output_type": "execute_result"
    }
   ],
   "source": [
    "summary_df['偏差二乗'] = np.square(deviation)\n",
    "summary_df"
   ],
   "metadata": {
    "collapsed": false,
    "pycharm": {
     "name": "#%%\n"
    }
   }
  },
  {
   "cell_type": "code",
   "execution_count": 28,
   "outputs": [
    {
     "name": "stdout",
     "output_type": "stream",
     "text": [
      "点数      55.0\n",
      "偏差       0.0\n",
      "偏差二乗    86.0\n",
      "dtype: float64\n"
     ]
    }
   ],
   "source": [
    "print(summary_df.mean())"
   ],
   "metadata": {
    "collapsed": false,
    "pycharm": {
     "name": "#%%\n"
    }
   }
  },
  {
   "cell_type": "markdown",
   "source": [
    "#### 標準偏差(standard deviation)\n",
    "もとの Data と同じ単位を持ったばらつきの指標として分散の root をとった **標準偏差(standard deviation)** が使われる"
   ],
   "metadata": {
    "collapsed": false,
    "pycharm": {
     "name": "#%% md\n"
    }
   }
  },
  {
   "cell_type": "code",
   "execution_count": 29,
   "outputs": [
    {
     "data": {
      "text/plain": "9.274"
     },
     "execution_count": 29,
     "metadata": {},
     "output_type": "execute_result"
    }
   ],
   "source": [
    "np.sqrt(np.var(scores, ddof=0))"
   ],
   "metadata": {
    "collapsed": false,
    "pycharm": {
     "name": "#%%\n"
    }
   }
  },
  {
   "cell_type": "code",
   "execution_count": 30,
   "outputs": [
    {
     "data": {
      "text/plain": "9.274"
     },
     "execution_count": 30,
     "metadata": {},
     "output_type": "execute_result"
    }
   ],
   "source": [
    "# NumPy\n",
    "np.std(scores, ddof=0)"
   ],
   "metadata": {
    "collapsed": false,
    "pycharm": {
     "name": "#%%\n"
    }
   }
  },
  {
   "cell_type": "markdown",
   "source": [
    "- 平均±標準偏差の区間: １シグマ区間\n",
    "- 平均±２標準偏差んの区間: ２シグマ区間\n",
    "- 平均±３標準偏差んの区間：３シグマ区間\n",
    "\n",
    "と呼ぶ"
   ],
   "metadata": {
    "collapsed": false,
    "pycharm": {
     "name": "#%% md\n"
    }
   }
  },
  {
   "cell_type": "markdown",
   "source": [
    "### 範囲と四分位範囲\n",
    "\n",
    "#### 範囲（range）\n",
    "Data 全体を見るのではなく、Data の最大値と最小値だけでばらつきを表現する方法。\n",
    "最大値と最小値の差が大きければばらつきが大きく、差が小さければばらつきも小さい、と考える。\n",
    "簡単に計算できるが大雑把な指標になり、外れ値に弱い"
   ],
   "metadata": {
    "collapsed": false,
    "pycharm": {
     "name": "#%% md\n"
    }
   }
  },
  {
   "cell_type": "code",
   "execution_count": 31,
   "outputs": [
    {
     "data": {
      "text/plain": "28"
     },
     "execution_count": 31,
     "metadata": {},
     "output_type": "execute_result"
    }
   ],
   "source": [
    "np.max(scores) - np.min(scores)"
   ],
   "metadata": {
    "collapsed": false,
    "pycharm": {
     "name": "#%%\n"
    }
   }
  },
  {
   "cell_type": "markdown",
   "source": [
    "#### 四分位範囲（inter quartile range）\n",
    "Data の下位25%、50%、75%に位置する値に注目する。それらを第１四分位点、第２四分位点、第３四分位点といい Q1, Q2, Q3 で表す。\n",
    "そして、 Q3 - Q1 を四分位範囲 IQR として定義する。"
   ],
   "metadata": {
    "collapsed": false,
    "pycharm": {
     "name": "#%% md\n"
    }
   }
  },
  {
   "cell_type": "code",
   "execution_count": 32,
   "outputs": [
    {
     "data": {
      "text/plain": "15.000"
     },
     "metadata": {},
     "output_type": "display_data"
    }
   ],
   "source": [
    "scores_Q1 = np.percentile(scores, 25)\n",
    "scores_Q3 = np.percentile(scores, 75)\n",
    "scores_IQR = scores_Q3 - scores_Q1\n",
    "display(scores_IQR)"
   ],
   "metadata": {
    "collapsed": false,
    "pycharm": {
     "name": "#%%\n"
    }
   }
  },
  {
   "cell_type": "markdown",
   "source": [
    "Q2 は中央値に一致する。\n",
    "分散は平均に対して定義されるばらつきの指標。IQR は中央値に対して定義されるばらつきの指標と解釈できる。"
   ],
   "metadata": {
    "collapsed": false,
    "pycharm": {
     "name": "#%% md\n"
    }
   }
  },
  {
   "cell_type": "markdown",
   "source": [
    "### Data の指標まとめ\n",
    "DataFrame や Series には `describe` という、ここまで扱ってきた指標を一度に求める Method がある。\n",
    "Data が与えられたら、とりあえず `describe` を使用して大雑把に概要をつかんでみるといいかもしれない。"
   ],
   "metadata": {
    "collapsed": false,
    "pycharm": {
     "name": "#%% md\n"
    }
   }
  },
  {
   "cell_type": "code",
   "execution_count": 33,
   "outputs": [
    {
     "name": "stdout",
     "output_type": "stream",
     "text": [
      "count    10.000\n",
      "mean     55.000\n",
      "std       9.775\n",
      "min      41.000\n",
      "25%      48.250\n",
      "50%      56.500\n",
      "75%      63.250\n",
      "max      69.000\n",
      "dtype: float64\n"
     ]
    }
   ],
   "source": [
    "print(pd.Series(scores).describe())"
   ],
   "metadata": {
    "collapsed": false,
    "pycharm": {
     "name": "#%%\n"
    }
   }
  },
  {
   "cell_type": "markdown",
   "source": [
    "## Data の正規化\n",
    "平均や分散に依存せずに Data の相対的な位置関係がわかる指標があると便利。\n",
    "Data を統一的な指標に変化することを **正規化（normalization）** という。\n",
    "正規化はさまざまな Data を同じように扱うことができるため、Data を解釈するときの常套手段になっている。"
   ],
   "metadata": {
    "collapsed": false,
    "pycharm": {
     "name": "#%% md\n"
    }
   }
  },
  {
   "cell_type": "markdown",
   "source": [
    "### 標準化（standardization）\n",
    "Data から平均を引き、標準偏差で割る操作。\n",
    "標準化された Data を\n",
    "- 基準化変量（standardized data）\n",
    "- z-score\n",
    "\n",
    "という。"
   ],
   "metadata": {
    "collapsed": false,
    "pycharm": {
     "name": "#%% md\n"
    }
   }
  },
  {
   "cell_type": "code",
   "execution_count": 34,
   "outputs": [
    {
     "data": {
      "text/plain": "array([-1.402,  1.51 ,  0.108, -1.51 ,  0.216, -0.755,  1.078, -0.647,\n        1.078,  0.323])"
     },
     "metadata": {},
     "output_type": "display_data"
    }
   ],
   "source": [
    "z = (scores - np.mean(scores)) / np.std(scores, ddof=0)\n",
    "display(z)"
   ],
   "metadata": {
    "collapsed": false,
    "pycharm": {
     "name": "#%%\n"
    }
   }
  },
  {
   "cell_type": "markdown",
   "source": [
    "標準化された Data は平均が 0 で標準偏差が１になる"
   ],
   "metadata": {
    "collapsed": false,
    "pycharm": {
     "name": "#%% md\n"
    }
   }
  },
  {
   "cell_type": "code",
   "execution_count": 35,
   "outputs": [
    {
     "data": {
      "text/plain": "(-0.000, 1.000)"
     },
     "execution_count": 35,
     "metadata": {},
     "output_type": "execute_result"
    }
   ],
   "source": [
    "np.mean(z), np.std(z, ddof=0)"
   ],
   "metadata": {
    "collapsed": false,
    "pycharm": {
     "name": "#%%\n"
    }
   }
  },
  {
   "cell_type": "markdown",
   "source": [
    "標準化された Data は単位をもたないことに注意する"
   ],
   "metadata": {
    "collapsed": false,
    "pycharm": {
     "name": "#%% md\n"
    }
   }
  },
  {
   "cell_type": "markdown",
   "source": [
    "### 偏差値\n",
    "平均が50、標準偏差が10になるように正規化した値のこと"
   ],
   "metadata": {
    "collapsed": false,
    "pycharm": {
     "name": "#%% md\n"
    }
   }
  },
  {
   "cell_type": "code",
   "execution_count": 36,
   "outputs": [
    {
     "data": {
      "text/plain": "array([35.982, 65.097, 51.078, 34.903, 52.157, 42.452, 60.783, 43.53 ,\n       60.783, 53.235])"
     },
     "metadata": {},
     "output_type": "display_data"
    }
   ],
   "source": [
    "z = 50 + 10 * (scores - np.mean(scores)) / np.std(scores, ddof=0)\n",
    "display(z)"
   ],
   "metadata": {
    "collapsed": false,
    "pycharm": {
     "name": "#%%\n"
    }
   }
  },
  {
   "cell_type": "code",
   "execution_count": 37,
   "outputs": [
    {
     "data": {
      "text/plain": "    点数     偏差値\n生徒            \nA   42  35.982\nB   69  65.097\nC   56  51.078\nD   41  34.903\nE   57  52.157\nF   48  42.452\nG   65  60.783\nH   49  43.530\nI   65  60.783\nJ   58  53.235",
      "text/html": "<div>\n<style scoped>\n    .dataframe tbody tr th:only-of-type {\n        vertical-align: middle;\n    }\n\n    .dataframe tbody tr th {\n        vertical-align: top;\n    }\n\n    .dataframe thead th {\n        text-align: right;\n    }\n</style>\n<table border=\"1\" class=\"dataframe\">\n  <thead>\n    <tr style=\"text-align: right;\">\n      <th></th>\n      <th>点数</th>\n      <th>偏差値</th>\n    </tr>\n    <tr>\n      <th>生徒</th>\n      <th></th>\n      <th></th>\n    </tr>\n  </thead>\n  <tbody>\n    <tr>\n      <th>A</th>\n      <td>42</td>\n      <td>35.982</td>\n    </tr>\n    <tr>\n      <th>B</th>\n      <td>69</td>\n      <td>65.097</td>\n    </tr>\n    <tr>\n      <th>C</th>\n      <td>56</td>\n      <td>51.078</td>\n    </tr>\n    <tr>\n      <th>D</th>\n      <td>41</td>\n      <td>34.903</td>\n    </tr>\n    <tr>\n      <th>E</th>\n      <td>57</td>\n      <td>52.157</td>\n    </tr>\n    <tr>\n      <th>F</th>\n      <td>48</td>\n      <td>42.452</td>\n    </tr>\n    <tr>\n      <th>G</th>\n      <td>65</td>\n      <td>60.783</td>\n    </tr>\n    <tr>\n      <th>H</th>\n      <td>49</td>\n      <td>43.530</td>\n    </tr>\n    <tr>\n      <th>I</th>\n      <td>65</td>\n      <td>60.783</td>\n    </tr>\n    <tr>\n      <th>J</th>\n      <td>58</td>\n      <td>53.235</td>\n    </tr>\n  </tbody>\n</table>\n</div>"
     },
     "execution_count": 37,
     "metadata": {},
     "output_type": "execute_result"
    }
   ],
   "source": [
    "scores_df['偏差値'] = z\n",
    "scores_df"
   ],
   "metadata": {
    "collapsed": false,
    "pycharm": {
     "name": "#%%\n"
    }
   }
  },
  {
   "cell_type": "markdown",
   "source": [
    "## １次元 Data の視覚化\n",
    "はじめに50人分の英語の点数の `array` を作り、 `Series` の `describe` method を使い主な指標について確認しておく。"
   ],
   "metadata": {
    "collapsed": false,
    "pycharm": {
     "name": "#%% md\n"
    }
   }
  },
  {
   "cell_type": "code",
   "execution_count": 38,
   "outputs": [
    {
     "data": {
      "text/plain": "count    50.00\nmean     58.38\nstd       9.80\nmin      37.00\n25%      54.00\n50%      57.50\n75%      65.00\nmax      79.00\ndtype: float64"
     },
     "metadata": {},
     "output_type": "display_data"
    }
   ],
   "source": [
    "# 50人分の英語の点数の array\n",
    "english_scores = np.array(df['英語'])\n",
    "# Series に変換して describe を表示\n",
    "display(pd.Series(english_scores).describe())"
   ],
   "metadata": {
    "collapsed": false,
    "pycharm": {
     "name": "#%%\n"
    }
   }
  },
  {
   "cell_type": "markdown",
   "source": [
    "### 度数分布表\n",
    "Data をとる値をいくつかの区間に分けて、各区間にいくつの Data が分類されるかを数える方法。\n",
    "分割した区間と Data 数を表にまとめたもの。"
   ],
   "metadata": {
    "collapsed": false,
    "pycharm": {
     "name": "#%% md\n"
    }
   }
  },
  {
   "cell_type": "markdown",
   "source": [
    "- 階級（class）: ある値で区切った区間のこと\n",
    "- 度数（frequency）: 各階級に属している値の数\n",
    "- 階級幅: 各区間（階級)の幅のこと\n",
    "- 階級数: 階級の数のこと"
   ],
   "metadata": {
    "collapsed": false,
    "pycharm": {
     "name": "#%% md\n"
    }
   }
  },
  {
   "cell_type": "markdown",
   "source": [
    "#### `np.histogram` 関数\n",
    "\n",
    "引数:\n",
    "- bins: 階級数(int)\n",
    "- range: 最小値と最大値(tuple)"
   ],
   "metadata": {
    "collapsed": false,
    "pycharm": {
     "name": "#%% md\n"
    }
   }
  },
  {
   "cell_type": "code",
   "execution_count": 39,
   "outputs": [
    {
     "data": {
      "text/plain": "array([ 0,  0,  0,  2,  8, 16, 18,  6,  0,  0])"
     },
     "metadata": {},
     "output_type": "display_data"
    }
   ],
   "source": [
    "freq, _ = np.histogram(english_scores, bins=10, range=(0, 100))\n",
    "display(freq)"
   ],
   "metadata": {
    "collapsed": false,
    "pycharm": {
     "name": "#%%\n"
    }
   }
  },
  {
   "cell_type": "markdown",
   "source": [
    "`DataFrame` に結果をまとめていく"
   ],
   "metadata": {
    "collapsed": false,
    "pycharm": {
     "name": "#%% md\n"
    }
   }
  },
  {
   "cell_type": "code",
   "execution_count": 40,
   "outputs": [
    {
     "data": {
      "text/plain": "        度数\n階級        \n0~10     0\n10~20    0\n20~30    0\n30~40    2\n40~50    8\n50~60   16\n60~70   18\n70~80    6\n80~90    0\n90~100   0",
      "text/html": "<div>\n<style scoped>\n    .dataframe tbody tr th:only-of-type {\n        vertical-align: middle;\n    }\n\n    .dataframe tbody tr th {\n        vertical-align: top;\n    }\n\n    .dataframe thead th {\n        text-align: right;\n    }\n</style>\n<table border=\"1\" class=\"dataframe\">\n  <thead>\n    <tr style=\"text-align: right;\">\n      <th></th>\n      <th>度数</th>\n    </tr>\n    <tr>\n      <th>階級</th>\n      <th></th>\n    </tr>\n  </thead>\n  <tbody>\n    <tr>\n      <th>0~10</th>\n      <td>0</td>\n    </tr>\n    <tr>\n      <th>10~20</th>\n      <td>0</td>\n    </tr>\n    <tr>\n      <th>20~30</th>\n      <td>0</td>\n    </tr>\n    <tr>\n      <th>30~40</th>\n      <td>2</td>\n    </tr>\n    <tr>\n      <th>40~50</th>\n      <td>8</td>\n    </tr>\n    <tr>\n      <th>50~60</th>\n      <td>16</td>\n    </tr>\n    <tr>\n      <th>60~70</th>\n      <td>18</td>\n    </tr>\n    <tr>\n      <th>70~80</th>\n      <td>6</td>\n    </tr>\n    <tr>\n      <th>80~90</th>\n      <td>0</td>\n    </tr>\n    <tr>\n      <th>90~100</th>\n      <td>0</td>\n    </tr>\n  </tbody>\n</table>\n</div>"
     },
     "execution_count": 40,
     "metadata": {},
     "output_type": "execute_result"
    }
   ],
   "source": [
    "# 0~10 , 10~20, ... といった文字列の List をつくる\n",
    "freq_class = [f'{i}~{i+10}' for i in range(0, 100, 10)]\n",
    "# freq_class を Index にして freq で DataFrame をつくる\n",
    "freq_dist_df = pd.DataFrame({'度数': freq}, index=pd.Index(freq_class, name='階級'))\n",
    "\n",
    "freq_dist_df"
   ],
   "metadata": {
    "collapsed": false,
    "pycharm": {
     "name": "#%%\n"
    }
   }
  },
  {
   "cell_type": "markdown",
   "source": [
    "Data を度数分布表にまとめることで点数の分布がわかりやすくなった。\n",
    "- 多くの生徒は50~70点だった\n",
    "- 高得点も低得点もないあまり差がつかない Test だった\n",
    "\n",
    "度数分布表によく使用される階級値、相対度数、累積相対度数、といった値を加えていく。"
   ],
   "metadata": {
    "collapsed": false,
    "pycharm": {
     "name": "#%% md\n"
    }
   }
  },
  {
   "cell_type": "code",
   "execution_count": 41,
   "outputs": [
    {
     "data": {
      "text/plain": "[5, 15, 25, 35, 45, 55, 65, 75, 85, 95]"
     },
     "execution_count": 41,
     "metadata": {},
     "output_type": "execute_result"
    }
   ],
   "source": [
    "# 階級値（各階級を代表する値のこと。階級の中央の値が使われる。）\n",
    "class_value = [(i+(i+10))//2 for i in range(0, 100, 10)]\n",
    "class_value"
   ],
   "metadata": {
    "collapsed": false,
    "pycharm": {
     "name": "#%%\n"
    }
   }
  },
  {
   "cell_type": "code",
   "execution_count": 42,
   "outputs": [
    {
     "data": {
      "text/plain": "array([0.  , 0.  , 0.  , 0.04, 0.16, 0.32, 0.36, 0.12, 0.  , 0.  ])"
     },
     "metadata": {},
     "output_type": "display_data"
    }
   ],
   "source": [
    "# 相対度数（全 Data に対してその階級の Data がどのくらいの割合を占めているかを示す）\n",
    "rel_freq = freq / freq.sum()\n",
    "display(rel_freq)"
   ],
   "metadata": {
    "collapsed": false,
    "pycharm": {
     "name": "#%%\n"
    }
   }
  },
  {
   "cell_type": "code",
   "execution_count": 43,
   "outputs": [
    {
     "data": {
      "text/plain": "array([0.  , 0.  , 0.  , 0.04, 0.2 , 0.52, 0.88, 1.  , 1.  , 1.  ])"
     },
     "metadata": {},
     "output_type": "display_data"
    }
   ],
   "source": [
    "# 累積相対度数（その階級までの相対度数の和を示す。）\n",
    "cum_rel_freq = np.cumsum(rel_freq)\n",
    "display(cum_rel_freq)"
   ],
   "metadata": {
    "collapsed": false,
    "pycharm": {
     "name": "#%%\n"
    }
   }
  },
  {
   "cell_type": "code",
   "execution_count": 44,
   "outputs": [
    {
     "data": {
      "text/plain": "        階級値  度数  相対度数  累積相対度数\n階級                           \n0~10      5   0  0.00    0.00\n10~20    15   0  0.00    0.00\n20~30    25   0  0.00    0.00\n30~40    35   2  0.04    0.04\n40~50    45   8  0.16    0.20\n50~60    55  16  0.32    0.52\n60~70    65  18  0.36    0.88\n70~80    75   6  0.12    1.00\n80~90    85   0  0.00    1.00\n90~100   95   0  0.00    1.00",
      "text/html": "<div>\n<style scoped>\n    .dataframe tbody tr th:only-of-type {\n        vertical-align: middle;\n    }\n\n    .dataframe tbody tr th {\n        vertical-align: top;\n    }\n\n    .dataframe thead th {\n        text-align: right;\n    }\n</style>\n<table border=\"1\" class=\"dataframe\">\n  <thead>\n    <tr style=\"text-align: right;\">\n      <th></th>\n      <th>階級値</th>\n      <th>度数</th>\n      <th>相対度数</th>\n      <th>累積相対度数</th>\n    </tr>\n    <tr>\n      <th>階級</th>\n      <th></th>\n      <th></th>\n      <th></th>\n      <th></th>\n    </tr>\n  </thead>\n  <tbody>\n    <tr>\n      <th>0~10</th>\n      <td>5</td>\n      <td>0</td>\n      <td>0.00</td>\n      <td>0.00</td>\n    </tr>\n    <tr>\n      <th>10~20</th>\n      <td>15</td>\n      <td>0</td>\n      <td>0.00</td>\n      <td>0.00</td>\n    </tr>\n    <tr>\n      <th>20~30</th>\n      <td>25</td>\n      <td>0</td>\n      <td>0.00</td>\n      <td>0.00</td>\n    </tr>\n    <tr>\n      <th>30~40</th>\n      <td>35</td>\n      <td>2</td>\n      <td>0.04</td>\n      <td>0.04</td>\n    </tr>\n    <tr>\n      <th>40~50</th>\n      <td>45</td>\n      <td>8</td>\n      <td>0.16</td>\n      <td>0.20</td>\n    </tr>\n    <tr>\n      <th>50~60</th>\n      <td>55</td>\n      <td>16</td>\n      <td>0.32</td>\n      <td>0.52</td>\n    </tr>\n    <tr>\n      <th>60~70</th>\n      <td>65</td>\n      <td>18</td>\n      <td>0.36</td>\n      <td>0.88</td>\n    </tr>\n    <tr>\n      <th>70~80</th>\n      <td>75</td>\n      <td>6</td>\n      <td>0.12</td>\n      <td>1.00</td>\n    </tr>\n    <tr>\n      <th>80~90</th>\n      <td>85</td>\n      <td>0</td>\n      <td>0.00</td>\n      <td>1.00</td>\n    </tr>\n    <tr>\n      <th>90~100</th>\n      <td>95</td>\n      <td>0</td>\n      <td>0.00</td>\n      <td>1.00</td>\n    </tr>\n  </tbody>\n</table>\n</div>"
     },
     "execution_count": 44,
     "metadata": {},
     "output_type": "execute_result"
    }
   ],
   "source": [
    "freq_dist_df['階級値'] = class_value\n",
    "freq_dist_df['相対度数'] = rel_freq\n",
    "freq_dist_df['累積相対度数'] = cum_rel_freq\n",
    "freq_dist_df = freq_dist_df[['階級値', '度数', '相対度数', '累積相対度数']]\n",
    "\n",
    "freq_dist_df"
   ],
   "metadata": {
    "collapsed": false,
    "pycharm": {
     "name": "#%%\n"
    }
   }
  },
  {
   "cell_type": "markdown",
   "source": [
    "- 相対度数から全生徒の68%が50~70点\n",
    "- 累積相対度数から全生徒の約半分は60点以下\n",
    "\n",
    "ということが一目でわかるようになった。"
   ],
   "metadata": {
    "collapsed": false,
    "pycharm": {
     "name": "#%% md\n"
    }
   }
  },
  {
   "cell_type": "markdown",
   "source": [
    "### 最頻値ふたたび\n",
    "度数分布表が完成したことで量的 Data に対しても自然に最頻値を求めることができる。\n",
    "度数が最大となる階級の階級値で定義される。"
   ],
   "metadata": {
    "collapsed": false,
    "pycharm": {
     "name": "#%% md\n"
    }
   }
  },
  {
   "cell_type": "code",
   "execution_count": 45,
   "outputs": [
    {
     "data": {
      "text/plain": "65"
     },
     "execution_count": 45,
     "metadata": {},
     "output_type": "execute_result"
    }
   ],
   "source": [
    "freq_dist_df.loc[freq_dist_df['度数'].idxmax(), '階級値']"
   ],
   "metadata": {
    "collapsed": false,
    "pycharm": {
     "name": "#%%\n"
    }
   }
  },
  {
   "cell_type": "markdown",
   "source": [
    "！注意点: 最頻値は度数分布表の作り方に依存する。"
   ],
   "metadata": {
    "collapsed": false,
    "pycharm": {
     "name": "#%% md\n"
    }
   }
  },
  {
   "cell_type": "markdown",
   "source": [
    "### ヒストグラム（Histogram）\n",
    "度数分布表を棒 Graph で表したもの。\n",
    "Histogram を使うことで Data の分布の形状をより視覚的につかむことができる。"
   ],
   "metadata": {
    "collapsed": false,
    "pycharm": {
     "name": "#%% md\n"
    }
   }
  },
  {
   "cell_type": "code",
   "execution_count": 46,
   "outputs": [
    {
     "data": {
      "text/plain": "<Figure size 720x432 with 1 Axes>",
      "image/png": "[encoded data removed]"
     },
     "metadata": {
      "needs_background": "light"
     },
     "output_type": "display_data"
    }
   ],
   "source": [
    "# Campus を作る\n",
    "# figsize で横・幅の大きさを指定\n",
    "fig = plt.figure(figsize=(10, 6))\n",
    "# Campus 上に Graph を描画するための領域を作る\n",
    "# 引数は領域を１ｘ１個作り、１つめの領域に描画することを意味する\n",
    "ax = fig.add_subplot(111)\n",
    "\n",
    "# 階級値を 10 にして Histogram を描画\n",
    "freq, _, _ = ax.hist(english_scores, bins=10, range=(0, 100))\n",
    "# Ｘ軸に Label をつける\n",
    "ax.set_xlabel('点数')\n",
    "# Ｙ軸に Label をつける\n",
    "ax.set_ylabel('人数')\n",
    "# Ｘ軸に 0, 10, 20, ..., 100 の目盛りをふる\n",
    "ax.set_xticks(np.linspace(0, 100, 10+1))\n",
    "# Ｙ軸に 0, 1, 2, ... の目盛りをふる\n",
    "ax.set_yticks(np.arange(0, freq.max()+1))\n",
    "# Graph の表示\n",
    "plt.show()"
   ],
   "metadata": {
    "collapsed": false,
    "pycharm": {
     "name": "#%%\n"
    }
   }
  },
  {
   "cell_type": "markdown",
   "source": [
    "階級値を10に指定して Histogram を作成したが階級値を増やすことでより細かく Data の分布を見ることができる。\n",
    "階級値を25（=階級幅４点）にして Histogram を出力する"
   ],
   "metadata": {
    "collapsed": false,
    "pycharm": {
     "name": "#%% md\n"
    }
   }
  },
  {
   "cell_type": "code",
   "execution_count": 47,
   "outputs": [
    {
     "data": {
      "text/plain": "<Figure size 720x432 with 1 Axes>",
      "image/png": "[encoded data removed]"
     },
     "metadata": {
      "needs_background": "light"
     },
     "output_type": "display_data"
    }
   ],
   "source": [
    "fig = plt.figure(figsize=(10, 6))\n",
    "ax = fig.add_subplot(111)\n",
    "\n",
    "freq, _, _ = ax.hist(english_scores, bins=25, range=(0, 100))\n",
    "ax.set_xlabel('点数')\n",
    "ax.set_ylabel('人数')\n",
    "ax.set_xticks(np.linspace(0, 100, 25+1))\n",
    "ax.set_yticks(np.arange(0, freq.max()+1))\n",
    "plt.show()"
   ],
   "metadata": {
    "collapsed": false,
    "pycharm": {
     "name": "#%%\n"
    }
   }
  },
  {
   "cell_type": "markdown",
   "source": [
    "階級幅を変えることで、Histogram の見た目が大きく変わった。\n",
    "※度数分布表や Histogram は階級値によって形状が大きく変わる為、Data によって適切な値に設定することが大切になる。"
   ],
   "metadata": {
    "collapsed": false,
    "pycharm": {
     "name": "#%% md\n"
    }
   }
  },
  {
   "cell_type": "code",
   "execution_count": 48,
   "outputs": [
    {
     "data": {
      "text/plain": "<Figure size 720x432 with 2 Axes>",
      "image/png": "[encoded data removed]"
     },
     "metadata": {
      "needs_background": "light"
     },
     "output_type": "display_data"
    }
   ],
   "source": [
    "# 相対度数の Histogram を 累積相対度数の折れ線 Graph と一緒に描画する\n",
    "fig = plt.figure(figsize=(10, 6))\n",
    "ax1 = fig.add_subplot(111)\n",
    "# Ｙ軸の Scale が違う Graph を ax1 と同じ領域上に書けるようにする\n",
    "ax2 = ax1.twinx()\n",
    "\n",
    "# 相対度数の Histogram にするためには、度数を Data の数で割る必要がある\n",
    "# これは hist の引数 weight を指定することで実現できる\n",
    "weights = np.ones_like(english_scores) / len(english_scores)\n",
    "rel_freq, _, _ = ax1.hist(english_scores, bins=25, range=(0, 100), weights=weights)\n",
    "cum_rel_freq = np.cumsum(rel_freq)\n",
    "class_value = [(i+(i+4))//2 for i in range(0, 100, 4)]\n",
    "# 折れ線 Graph 描画\n",
    "# 引数 ls を '--' にすることで線が点線に\n",
    "# 引数 marker を 'o' にすることで Data 点を丸に\n",
    "# 引数 color を 'gray' にすることで灰色に\n",
    "ax2.plot(class_value, cum_rel_freq, ls='--', marker='o', color='gray')\n",
    "# 折れ線 Graph の罫線を消去\n",
    "ax2.grid(visible=False)\n",
    "\n",
    "ax1.set_xlabel('点数')\n",
    "ax1.set_ylabel('相対度数')\n",
    "ax2.set_ylabel('累積相対度数')\n",
    "ax1.set_xticks(np.linspace(0, 100, 25+1))\n",
    "\n",
    "plt.show()"
   ],
   "metadata": {
    "collapsed": false,
    "pycharm": {
     "name": "#%%\n"
    }
   }
  },
  {
   "cell_type": "markdown",
   "source": [
    "## 箱ひげ図(box plot)\n",
    "- Data のばらつきを表現するための図\n",
    "- Data の分布や外れ値を視覚的につかめる\n",
    "- 四分位範囲の Q1, Q2, Q3, IQR を使用する\n",
    "- 箱は Q1 から Q3 を、ひげは Q1 - 1.5IQR から Q3 + 1.5IQR を表し、そこい入りきらなかった Data は外れ値になる"
   ],
   "metadata": {
    "collapsed": false,
    "pycharm": {
     "name": "#%% md\n"
    }
   }
  },
  {
   "cell_type": "code",
   "execution_count": 49,
   "outputs": [
    {
     "data": {
      "text/plain": "<Figure size 360x432 with 1 Axes>",
      "image/png": "[encoded data removed]"
     },
     "metadata": {
      "needs_background": "light"
     },
     "output_type": "display_data"
    }
   ],
   "source": [
    "fig = plt.figure(figsize=(5, 6))\n",
    "ax = fig.add_subplot(111)\n",
    "ax.boxplot(english_scores, labels=['英語'])\n",
    "\n",
    "plt.show()"
   ],
   "metadata": {
    "collapsed": false,
    "pycharm": {
     "name": "#%%\n"
    }
   }
  },
  {
   "cell_type": "markdown",
   "source": [
    "箱ひげ図からも Test は60点前後の人が多いことがわかる。"
   ],
   "metadata": {
    "collapsed": false,
    "pycharm": {
     "name": "#%% md\n"
    }
   }
  }
 ],
 "metadata": {
  "kernelspec": {
   "display_name": "Python 3",
   "language": "python",
   "name": "python3"
  },
  "language_info": {
   "codemirror_mode": {
    "name": "ipython",
    "version": 2
   },
   "file_extension": ".py",
   "mimetype": "text/x-python",
   "name": "python",
   "nbconvert_exporter": "python",
   "pygments_lexer": "ipython2",
   "version": "2.7.6"
  }
 },
 "nbformat": 4,
 "nbformat_minor": 0
}