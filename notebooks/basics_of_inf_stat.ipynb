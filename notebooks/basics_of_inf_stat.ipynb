{
 "cells": [
  {
   "cell_type": "markdown",
   "metadata": {
    "collapsed": true,
    "pycharm": {
     "name": "#%% md\n"
    }
   },
   "source": [
    "# 推測統計の基本\n",
    "#### 推測統計\n",
    "一部の Data から全体の統計的性質を推測する枠組み"
   ]
  },
  {
   "cell_type": "code",
   "execution_count": 1,
   "outputs": [],
   "source": [
    "import numpy as np\n",
    "import pandas as pd\n",
    "import matplotlib.pyplot as plt\n",
    "import japanize_matplotlib\n",
    "from IPython.display import display\n",
    "\n",
    "np.set_printoptions(precision=3)\n",
    "pd.options.display.precision = 3"
   ],
   "metadata": {
    "collapsed": false,
    "pycharm": {
     "name": "#%%\n"
    }
   }
  },
  {
   "cell_type": "code",
   "source": [
    "df = pd.read_csv('../data/ch4_scores400.csv')\n",
    "scores = np.array(df['点数'])\n",
    "display(scores[:10])"
   ],
   "metadata": {
    "collapsed": false,
    "pycharm": {
     "name": "#%%\n"
    }
   },
   "execution_count": 4,
   "outputs": [
    {
     "data": {
      "text/plain": "array([76, 55, 80, 80, 74, 61, 81, 76, 23, 80])"
     },
     "metadata": {},
     "output_type": "display_data"
    }
   ]
  },
  {
   "cell_type": "markdown",
   "source": [
    "## 母集団と標本\n",
    "推測統計では観測対象全体の統計的性質を、その観測対象の一部分のみを使って推測する。\n",
    "- 母集団（population）: 推測したい観測対象全体のこと\n",
    "- 標本（sample）: 推測に使う観測対象の一部分のこと\n",
    "- 標本抽出（sampling）: 母集団から標本を取り出すこと\n",
    "- 標本の大きさ（Sample size）: 標本の大きさ\n",
    "- 標本統計量: 標本から計算される平均や分散、相関係数などの総称\n",
    "- 母数: 母集団の平均や分散、相関係数などの総称\n",
    "- 推定量（estimator）: ex). 標本平均で母平均を推測するときの母平均の標本平均のこと。\n",
    "- 推定値（estimate）: 実際に標本の Data を用いて計算した結果"
   ],
   "metadata": {
    "collapsed": false,
    "pycharm": {
     "name": "#%% md\n"
    }
   }
  },
  {
   "cell_type": "markdown",
   "source": [
    "### 標本の抽出方法\n",
    "#### 無作為抽出（random sampling）\n",
    " Random に標本を抽出する方法。無作為抽出は標本の抽出に偏りをなくす方法であって、その結果偏りのある Data が得られる可能性もある。\n",
    " しかし、そこでもう１回無作為抽出をやり直すと結果として作為的な抽出になってします。推測統計では無作為抽出の結果、偏りのある標本が得られる可能性も含めて推測を行なう。\n",
    "\n",
    "#### 復元抽出（sampling with replacement）\n",
    "複数回同じ標本を選ぶ抽出方法\n",
    "\n",
    "#### 非復元抽出（sample without replacement)\n",
    "同じ標本は一度しか選ばない方法"
   ],
   "metadata": {
    "collapsed": false,
    "pycharm": {
     "name": "#%% md\n"
    }
   }
  },
  {
   "cell_type": "code",
   "execution_count": 12,
   "outputs": [
    {
     "data": {
      "text/plain": "array([3, 1, 3])"
     },
     "metadata": {},
     "output_type": "display_data"
    }
   ],
   "source": [
    "display(np.random.choice([1, 2, 3], 3))"
   ],
   "metadata": {
    "collapsed": false,
    "pycharm": {
     "name": "#%%\n"
    }
   }
  },
  {
   "cell_type": "code",
   "execution_count": 24,
   "outputs": [
    {
     "data": {
      "text/plain": "array([3, 2, 1])"
     },
     "metadata": {},
     "output_type": "display_data"
    }
   ],
   "source": [
    "display(np.random.choice([1, 2, 3], 3, replace=False))"
   ],
   "metadata": {
    "collapsed": false,
    "pycharm": {
     "name": "#%%\n"
    }
   }
  },
  {
   "cell_type": "markdown",
   "source": [
    "乱数の Seed を導入する。\n",
    "※ 乱数の Seed: 発生させる乱数の元となる数字。これを定めておくと毎回同じ乱数を得ることができる"
   ],
   "metadata": {
    "collapsed": false,
    "pycharm": {
     "name": "#%% md\n"
    }
   }
  },
  {
   "cell_type": "code",
   "source": [
    "np.random.seed(0)\n",
    "display(np.random.choice([1, 2, 3], 3))"
   ],
   "metadata": {
    "collapsed": false,
    "pycharm": {
     "name": "#%%\n"
    }
   },
   "execution_count": 29,
   "outputs": [
    {
     "data": {
      "text/plain": "array([1, 2, 1])"
     },
     "metadata": {},
     "output_type": "display_data"
    }
   ]
  },
  {
   "cell_type": "markdown",
   "source": [
    "Seed を設定することで毎回同じ乱数を得ることができ、Code の再現性を保つことができる。"
   ],
   "metadata": {
    "collapsed": false,
    "pycharm": {
     "name": "#%% md\n"
    }
   }
  },
  {
   "cell_type": "code",
   "execution_count": 34,
   "outputs": [
    {
     "data": {
      "text/plain": "70.4"
     },
     "execution_count": 34,
     "metadata": {},
     "output_type": "execute_result"
    }
   ],
   "source": [
    "np.random.seed(0)\n",
    "\n",
    "# 標本平均\n",
    "sample = np.random.choice(scores, 20)\n",
    "sample.mean()"
   ],
   "metadata": {
    "collapsed": false,
    "pycharm": {
     "name": "#%%\n"
    }
   }
  },
  {
   "cell_type": "code",
   "execution_count": 35,
   "outputs": [
    {
     "data": {
      "text/plain": "69.53"
     },
     "execution_count": 35,
     "metadata": {},
     "output_type": "execute_result"
    }
   ],
   "source": [
    "# 母平均\n",
    "scores.mean()"
   ],
   "metadata": {
    "collapsed": false,
    "pycharm": {
     "name": "#%%\n"
    }
   }
  },
  {
   "cell_type": "markdown",
   "source": [
    "無作為抽出は行なうたびに得られる標本平均も毎回異なる"
   ],
   "metadata": {
    "collapsed": false,
    "pycharm": {
     "name": "#%% md\n"
    }
   }
  },
  {
   "cell_type": "code",
   "execution_count": 36,
   "outputs": [
    {
     "name": "stdout",
     "output_type": "stream",
     "text": [
      "1回目の無作為抽出で得た標本平均 72.45\n",
      "2回目の無作為抽出で得た標本平均 63.7\n",
      "3回目の無作為抽出で得た標本平均 66.05\n",
      "4回目の無作為抽出で得た標本平均 71.7\n",
      "5回目の無作為抽出で得た標本平均 74.15\n"
     ]
    }
   ],
   "source": [
    "for i in range(5):\n",
    "    sample = np.random.choice(scores, 20)\n",
    "    print(f'{i+1}回目の無作為抽出で得た標本平均', sample.mean())"
   ],
   "metadata": {
    "collapsed": false,
    "pycharm": {
     "name": "#%%\n"
    }
   }
  },
  {
   "cell_type": "markdown",
   "source": [
    "標本平均は大体70点前後になっているが、それなりにばらつきもある様子。"
   ],
   "metadata": {
    "collapsed": false,
    "pycharm": {
     "name": "#%% md\n"
    }
   }
  },
  {
   "cell_type": "code",
   "execution_count": null,
   "outputs": [],
   "source": [],
   "metadata": {
    "collapsed": false,
    "pycharm": {
     "name": "#%%\n"
    }
   }
  }
 ],
 "metadata": {
  "kernelspec": {
   "display_name": "Python 3",
   "language": "python",
   "name": "python3"
  },
  "language_info": {
   "codemirror_mode": {
    "name": "ipython",
    "version": 2
   },
   "file_extension": ".py",
   "mimetype": "text/x-python",
   "name": "python",
   "nbconvert_exporter": "python",
   "pygments_lexer": "ipython2",
   "version": "2.7.6"
  }
 },
 "nbformat": 4,
 "nbformat_minor": 0
}