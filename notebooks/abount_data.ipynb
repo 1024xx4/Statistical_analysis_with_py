{
 "cells": [
  {
   "cell_type": "markdown",
   "source": [
    "# Data について\n",
    "統計解析は Data を扱い、Data から意味を見出す。\n",
    "統計解析における基本的な用語や Data の分類についてみていく。"
   ],
   "metadata": {
    "collapsed": false,
    "pycharm": {
     "name": "#%% md\n"
    }
   }
  },
  {
   "cell_type": "code",
   "execution_count": 1,
   "metadata": {
    "collapsed": true
   },
   "outputs": [],
   "source": [
    "# Pandas の import\n",
    "import pandas as pd"
   ]
  },
  {
   "cell_type": "code",
   "execution_count": 3,
   "outputs": [
    {
     "name": "stdout",
     "output_type": "stream",
     "text": [
      "--2022-02-13 07:45:01--  https://raw.githubusercontent.com/ghmagazine/python_stat_sample/master/data/ch1_sport_test.csv\r\n",
      "Resolving raw.githubusercontent.com (raw.githubusercontent.com)... 185.199.109.133, 185.199.108.133, 185.199.111.133, ...\r\n",
      "Connecting to raw.githubusercontent.com (raw.githubusercontent.com)|185.199.109.133|:443... connected.\r\n",
      "HTTP request sent, awaiting response... 200 OK\r\n",
      "Length: 227 [text/plain]\r\n",
      "Saving to: ‘../data/ch1_sport_test.csv’\r\n",
      "\r\n",
      "../data/ch1_sport_t 100%[===================>]     227  --.-KB/s    in 0s      \r\n",
      "\r\n",
      "2022-02-13 07:45:01 (23.4 MB/s) - ‘../data/ch1_sport_test.csv’ saved [227/227]\r\n",
      "\r\n"
     ]
    }
   ],
   "source": [
    "# GitHub より Sample data を Download する\n",
    "! wget -O ../data/ch1_sport_test.csv https://raw.githubusercontent.com/ghmagazine/python_stat_sample/master/data/ch1_sport_test.csv"
   ],
   "metadata": {
    "collapsed": false,
    "pycharm": {
     "name": "#%%\n"
    }
   }
  },
  {
   "cell_type": "code",
   "execution_count": 5,
   "outputs": [
    {
     "name": "stdout",
     "output_type": "stream",
     "text": [
      "生徒番号,学年,握力,上体起こし,点数,順位\r\n",
      "1,1,40.2,34,15,4\r\n",
      "2,1,34.2,14,7,10\r\n",
      "3,1,28.8,27,11,7\r\n",
      "4,2,39.0,27,14,5\r\n",
      "5,2,50.9,32,17,2\r\n",
      "6,2,36.5,20,9,9\r\n",
      "7,3,36.6,31,13,6\r\n",
      "8,3,49.2,37,18,1\r\n",
      "9,3,26.0,28,10,8\r\n"
     ]
    }
   ],
   "source": [
    "# Download した Sample data を表示してみる\n",
    "!head ../data/ch1_sport_test.csv"
   ],
   "metadata": {
    "collapsed": false,
    "pycharm": {
     "name": "#%%\n"
    }
   }
  },
  {
   "cell_type": "code",
   "execution_count": 6,
   "outputs": [
    {
     "data": {
      "text/plain": "      学年    握力  上体起こし  点数  順位\n生徒番号                         \n1      1  40.2     34  15   4\n2      1  34.2     14   7  10\n3      1  28.8     27  11   7\n4      2  39.0     27  14   5\n5      2  50.9     32  17   2\n6      2  36.5     20   9   9\n7      3  36.6     31  13   6\n8      3  49.2     37  18   1\n9      3  26.0     28  10   8\n10     3  47.4     32  16   3",
      "text/html": "<div>\n<style scoped>\n    .dataframe tbody tr th:only-of-type {\n        vertical-align: middle;\n    }\n\n    .dataframe tbody tr th {\n        vertical-align: top;\n    }\n\n    .dataframe thead th {\n        text-align: right;\n    }\n</style>\n<table border=\"1\" class=\"dataframe\">\n  <thead>\n    <tr style=\"text-align: right;\">\n      <th></th>\n      <th>学年</th>\n      <th>握力</th>\n      <th>上体起こし</th>\n      <th>点数</th>\n      <th>順位</th>\n    </tr>\n    <tr>\n      <th>生徒番号</th>\n      <th></th>\n      <th></th>\n      <th></th>\n      <th></th>\n      <th></th>\n    </tr>\n  </thead>\n  <tbody>\n    <tr>\n      <th>1</th>\n      <td>1</td>\n      <td>40.2</td>\n      <td>34</td>\n      <td>15</td>\n      <td>4</td>\n    </tr>\n    <tr>\n      <th>2</th>\n      <td>1</td>\n      <td>34.2</td>\n      <td>14</td>\n      <td>7</td>\n      <td>10</td>\n    </tr>\n    <tr>\n      <th>3</th>\n      <td>1</td>\n      <td>28.8</td>\n      <td>27</td>\n      <td>11</td>\n      <td>7</td>\n    </tr>\n    <tr>\n      <th>4</th>\n      <td>2</td>\n      <td>39.0</td>\n      <td>27</td>\n      <td>14</td>\n      <td>5</td>\n    </tr>\n    <tr>\n      <th>5</th>\n      <td>2</td>\n      <td>50.9</td>\n      <td>32</td>\n      <td>17</td>\n      <td>2</td>\n    </tr>\n    <tr>\n      <th>6</th>\n      <td>2</td>\n      <td>36.5</td>\n      <td>20</td>\n      <td>9</td>\n      <td>9</td>\n    </tr>\n    <tr>\n      <th>7</th>\n      <td>3</td>\n      <td>36.6</td>\n      <td>31</td>\n      <td>13</td>\n      <td>6</td>\n    </tr>\n    <tr>\n      <th>8</th>\n      <td>3</td>\n      <td>49.2</td>\n      <td>37</td>\n      <td>18</td>\n      <td>1</td>\n    </tr>\n    <tr>\n      <th>9</th>\n      <td>3</td>\n      <td>26.0</td>\n      <td>28</td>\n      <td>10</td>\n      <td>8</td>\n    </tr>\n    <tr>\n      <th>10</th>\n      <td>3</td>\n      <td>47.4</td>\n      <td>32</td>\n      <td>16</td>\n      <td>3</td>\n    </tr>\n  </tbody>\n</table>\n</div>"
     },
     "execution_count": 6,
     "metadata": {},
     "output_type": "execute_result"
    }
   ],
   "source": [
    "# 生徒番号を Index として csv File を読み込み、変数 df に格納\n",
    "df = pd.read_csv('../data/ch1_sport_test.csv', index_col='生徒番号')\n",
    "\n",
    "# 変数 df を表示\n",
    "df"
   ],
   "metadata": {
    "collapsed": false,
    "pycharm": {
     "name": "#%%\n"
    }
   }
  },
  {
   "cell_type": "markdown",
   "source": [
    "Sport test の結果の DataFrame.\n",
    "Test 結果には10人分の\n",
    "- 生徒番号\n",
    "- 学年\n",
    "- 握力\n",
    "- 上体起こし\n",
    "- 点数\n",
    "- 順位\n",
    "\n",
    "が確認できる"
   ],
   "metadata": {
    "collapsed": false,
    "pycharm": {
     "name": "#%% md\n"
    }
   }
  },
  {
   "cell_type": "code",
   "execution_count": 8,
   "outputs": [
    {
     "name": "stdout",
     "output_type": "stream",
     "text": [
      "生徒番号\n",
      "1     40.2\n",
      "2     34.2\n",
      "3     28.8\n",
      "4     39.0\n",
      "5     50.9\n",
      "6     36.5\n",
      "7     36.6\n",
      "8     49.2\n",
      "9     26.0\n",
      "10    47.4\n",
      "Name: 握力, dtype: float64\n"
     ]
    }
   ],
   "source": [
    "# 握力の Series を表示してみる\n",
    "print(df['握力'])"
   ],
   "metadata": {
    "collapsed": false,
    "pycharm": {
     "name": "#%%\n"
    }
   }
  },
  {
   "cell_type": "markdown",
   "source": [
    "## Data の大きさ\n",
    "Data が与えられたとき、最初に確認したいことは **Data の大きさ。**\n",
    "DataFrame の大きさは `shape` という Instance変数を参照することで確認できる"
   ],
   "metadata": {
    "collapsed": false,
    "pycharm": {
     "name": "#%% md\n"
    }
   }
  },
  {
   "cell_type": "code",
   "execution_count": 10,
   "outputs": [
    {
     "data": {
      "text/plain": "(10, 5)"
     },
     "execution_count": 10,
     "metadata": {},
     "output_type": "execute_result"
    }
   ],
   "source": [
    "df.shape"
   ],
   "metadata": {
    "collapsed": false,
    "pycharm": {
     "name": "#%%\n"
    }
   }
  },
  {
   "cell_type": "markdown",
   "source": [
    "返値の１番目が「Data の数」、2番目が変数の数。\n",
    "変数が５つあり、**５変数、５次元** といえる。\n",
    "\n",
    "統計解析では、\n",
    "1. １変数ずつどのような特徴を持っているかを見ていき\n",
    "2. 変数間の関係性を調べていく"
   ],
   "metadata": {
    "collapsed": false,
    "pycharm": {
     "name": "#%% md\n"
    }
   }
  },
  {
   "cell_type": "markdown",
   "source": [
    "## 変数の種類"
   ],
   "metadata": {
    "collapsed": false,
    "pycharm": {
     "name": "#%% md\n"
    }
   }
  },
  {
   "cell_type": "markdown",
   "source": [
    "### 質的変数と量的変数\n",
    "#### 質的変数\n",
    "種類を区別するような変数のこと。\n",
    "質的変数の中でも特に「男性と女性」、「喫煙習慣の有無」といった２種類の値しかとらない質的変数を **２値変数** と呼ぶことがある。\n",
    "#### 量的変数\n",
    "量を表現する変数のこと。\n",
    "注意点として質的変数でも Data 上では０、１のように数字の Data になっていることがあり、数値の変数でも量的変数とは限らないこと。"
   ],
   "metadata": {
    "collapsed": false,
    "pycharm": {
     "name": "#%% md\n"
    }
   }
  },
  {
   "cell_type": "markdown",
   "source": [
    "### 尺度水準\n",
    "質的変数は、\n",
    "- 名義尺度\n",
    "- 順序尺度\n",
    "\n",
    "量的変数は、\n",
    "- 間隔尺度\n",
    "- 比例尺度\n",
    "\n",
    "に細かく分類でき、この４つの尺度のことを **尺度水準** という\n",
    "\n",
    "#### 名義尺度\n",
    "単に分類するための変数。\n",
    "目的が区別することのため、等しいかどうかのみに意味があり、大小関係、和や差、比などに意味はない。\n",
    "\n",
    "#### 順序尺度\n",
    "順序関係や大小関係に意味のある変数。\n",
    "大小関係に意味はあるが、比較することや変数の数値が２倍だとしても意味的に２倍である、ということは主張できない。\n",
    "\n",
    "#### 間隔尺度\n",
    "大小関係に加え、差に意味がある変数。\n",
    "変数の数値に大小関係に加えて差にも意味があるが、変数の数値の比率については意味を持たせられない。\n",
    "\n",
    "#### 比例尺度\n",
    "大小関係、差、比、すべてに意味がある変数。\n",
    "変数の数値が倍であれば、倍であると考えられる。\n",
    "間隔尺度と比例尺度を見分けるコツとして、０が絶対的な無を表すかどうかを考えるとよい。\n",
    "\n",
    "| 尺度水準 | 例     | 大小比較 | 差   | 比   |\n",
    "|------|-------|------|-----|-----|\n",
    "| 名義尺度 | 生徒番号  | ✕    | ✕   | ✕   |\n",
    "| 順序尺度 | 成績の順位 | 〇    | ✕   | ✕   |\n",
    "| 間隔尺度 | 気温    | 〇    | 〇   | ✕   |\n",
    "| 比例尺度 | 身長    | 〇    | 〇   | 〇   |"
   ],
   "metadata": {
    "collapsed": false,
    "pycharm": {
     "name": "#%% md\n"
    }
   }
  },
  {
   "cell_type": "markdown",
   "source": [
    "### 離散型変数と連続型変数\n",
    "#### 離散型\n",
    "とびとびの値をとり、隣り合う数字の間には値が存在しないこと。\n",
    "\n",
    "#### 連続型\n",
    "連続の値をとることができ、どんな２つの数字の間にも必ず数字が存在する。\n",
    "実際に扱う Data は連続型変数でも測定精度が有限であるため、とりうる値はとぼとびになってしまうことに注意する。その場合は通常、連続型変数として取り扱う。"
   ],
   "metadata": {
    "collapsed": false,
    "pycharm": {
     "name": "#%% md\n"
    }
   }
  },
  {
   "cell_type": "code",
   "execution_count": 11,
   "outputs": [
    {
     "data": {
      "text/plain": "      学年    握力  上体起こし  点数  順位\n生徒番号                         \n1      1  40.2     34  15   4\n2      1  34.2     14   7  10\n3      1  28.8     27  11   7\n4      2  39.0     27  14   5\n5      2  50.9     32  17   2\n6      2  36.5     20   9   9\n7      3  36.6     31  13   6\n8      3  49.2     37  18   1\n9      3  26.0     28  10   8\n10     3  47.4     32  16   3",
      "text/html": "<div>\n<style scoped>\n    .dataframe tbody tr th:only-of-type {\n        vertical-align: middle;\n    }\n\n    .dataframe tbody tr th {\n        vertical-align: top;\n    }\n\n    .dataframe thead th {\n        text-align: right;\n    }\n</style>\n<table border=\"1\" class=\"dataframe\">\n  <thead>\n    <tr style=\"text-align: right;\">\n      <th></th>\n      <th>学年</th>\n      <th>握力</th>\n      <th>上体起こし</th>\n      <th>点数</th>\n      <th>順位</th>\n    </tr>\n    <tr>\n      <th>生徒番号</th>\n      <th></th>\n      <th></th>\n      <th></th>\n      <th></th>\n      <th></th>\n    </tr>\n  </thead>\n  <tbody>\n    <tr>\n      <th>1</th>\n      <td>1</td>\n      <td>40.2</td>\n      <td>34</td>\n      <td>15</td>\n      <td>4</td>\n    </tr>\n    <tr>\n      <th>2</th>\n      <td>1</td>\n      <td>34.2</td>\n      <td>14</td>\n      <td>7</td>\n      <td>10</td>\n    </tr>\n    <tr>\n      <th>3</th>\n      <td>1</td>\n      <td>28.8</td>\n      <td>27</td>\n      <td>11</td>\n      <td>7</td>\n    </tr>\n    <tr>\n      <th>4</th>\n      <td>2</td>\n      <td>39.0</td>\n      <td>27</td>\n      <td>14</td>\n      <td>5</td>\n    </tr>\n    <tr>\n      <th>5</th>\n      <td>2</td>\n      <td>50.9</td>\n      <td>32</td>\n      <td>17</td>\n      <td>2</td>\n    </tr>\n    <tr>\n      <th>6</th>\n      <td>2</td>\n      <td>36.5</td>\n      <td>20</td>\n      <td>9</td>\n      <td>9</td>\n    </tr>\n    <tr>\n      <th>7</th>\n      <td>3</td>\n      <td>36.6</td>\n      <td>31</td>\n      <td>13</td>\n      <td>6</td>\n    </tr>\n    <tr>\n      <th>8</th>\n      <td>3</td>\n      <td>49.2</td>\n      <td>37</td>\n      <td>18</td>\n      <td>1</td>\n    </tr>\n    <tr>\n      <th>9</th>\n      <td>3</td>\n      <td>26.0</td>\n      <td>28</td>\n      <td>10</td>\n      <td>8</td>\n    </tr>\n    <tr>\n      <th>10</th>\n      <td>3</td>\n      <td>47.4</td>\n      <td>32</td>\n      <td>16</td>\n      <td>3</td>\n    </tr>\n  </tbody>\n</table>\n</div>"
     },
     "execution_count": 11,
     "metadata": {},
     "output_type": "execute_result"
    }
   ],
   "source": [
    "df"
   ],
   "metadata": {
    "collapsed": false,
    "pycharm": {
     "name": "#%%\n"
    }
   }
  },
  {
   "cell_type": "markdown",
   "source": [
    "### まとめ\n",
    "生徒番号: 名義尺度\n",
    "学年: 間隔尺度、離散型\n",
    "握力：比例尺度、連続型\n",
    "上体起こし: 比例尺度、離散型\n",
    "点数: 比例尺度、連続型（※離散型と判断が難しいが一般的に連続型とされる）\n",
    "順位: 順序尺度、離散型\n",
    "\n",
    "Data の大きさは `Pandas` で簡単にわかるが変数の分類、性質は分析者が判断する必要がある。"
   ],
   "metadata": {
    "collapsed": false,
    "pycharm": {
     "name": "#%% md\n"
    }
   }
  },
  {
   "cell_type": "code",
   "execution_count": null,
   "outputs": [],
   "source": [],
   "metadata": {
    "collapsed": false,
    "pycharm": {
     "name": "#%%\n"
    }
   }
  }
 ],
 "metadata": {
  "kernelspec": {
   "display_name": "Python 3",
   "language": "python",
   "name": "python3"
  },
  "language_info": {
   "codemirror_mode": {
    "name": "ipython",
    "version": 2
   },
   "file_extension": ".py",
   "mimetype": "text/x-python",
   "name": "python",
   "nbconvert_exporter": "python",
   "pygments_lexer": "ipython2",
   "version": "2.7.6"
  }
 },
 "nbformat": 4,
 "nbformat_minor": 0
}